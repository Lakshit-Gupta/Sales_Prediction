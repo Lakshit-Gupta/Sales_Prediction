{
 "cells": [
  {
   "cell_type": "code",
   "execution_count": 1,
   "id": "c9622d16-6184-4a32-bbac-9b3e4de32bf7",
   "metadata": {},
   "outputs": [],
   "source": [
    "import gc\n",
    "import torch\n",
    "\n",
    "gc.collect()\n",
    "torch.cuda.empty_cache()\n"
   ]
  },
  {
   "cell_type": "code",
   "execution_count": 2,
   "id": "3ea411ff-2b27-4e5f-8782-31c357901b30",
   "metadata": {},
   "outputs": [
    {
     "data": {
      "text/html": [
       "<div><style>\n",
       ".dataframe > thead > tr,\n",
       ".dataframe > tbody > tr {\n",
       "  text-align: right;\n",
       "  white-space: pre-wrap;\n",
       "}\n",
       "</style>\n",
       "<small>shape: (5, 6)</small><table border=\"1\" class=\"dataframe\"><thead><tr><th>id</th><th>date</th><th>store_nbr</th><th>item_nbr</th><th>unit_sales</th><th>onpromotion</th></tr><tr><td>i64</td><td>str</td><td>i64</td><td>i64</td><td>f64</td><td>str</td></tr></thead><tbody><tr><td>0</td><td>&quot;2013-01-01&quot;</td><td>25</td><td>103665</td><td>7.0</td><td>null</td></tr><tr><td>1</td><td>&quot;2013-01-01&quot;</td><td>25</td><td>105574</td><td>1.0</td><td>null</td></tr><tr><td>2</td><td>&quot;2013-01-01&quot;</td><td>25</td><td>105575</td><td>2.0</td><td>null</td></tr><tr><td>3</td><td>&quot;2013-01-01&quot;</td><td>25</td><td>108079</td><td>1.0</td><td>null</td></tr><tr><td>4</td><td>&quot;2013-01-01&quot;</td><td>25</td><td>108701</td><td>1.0</td><td>null</td></tr></tbody></table></div>"
      ],
      "text/plain": [
       "shape: (5, 6)\n",
       "┌─────┬────────────┬───────────┬──────────┬────────────┬─────────────┐\n",
       "│ id  ┆ date       ┆ store_nbr ┆ item_nbr ┆ unit_sales ┆ onpromotion │\n",
       "│ --- ┆ ---        ┆ ---       ┆ ---      ┆ ---        ┆ ---         │\n",
       "│ i64 ┆ str        ┆ i64       ┆ i64      ┆ f64        ┆ str         │\n",
       "╞═════╪════════════╪═══════════╪══════════╪════════════╪═════════════╡\n",
       "│ 0   ┆ 2013-01-01 ┆ 25        ┆ 103665   ┆ 7.0        ┆ null        │\n",
       "│ 1   ┆ 2013-01-01 ┆ 25        ┆ 105574   ┆ 1.0        ┆ null        │\n",
       "│ 2   ┆ 2013-01-01 ┆ 25        ┆ 105575   ┆ 2.0        ┆ null        │\n",
       "│ 3   ┆ 2013-01-01 ┆ 25        ┆ 108079   ┆ 1.0        ┆ null        │\n",
       "│ 4   ┆ 2013-01-01 ┆ 25        ┆ 108701   ┆ 1.0        ┆ null        │\n",
       "└─────┴────────────┴───────────┴──────────┴────────────┴─────────────┘"
      ]
     },
     "execution_count": 2,
     "metadata": {},
     "output_type": "execute_result"
    }
   ],
   "source": [
    "import polars as pl\n",
    "df = pl.read_csv(\"DataSet_1/train.csv\")\n",
    "df.head()"
   ]
  },
  {
   "cell_type": "code",
   "execution_count": null,
   "id": "9bc3b8e1-cb33-4a4e-ba56-6ceff1cf98f6",
   "metadata": {},
   "outputs": [],
   "source": []
  },
  {
   "cell_type": "markdown",
   "id": "30456cd3-f4f2-4bc9-b030-dc1514395d4e",
   "metadata": {},
   "source": [
    "#### Checking if on promotion is useful"
   ]
  },
  {
   "cell_type": "code",
   "execution_count": 3,
   "id": "fc937e0c-b265-4d12-9b0a-87d3a9b63ccb",
   "metadata": {},
   "outputs": [
    {
     "data": {
      "text/html": [
       "<div><style>\n",
       ".dataframe > thead > tr,\n",
       ".dataframe > tbody > tr {\n",
       "  text-align: right;\n",
       "  white-space: pre-wrap;\n",
       "}\n",
       "</style>\n",
       "<small>shape: (3,)</small><table border=\"1\" class=\"dataframe\"><thead><tr><th>onpromotion</th></tr><tr><td>str</td></tr></thead><tbody><tr><td>&quot;True&quot;</td></tr><tr><td>null</td></tr><tr><td>&quot;False&quot;</td></tr></tbody></table></div>"
      ],
      "text/plain": [
       "shape: (3,)\n",
       "Series: 'onpromotion' [str]\n",
       "[\n",
       "\t\"True\"\n",
       "\tnull\n",
       "\t\"False\"\n",
       "]"
      ]
     },
     "execution_count": 3,
     "metadata": {},
     "output_type": "execute_result"
    }
   ],
   "source": [
    "df['onpromotion'].unique()"
   ]
  },
  {
   "cell_type": "code",
   "execution_count": 4,
   "id": "5cf1cd75-3d05-4252-afb1-b49676bf1abf",
   "metadata": {},
   "outputs": [
    {
     "data": {
      "text/plain": [
       "['id', 'date', 'store_nbr', 'item_nbr', 'unit_sales', 'onpromotion']"
      ]
     },
     "execution_count": 4,
     "metadata": {},
     "output_type": "execute_result"
    }
   ],
   "source": [
    "df.columns"
   ]
  },
  {
   "cell_type": "code",
   "execution_count": 5,
   "id": "5ce37a3d-4637-4f98-b903-44a107929559",
   "metadata": {},
   "outputs": [
    {
     "name": "stdout",
     "output_type": "stream",
     "text": [
      "shape: (1, 1)\n",
      "┌─────────────┐\n",
      "│ correlation │\n",
      "│ ---         │\n",
      "│ f64         │\n",
      "╞═════════════╡\n",
      "│ 0.053606    │\n",
      "└─────────────┘\n"
     ]
    }
   ],
   "source": [
    "# Convert 'onpromotion' to binary:\n",
    "# - \"True\" -> 1\n",
    "# - \"False\" and null -> 0\n",
    "df = df.with_columns(\n",
    "    (pl.when(pl.col('onpromotion') == \"True\")\n",
    "       .then(1)\n",
    "       .otherwise(0)\n",
    "     ).alias('is_onpromotion')\n",
    ")\n",
    "\n",
    "# Calculate Pearson correlation\n",
    "correlation = df.select([\n",
    "    pl.corr('is_onpromotion', 'unit_sales').alias('correlation')\n",
    "])\n",
    "\n",
    "print(correlation)"
   ]
  },
  {
   "cell_type": "code",
   "execution_count": 6,
   "id": "6f63b537-681f-4b35-a16c-8b2a8a029e1f",
   "metadata": {},
   "outputs": [
    {
     "data": {
      "text/html": [
       "<div><style>\n",
       ".dataframe > thead > tr,\n",
       ".dataframe > tbody > tr {\n",
       "  text-align: right;\n",
       "  white-space: pre-wrap;\n",
       "}\n",
       "</style>\n",
       "<small>shape: (2,)</small><table border=\"1\" class=\"dataframe\"><thead><tr><th>is_onpromotion</th></tr><tr><td>i32</td></tr></thead><tbody><tr><td>0</td></tr><tr><td>1</td></tr></tbody></table></div>"
      ],
      "text/plain": [
       "shape: (2,)\n",
       "Series: 'is_onpromotion' [i32]\n",
       "[\n",
       "\t0\n",
       "\t1\n",
       "]"
      ]
     },
     "execution_count": 6,
     "metadata": {},
     "output_type": "execute_result"
    }
   ],
   "source": [
    "df[\"is_onpromotion\"].unique()"
   ]
  },
  {
   "cell_type": "code",
   "execution_count": 7,
   "id": "649c0fad-4c8c-4122-9cef-69edf1034a46",
   "metadata": {},
   "outputs": [],
   "source": [
    "df = df.drop(\"onpromotion\")"
   ]
  },
  {
   "cell_type": "code",
   "execution_count": 8,
   "id": "15f048cb-2300-4439-81b2-803db76de60c",
   "metadata": {},
   "outputs": [
    {
     "data": {
      "text/html": [
       "<div><style>\n",
       ".dataframe > thead > tr,\n",
       ".dataframe > tbody > tr {\n",
       "  text-align: right;\n",
       "  white-space: pre-wrap;\n",
       "}\n",
       "</style>\n",
       "<small>shape: (5, 6)</small><table border=\"1\" class=\"dataframe\"><thead><tr><th>id</th><th>date</th><th>store_nbr</th><th>item_nbr</th><th>unit_sales</th><th>is_onpromotion</th></tr><tr><td>i64</td><td>str</td><td>i64</td><td>i64</td><td>f64</td><td>i32</td></tr></thead><tbody><tr><td>0</td><td>&quot;2013-01-01&quot;</td><td>25</td><td>103665</td><td>7.0</td><td>0</td></tr><tr><td>1</td><td>&quot;2013-01-01&quot;</td><td>25</td><td>105574</td><td>1.0</td><td>0</td></tr><tr><td>2</td><td>&quot;2013-01-01&quot;</td><td>25</td><td>105575</td><td>2.0</td><td>0</td></tr><tr><td>3</td><td>&quot;2013-01-01&quot;</td><td>25</td><td>108079</td><td>1.0</td><td>0</td></tr><tr><td>4</td><td>&quot;2013-01-01&quot;</td><td>25</td><td>108701</td><td>1.0</td><td>0</td></tr></tbody></table></div>"
      ],
      "text/plain": [
       "shape: (5, 6)\n",
       "┌─────┬────────────┬───────────┬──────────┬────────────┬────────────────┐\n",
       "│ id  ┆ date       ┆ store_nbr ┆ item_nbr ┆ unit_sales ┆ is_onpromotion │\n",
       "│ --- ┆ ---        ┆ ---       ┆ ---      ┆ ---        ┆ ---            │\n",
       "│ i64 ┆ str        ┆ i64       ┆ i64      ┆ f64        ┆ i32            │\n",
       "╞═════╪════════════╪═══════════╪══════════╪════════════╪════════════════╡\n",
       "│ 0   ┆ 2013-01-01 ┆ 25        ┆ 103665   ┆ 7.0        ┆ 0              │\n",
       "│ 1   ┆ 2013-01-01 ┆ 25        ┆ 105574   ┆ 1.0        ┆ 0              │\n",
       "│ 2   ┆ 2013-01-01 ┆ 25        ┆ 105575   ┆ 2.0        ┆ 0              │\n",
       "│ 3   ┆ 2013-01-01 ┆ 25        ┆ 108079   ┆ 1.0        ┆ 0              │\n",
       "│ 4   ┆ 2013-01-01 ┆ 25        ┆ 108701   ┆ 1.0        ┆ 0              │\n",
       "└─────┴────────────┴───────────┴──────────┴────────────┴────────────────┘"
      ]
     },
     "execution_count": 8,
     "metadata": {},
     "output_type": "execute_result"
    }
   ],
   "source": [
    "df.head()"
   ]
  },
  {
   "cell_type": "markdown",
   "id": "968fd578-805b-4ad5-9591-34e596f14338",
   "metadata": {},
   "source": [
    "## merging holiday.csv"
   ]
  },
  {
   "cell_type": "code",
   "execution_count": 9,
   "id": "d448ffc9-c37f-4398-ba12-e946a23a0949",
   "metadata": {},
   "outputs": [
    {
     "data": {
      "text/html": [
       "<div><style>\n",
       ".dataframe > thead > tr,\n",
       ".dataframe > tbody > tr {\n",
       "  text-align: right;\n",
       "  white-space: pre-wrap;\n",
       "}\n",
       "</style>\n",
       "<small>shape: (5, 6)</small><table border=\"1\" class=\"dataframe\"><thead><tr><th>date</th><th>type</th><th>locale</th><th>locale_name</th><th>description</th><th>transferred</th></tr><tr><td>str</td><td>str</td><td>str</td><td>str</td><td>str</td><td>bool</td></tr></thead><tbody><tr><td>&quot;2012-03-02&quot;</td><td>&quot;Holiday&quot;</td><td>&quot;Local&quot;</td><td>&quot;Manta&quot;</td><td>&quot;Fundacion de Manta&quot;</td><td>false</td></tr><tr><td>&quot;2012-04-01&quot;</td><td>&quot;Holiday&quot;</td><td>&quot;Regional&quot;</td><td>&quot;Cotopaxi&quot;</td><td>&quot;Provincializacion de Cotopaxi&quot;</td><td>false</td></tr><tr><td>&quot;2012-04-12&quot;</td><td>&quot;Holiday&quot;</td><td>&quot;Local&quot;</td><td>&quot;Cuenca&quot;</td><td>&quot;Fundacion de Cuenca&quot;</td><td>false</td></tr><tr><td>&quot;2012-04-14&quot;</td><td>&quot;Holiday&quot;</td><td>&quot;Local&quot;</td><td>&quot;Libertad&quot;</td><td>&quot;Cantonizacion de Libertad&quot;</td><td>false</td></tr><tr><td>&quot;2012-04-21&quot;</td><td>&quot;Holiday&quot;</td><td>&quot;Local&quot;</td><td>&quot;Riobamba&quot;</td><td>&quot;Cantonizacion de Riobamba&quot;</td><td>false</td></tr></tbody></table></div>"
      ],
      "text/plain": [
       "shape: (5, 6)\n",
       "┌────────────┬─────────┬──────────┬─────────────┬───────────────────────────────┬─────────────┐\n",
       "│ date       ┆ type    ┆ locale   ┆ locale_name ┆ description                   ┆ transferred │\n",
       "│ ---        ┆ ---     ┆ ---      ┆ ---         ┆ ---                           ┆ ---         │\n",
       "│ str        ┆ str     ┆ str      ┆ str         ┆ str                           ┆ bool        │\n",
       "╞════════════╪═════════╪══════════╪═════════════╪═══════════════════════════════╪═════════════╡\n",
       "│ 2012-03-02 ┆ Holiday ┆ Local    ┆ Manta       ┆ Fundacion de Manta            ┆ false       │\n",
       "│ 2012-04-01 ┆ Holiday ┆ Regional ┆ Cotopaxi    ┆ Provincializacion de Cotopaxi ┆ false       │\n",
       "│ 2012-04-12 ┆ Holiday ┆ Local    ┆ Cuenca      ┆ Fundacion de Cuenca           ┆ false       │\n",
       "│ 2012-04-14 ┆ Holiday ┆ Local    ┆ Libertad    ┆ Cantonizacion de Libertad     ┆ false       │\n",
       "│ 2012-04-21 ┆ Holiday ┆ Local    ┆ Riobamba    ┆ Cantonizacion de Riobamba     ┆ false       │\n",
       "└────────────┴─────────┴──────────┴─────────────┴───────────────────────────────┴─────────────┘"
      ]
     },
     "execution_count": 9,
     "metadata": {},
     "output_type": "execute_result"
    }
   ],
   "source": [
    "# Load holidays.csv\n",
    "holidays_df = pl.read_csv('DataSet_1/holidays_events.csv')\n",
    "holidays_df.head()\n"
   ]
  },
  {
   "cell_type": "code",
   "execution_count": 10,
   "id": "9f61a457-4de6-489f-bd01-324acef55f5b",
   "metadata": {},
   "outputs": [
    {
     "data": {
      "text/html": [
       "<div><style>\n",
       ".dataframe > thead > tr,\n",
       ".dataframe > tbody > tr {\n",
       "  text-align: right;\n",
       "  white-space: pre-wrap;\n",
       "}\n",
       "</style>\n",
       "<small>shape: (6,)</small><table border=\"1\" class=\"dataframe\"><thead><tr><th>type</th></tr><tr><td>str</td></tr></thead><tbody><tr><td>&quot;Holiday&quot;</td></tr><tr><td>&quot;Event&quot;</td></tr><tr><td>&quot;Work Day&quot;</td></tr><tr><td>&quot;Additional&quot;</td></tr><tr><td>&quot;Transfer&quot;</td></tr><tr><td>&quot;Bridge&quot;</td></tr></tbody></table></div>"
      ],
      "text/plain": [
       "shape: (6,)\n",
       "Series: 'type' [str]\n",
       "[\n",
       "\t\"Holiday\"\n",
       "\t\"Event\"\n",
       "\t\"Work Day\"\n",
       "\t\"Additional\"\n",
       "\t\"Transfer\"\n",
       "\t\"Bridge\"\n",
       "]"
      ]
     },
     "execution_count": 10,
     "metadata": {},
     "output_type": "execute_result"
    }
   ],
   "source": [
    "holidays_df['type'].unique()"
   ]
  },
  {
   "cell_type": "markdown",
   "id": "6ee45457-2ee7-4d34-bd3c-5f240262611f",
   "metadata": {},
   "source": [
    "#### creating a new column with binary ---> is holiday or not (1,0).."
   ]
  },
  {
   "cell_type": "code",
   "execution_count": 11,
   "id": "ab041585-84a0-4051-b335-cfede2094b3a",
   "metadata": {},
   "outputs": [
    {
     "name": "stdout",
     "output_type": "stream",
     "text": [
      "shape: (5, 10)\n",
      "┌─────┬────────────┬───────────┬──────────┬───┬─────────┬──────────┬─────────────┬────────────┐\n",
      "│ id  ┆ date       ┆ store_nbr ┆ item_nbr ┆ … ┆ type    ┆ locale   ┆ locale_name ┆ is_holiday │\n",
      "│ --- ┆ ---        ┆ ---       ┆ ---      ┆   ┆ ---     ┆ ---      ┆ ---         ┆ ---        │\n",
      "│ i64 ┆ str        ┆ i64       ┆ i64      ┆   ┆ str     ┆ str      ┆ str         ┆ i8         │\n",
      "╞═════╪════════════╪═══════════╪══════════╪═══╪═════════╪══════════╪═════════════╪════════════╡\n",
      "│ 0   ┆ 2013-01-01 ┆ 25        ┆ 103665   ┆ … ┆ Holiday ┆ National ┆ Ecuador     ┆ 1          │\n",
      "│ 1   ┆ 2013-01-01 ┆ 25        ┆ 105574   ┆ … ┆ Holiday ┆ National ┆ Ecuador     ┆ 1          │\n",
      "│ 2   ┆ 2013-01-01 ┆ 25        ┆ 105575   ┆ … ┆ Holiday ┆ National ┆ Ecuador     ┆ 1          │\n",
      "│ 3   ┆ 2013-01-01 ┆ 25        ┆ 108079   ┆ … ┆ Holiday ┆ National ┆ Ecuador     ┆ 1          │\n",
      "│ 4   ┆ 2013-01-01 ┆ 25        ┆ 108701   ┆ … ┆ Holiday ┆ National ┆ Ecuador     ┆ 1          │\n",
      "└─────┴────────────┴───────────┴──────────┴───┴─────────┴──────────┴─────────────┴────────────┘\n"
     ]
    }
   ],
   "source": [
    "# Merge with holidays_df on 'date'\n",
    "df = df.join(holidays_df[['date', 'type', 'locale', 'locale_name']], on='date', how='left')\n",
    "\n",
    "# Create a new column 'is_holiday' (1 if holiday, 0 otherwise)\n",
    "df = df.with_columns(\n",
    "    (pl.col('type') == \"Holiday\").cast(pl.Int8).alias('is_holiday')\n",
    ")\n",
    "\n",
    "# Print the first few rows to verify\n",
    "print(df.head())"
   ]
  },
  {
   "cell_type": "code",
   "execution_count": 13,
   "id": "a3bdbcf8-cf64-48c0-8df9-165dfea3312a",
   "metadata": {},
   "outputs": [
    {
     "data": {
      "text/plain": [
       "['id',\n",
       " 'date',\n",
       " 'store_nbr',\n",
       " 'item_nbr',\n",
       " 'unit_sales',\n",
       " 'is_onpromotion',\n",
       " 'type',\n",
       " 'locale',\n",
       " 'locale_name',\n",
       " 'is_holiday']"
      ]
     },
     "execution_count": 13,
     "metadata": {},
     "output_type": "execute_result"
    }
   ],
   "source": [
    "df.columns"
   ]
  },
  {
   "cell_type": "code",
   "execution_count": 14,
   "id": "8e35087d-0a48-4cc2-9541-b4926dbfb0d4",
   "metadata": {},
   "outputs": [],
   "source": [
    "df = df.drop(['type', 'locale', 'locale_name'])"
   ]
  },
  {
   "cell_type": "code",
   "execution_count": 16,
   "id": "e9a5b427-8eac-4f10-9899-505dbda0a238",
   "metadata": {},
   "outputs": [
    {
     "data": {
      "text/plain": [
       "['id',\n",
       " 'date',\n",
       " 'store_nbr',\n",
       " 'item_nbr',\n",
       " 'unit_sales',\n",
       " 'is_onpromotion',\n",
       " 'is_holiday']"
      ]
     },
     "execution_count": 16,
     "metadata": {},
     "output_type": "execute_result"
    }
   ],
   "source": [
    "df.columns"
   ]
  },
  {
   "cell_type": "code",
   "execution_count": 15,
   "id": "d96275e3-5919-4519-9a4e-b5aad30f29ed",
   "metadata": {},
   "outputs": [
    {
     "data": {
      "text/html": [
       "<div><style>\n",
       ".dataframe > thead > tr,\n",
       ".dataframe > tbody > tr {\n",
       "  text-align: right;\n",
       "  white-space: pre-wrap;\n",
       "}\n",
       "</style>\n",
       "<small>shape: (5, 7)</small><table border=\"1\" class=\"dataframe\"><thead><tr><th>id</th><th>date</th><th>store_nbr</th><th>item_nbr</th><th>unit_sales</th><th>is_onpromotion</th><th>is_holiday</th></tr><tr><td>i64</td><td>str</td><td>i64</td><td>i64</td><td>f64</td><td>i32</td><td>i8</td></tr></thead><tbody><tr><td>0</td><td>&quot;2013-01-01&quot;</td><td>25</td><td>103665</td><td>7.0</td><td>0</td><td>1</td></tr><tr><td>1</td><td>&quot;2013-01-01&quot;</td><td>25</td><td>105574</td><td>1.0</td><td>0</td><td>1</td></tr><tr><td>2</td><td>&quot;2013-01-01&quot;</td><td>25</td><td>105575</td><td>2.0</td><td>0</td><td>1</td></tr><tr><td>3</td><td>&quot;2013-01-01&quot;</td><td>25</td><td>108079</td><td>1.0</td><td>0</td><td>1</td></tr><tr><td>4</td><td>&quot;2013-01-01&quot;</td><td>25</td><td>108701</td><td>1.0</td><td>0</td><td>1</td></tr></tbody></table></div>"
      ],
      "text/plain": [
       "shape: (5, 7)\n",
       "┌─────┬────────────┬───────────┬──────────┬────────────┬────────────────┬────────────┐\n",
       "│ id  ┆ date       ┆ store_nbr ┆ item_nbr ┆ unit_sales ┆ is_onpromotion ┆ is_holiday │\n",
       "│ --- ┆ ---        ┆ ---       ┆ ---      ┆ ---        ┆ ---            ┆ ---        │\n",
       "│ i64 ┆ str        ┆ i64       ┆ i64      ┆ f64        ┆ i32            ┆ i8         │\n",
       "╞═════╪════════════╪═══════════╪══════════╪════════════╪════════════════╪════════════╡\n",
       "│ 0   ┆ 2013-01-01 ┆ 25        ┆ 103665   ┆ 7.0        ┆ 0              ┆ 1          │\n",
       "│ 1   ┆ 2013-01-01 ┆ 25        ┆ 105574   ┆ 1.0        ┆ 0              ┆ 1          │\n",
       "│ 2   ┆ 2013-01-01 ┆ 25        ┆ 105575   ┆ 2.0        ┆ 0              ┆ 1          │\n",
       "│ 3   ┆ 2013-01-01 ┆ 25        ┆ 108079   ┆ 1.0        ┆ 0              ┆ 1          │\n",
       "│ 4   ┆ 2013-01-01 ┆ 25        ┆ 108701   ┆ 1.0        ┆ 0              ┆ 1          │\n",
       "└─────┴────────────┴───────────┴──────────┴────────────┴────────────────┴────────────┘"
      ]
     },
     "execution_count": 15,
     "metadata": {},
     "output_type": "execute_result"
    }
   ],
   "source": [
    "df.head()"
   ]
  },
  {
   "cell_type": "markdown",
   "id": "1dba5903-23cd-426a-b3b9-d45f64d90ae1",
   "metadata": {},
   "source": [
    "## merging transaction.csv"
   ]
  },
  {
   "cell_type": "code",
   "execution_count": 17,
   "id": "8c356ad6-b5d6-4a94-a768-6009c416dbad",
   "metadata": {},
   "outputs": [],
   "source": [
    "transactions_df = pl.read_csv('DataSet_1/transactions.csv')"
   ]
  },
  {
   "cell_type": "code",
   "execution_count": 18,
   "id": "a05b7b15-13a3-4b5a-afdd-d429f9b940b9",
   "metadata": {},
   "outputs": [
    {
     "data": {
      "text/html": [
       "<div><style>\n",
       ".dataframe > thead > tr,\n",
       ".dataframe > tbody > tr {\n",
       "  text-align: right;\n",
       "  white-space: pre-wrap;\n",
       "}\n",
       "</style>\n",
       "<small>shape: (5, 3)</small><table border=\"1\" class=\"dataframe\"><thead><tr><th>date</th><th>store_nbr</th><th>transactions</th></tr><tr><td>str</td><td>i64</td><td>i64</td></tr></thead><tbody><tr><td>&quot;2013-01-01&quot;</td><td>25</td><td>770</td></tr><tr><td>&quot;2013-01-02&quot;</td><td>1</td><td>2111</td></tr><tr><td>&quot;2013-01-02&quot;</td><td>2</td><td>2358</td></tr><tr><td>&quot;2013-01-02&quot;</td><td>3</td><td>3487</td></tr><tr><td>&quot;2013-01-02&quot;</td><td>4</td><td>1922</td></tr></tbody></table></div>"
      ],
      "text/plain": [
       "shape: (5, 3)\n",
       "┌────────────┬───────────┬──────────────┐\n",
       "│ date       ┆ store_nbr ┆ transactions │\n",
       "│ ---        ┆ ---       ┆ ---          │\n",
       "│ str        ┆ i64       ┆ i64          │\n",
       "╞════════════╪═══════════╪══════════════╡\n",
       "│ 2013-01-01 ┆ 25        ┆ 770          │\n",
       "│ 2013-01-02 ┆ 1         ┆ 2111         │\n",
       "│ 2013-01-02 ┆ 2         ┆ 2358         │\n",
       "│ 2013-01-02 ┆ 3         ┆ 3487         │\n",
       "│ 2013-01-02 ┆ 4         ┆ 1922         │\n",
       "└────────────┴───────────┴──────────────┘"
      ]
     },
     "execution_count": 18,
     "metadata": {},
     "output_type": "execute_result"
    }
   ],
   "source": [
    "transactions_df.head()"
   ]
  },
  {
   "cell_type": "code",
   "execution_count": 19,
   "id": "d4a1509b-bb4e-46f3-ac5f-47da0908c2de",
   "metadata": {},
   "outputs": [
    {
     "data": {
      "text/html": [
       "<div><style>\n",
       ".dataframe > thead > tr,\n",
       ".dataframe > tbody > tr {\n",
       "  text-align: right;\n",
       "  white-space: pre-wrap;\n",
       "}\n",
       "</style>\n",
       "<small>shape: (83_488, 3)</small><table border=\"1\" class=\"dataframe\"><thead><tr><th>date</th><th>store_nbr</th><th>transactions</th></tr><tr><td>str</td><td>i64</td><td>i64</td></tr></thead><tbody><tr><td>&quot;2013-01-01&quot;</td><td>25</td><td>770</td></tr><tr><td>&quot;2013-01-02&quot;</td><td>1</td><td>2111</td></tr><tr><td>&quot;2013-01-02&quot;</td><td>2</td><td>2358</td></tr><tr><td>&quot;2013-01-02&quot;</td><td>3</td><td>3487</td></tr><tr><td>&quot;2013-01-02&quot;</td><td>4</td><td>1922</td></tr><tr><td>&hellip;</td><td>&hellip;</td><td>&hellip;</td></tr><tr><td>&quot;2017-08-15&quot;</td><td>50</td><td>2804</td></tr><tr><td>&quot;2017-08-15&quot;</td><td>51</td><td>1573</td></tr><tr><td>&quot;2017-08-15&quot;</td><td>52</td><td>2255</td></tr><tr><td>&quot;2017-08-15&quot;</td><td>53</td><td>932</td></tr><tr><td>&quot;2017-08-15&quot;</td><td>54</td><td>802</td></tr></tbody></table></div>"
      ],
      "text/plain": [
       "shape: (83_488, 3)\n",
       "┌────────────┬───────────┬──────────────┐\n",
       "│ date       ┆ store_nbr ┆ transactions │\n",
       "│ ---        ┆ ---       ┆ ---          │\n",
       "│ str        ┆ i64       ┆ i64          │\n",
       "╞════════════╪═══════════╪══════════════╡\n",
       "│ 2013-01-01 ┆ 25        ┆ 770          │\n",
       "│ 2013-01-02 ┆ 1         ┆ 2111         │\n",
       "│ 2013-01-02 ┆ 2         ┆ 2358         │\n",
       "│ 2013-01-02 ┆ 3         ┆ 3487         │\n",
       "│ 2013-01-02 ┆ 4         ┆ 1922         │\n",
       "│ …          ┆ …         ┆ …            │\n",
       "│ 2017-08-15 ┆ 50        ┆ 2804         │\n",
       "│ 2017-08-15 ┆ 51        ┆ 1573         │\n",
       "│ 2017-08-15 ┆ 52        ┆ 2255         │\n",
       "│ 2017-08-15 ┆ 53        ┆ 932          │\n",
       "│ 2017-08-15 ┆ 54        ┆ 802          │\n",
       "└────────────┴───────────┴──────────────┘"
      ]
     },
     "execution_count": 19,
     "metadata": {},
     "output_type": "execute_result"
    }
   ],
   "source": [
    "transactions_df"
   ]
  },
  {
   "cell_type": "code",
   "execution_count": 20,
   "id": "92f5851e-7e26-4572-b850-8edbe235239e",
   "metadata": {},
   "outputs": [],
   "source": [
    "df = df.join(transactions_df[['date', 'store_nbr', 'transactions']], on=['date', 'store_nbr'], how='left')"
   ]
  },
  {
   "cell_type": "code",
   "execution_count": 21,
   "id": "14a02321-6537-4e8d-850b-5c7253d7a5d8",
   "metadata": {},
   "outputs": [],
   "source": [
    "df = df.with_columns(\n",
    "    pl.col('transactions').fill_null(0)\n",
    ")"
   ]
  },
  {
   "cell_type": "code",
   "execution_count": 22,
   "id": "1dd6765d-872b-4e30-a182-0759ae01ca90",
   "metadata": {},
   "outputs": [
    {
     "data": {
      "text/html": [
       "<div><style>\n",
       ".dataframe > thead > tr,\n",
       ".dataframe > tbody > tr {\n",
       "  text-align: right;\n",
       "  white-space: pre-wrap;\n",
       "}\n",
       "</style>\n",
       "<small>shape: (5, 8)</small><table border=\"1\" class=\"dataframe\"><thead><tr><th>id</th><th>date</th><th>store_nbr</th><th>item_nbr</th><th>unit_sales</th><th>is_onpromotion</th><th>is_holiday</th><th>transactions</th></tr><tr><td>i64</td><td>str</td><td>i64</td><td>i64</td><td>f64</td><td>i32</td><td>i8</td><td>i64</td></tr></thead><tbody><tr><td>0</td><td>&quot;2013-01-01&quot;</td><td>25</td><td>103665</td><td>7.0</td><td>0</td><td>1</td><td>770</td></tr><tr><td>1</td><td>&quot;2013-01-01&quot;</td><td>25</td><td>105574</td><td>1.0</td><td>0</td><td>1</td><td>770</td></tr><tr><td>2</td><td>&quot;2013-01-01&quot;</td><td>25</td><td>105575</td><td>2.0</td><td>0</td><td>1</td><td>770</td></tr><tr><td>3</td><td>&quot;2013-01-01&quot;</td><td>25</td><td>108079</td><td>1.0</td><td>0</td><td>1</td><td>770</td></tr><tr><td>4</td><td>&quot;2013-01-01&quot;</td><td>25</td><td>108701</td><td>1.0</td><td>0</td><td>1</td><td>770</td></tr></tbody></table></div>"
      ],
      "text/plain": [
       "shape: (5, 8)\n",
       "┌─────┬────────────┬───────────┬──────────┬────────────┬───────────────┬────────────┬──────────────┐\n",
       "│ id  ┆ date       ┆ store_nbr ┆ item_nbr ┆ unit_sales ┆ is_onpromotio ┆ is_holiday ┆ transactions │\n",
       "│ --- ┆ ---        ┆ ---       ┆ ---      ┆ ---        ┆ n             ┆ ---        ┆ ---          │\n",
       "│ i64 ┆ str        ┆ i64       ┆ i64      ┆ f64        ┆ ---           ┆ i8         ┆ i64          │\n",
       "│     ┆            ┆           ┆          ┆            ┆ i32           ┆            ┆              │\n",
       "╞═════╪════════════╪═══════════╪══════════╪════════════╪═══════════════╪════════════╪══════════════╡\n",
       "│ 0   ┆ 2013-01-01 ┆ 25        ┆ 103665   ┆ 7.0        ┆ 0             ┆ 1          ┆ 770          │\n",
       "│ 1   ┆ 2013-01-01 ┆ 25        ┆ 105574   ┆ 1.0        ┆ 0             ┆ 1          ┆ 770          │\n",
       "│ 2   ┆ 2013-01-01 ┆ 25        ┆ 105575   ┆ 2.0        ┆ 0             ┆ 1          ┆ 770          │\n",
       "│ 3   ┆ 2013-01-01 ┆ 25        ┆ 108079   ┆ 1.0        ┆ 0             ┆ 1          ┆ 770          │\n",
       "│ 4   ┆ 2013-01-01 ┆ 25        ┆ 108701   ┆ 1.0        ┆ 0             ┆ 1          ┆ 770          │\n",
       "└─────┴────────────┴───────────┴──────────┴────────────┴───────────────┴────────────┴──────────────┘"
      ]
     },
     "execution_count": 22,
     "metadata": {},
     "output_type": "execute_result"
    }
   ],
   "source": [
    "df.head()"
   ]
  },
  {
   "cell_type": "code",
   "execution_count": 36,
   "id": "3e40b636-bc16-4f4e-bfcb-c933bcf61c91",
   "metadata": {},
   "outputs": [],
   "source": [
    "def optimize_dtypes(df):\n",
    "    \"\"\"Optimizes data types of a Polars DataFrame, using unsigned ints where possible.\"\"\"\n",
    "\n",
    "    for col in df.columns:\n",
    "        if df[col].dtype == pl.Utf8 or df[col].dtype == pl.Boolean:  # Skip strings and booleans\n",
    "            continue\n",
    "\n",
    "        min_val = df[col].min()\n",
    "        max_val = df[col].max()\n",
    "\n",
    "        if df[col].dtype == pl.Int8 or df[col].dtype == pl.Int16 or df[col].dtype == pl.Int32 or df[col].dtype == pl.Int64:\n",
    "            if min_val >= 0:  # Check for non-negative values - Use Unsigned if possible\n",
    "                if max_val < 2**8:\n",
    "                    df = df.with_columns(pl.col(col).cast(pl.UInt8))\n",
    "                elif max_val < 2**16:\n",
    "                    df = df.with_columns(pl.col(col).cast(pl.UInt16))\n",
    "                elif max_val < 2**32:\n",
    "                    df = df.with_columns(pl.col(col).cast(pl.UInt32))\n",
    "            else:  # Signed integer if negative values are present\n",
    "                if min_val >= -2**7 and max_val < 2**7:\n",
    "                    df = df.with_columns(pl.col(col).cast(pl.Int8))\n",
    "                elif min_val >= -2**15 and max_val < 2**15:\n",
    "                    df = df.with_columns(pl.col(col).cast(pl.Int16))\n",
    "                elif min_val >= -2**31 and max_val < 2**31:\n",
    "                    df = df.with_columns(pl.col(col).cast(pl.Int32))\n",
    "\n",
    "        elif df[col].dtype == pl.UInt8 or df[col].dtype == pl.UInt16 or df[col].dtype == pl.UInt32 or df[col].dtype == pl.UInt64:\n",
    "            if max_val < 2**8:\n",
    "                df = df.with_columns(pl.col(col).cast(pl.UInt8))\n",
    "            elif max_val < 2**16:\n",
    "                df = df.with_columns(pl.col(col).cast(pl.UInt16))\n",
    "            elif max_val < 2**32:\n",
    "                df = df.with_columns(pl.col(col).cast(pl.UInt32))\n",
    "\n",
    "        elif df[col].dtype == pl.Float32 or df[col].dtype == pl.Float64:\n",
    "            if min_val >= np.finfo(np.float32).min and max_val <= np.finfo(np.float32).max:\n",
    "                df = df.with_columns(pl.col(col).cast(pl.Float32))  # Cast to Float32 if possible\n",
    "\n",
    "    return df"
   ]
  },
  {
   "cell_type": "code",
   "execution_count": 37,
   "id": "ac3e8b9b-9134-4821-b926-de94f7df6037",
   "metadata": {},
   "outputs": [
    {
     "data": {
      "text/plain": [
       "polars.dataframe.frame.DataFrame"
      ]
     },
     "execution_count": 37,
     "metadata": {},
     "output_type": "execute_result"
    }
   ],
   "source": [
    "type(df)"
   ]
  },
  {
   "cell_type": "code",
   "execution_count": 38,
   "id": "bf190583-9052-4630-89d5-3211e11dc21f",
   "metadata": {},
   "outputs": [],
   "source": [
    "df = optimize_dtypes(df)\n"
   ]
  },
  {
   "cell_type": "code",
   "execution_count": 39,
   "id": "06b033e1-0b55-48d3-ae21-930e5fc67ea6",
   "metadata": {},
   "outputs": [
    {
     "data": {
      "text/html": [
       "<div><style>\n",
       ".dataframe > thead > tr,\n",
       ".dataframe > tbody > tr {\n",
       "  text-align: right;\n",
       "  white-space: pre-wrap;\n",
       "}\n",
       "</style>\n",
       "<small>shape: (127_970_257, 8)</small><table border=\"1\" class=\"dataframe\"><thead><tr><th>id</th><th>date</th><th>store_nbr</th><th>item_nbr</th><th>unit_sales</th><th>is_onpromotion</th><th>is_holiday</th><th>transactions</th></tr><tr><td>u32</td><td>str</td><td>u8</td><td>u32</td><td>f32</td><td>u8</td><td>u8</td><td>u16</td></tr></thead><tbody><tr><td>0</td><td>&quot;2013-01-01&quot;</td><td>25</td><td>103665</td><td>7.0</td><td>0</td><td>1</td><td>770</td></tr><tr><td>1</td><td>&quot;2013-01-01&quot;</td><td>25</td><td>105574</td><td>1.0</td><td>0</td><td>1</td><td>770</td></tr><tr><td>2</td><td>&quot;2013-01-01&quot;</td><td>25</td><td>105575</td><td>2.0</td><td>0</td><td>1</td><td>770</td></tr><tr><td>3</td><td>&quot;2013-01-01&quot;</td><td>25</td><td>108079</td><td>1.0</td><td>0</td><td>1</td><td>770</td></tr><tr><td>4</td><td>&quot;2013-01-01&quot;</td><td>25</td><td>108701</td><td>1.0</td><td>0</td><td>1</td><td>770</td></tr><tr><td>&hellip;</td><td>&hellip;</td><td>&hellip;</td><td>&hellip;</td><td>&hellip;</td><td>&hellip;</td><td>&hellip;</td><td>&hellip;</td></tr><tr><td>125497035</td><td>&quot;2017-08-15&quot;</td><td>54</td><td>2089339</td><td>4.0</td><td>0</td><td>1</td><td>802</td></tr><tr><td>125497036</td><td>&quot;2017-08-15&quot;</td><td>54</td><td>2106464</td><td>1.0</td><td>1</td><td>1</td><td>802</td></tr><tr><td>125497037</td><td>&quot;2017-08-15&quot;</td><td>54</td><td>2110456</td><td>192.0</td><td>0</td><td>1</td><td>802</td></tr><tr><td>125497038</td><td>&quot;2017-08-15&quot;</td><td>54</td><td>2113914</td><td>198.0</td><td>1</td><td>1</td><td>802</td></tr><tr><td>125497039</td><td>&quot;2017-08-15&quot;</td><td>54</td><td>2116416</td><td>2.0</td><td>0</td><td>1</td><td>802</td></tr></tbody></table></div>"
      ],
      "text/plain": [
       "shape: (127_970_257, 8)\n",
       "┌───────────┬────────────┬───────────┬──────────┬────────────┬────────────┬────────────┬───────────┐\n",
       "│ id        ┆ date       ┆ store_nbr ┆ item_nbr ┆ unit_sales ┆ is_onpromo ┆ is_holiday ┆ transacti │\n",
       "│ ---       ┆ ---        ┆ ---       ┆ ---      ┆ ---        ┆ tion       ┆ ---        ┆ ons       │\n",
       "│ u32       ┆ str        ┆ u8        ┆ u32      ┆ f32        ┆ ---        ┆ u8         ┆ ---       │\n",
       "│           ┆            ┆           ┆          ┆            ┆ u8         ┆            ┆ u16       │\n",
       "╞═══════════╪════════════╪═══════════╪══════════╪════════════╪════════════╪════════════╪═══════════╡\n",
       "│ 0         ┆ 2013-01-01 ┆ 25        ┆ 103665   ┆ 7.0        ┆ 0          ┆ 1          ┆ 770       │\n",
       "│ 1         ┆ 2013-01-01 ┆ 25        ┆ 105574   ┆ 1.0        ┆ 0          ┆ 1          ┆ 770       │\n",
       "│ 2         ┆ 2013-01-01 ┆ 25        ┆ 105575   ┆ 2.0        ┆ 0          ┆ 1          ┆ 770       │\n",
       "│ 3         ┆ 2013-01-01 ┆ 25        ┆ 108079   ┆ 1.0        ┆ 0          ┆ 1          ┆ 770       │\n",
       "│ 4         ┆ 2013-01-01 ┆ 25        ┆ 108701   ┆ 1.0        ┆ 0          ┆ 1          ┆ 770       │\n",
       "│ …         ┆ …          ┆ …         ┆ …        ┆ …          ┆ …          ┆ …          ┆ …         │\n",
       "│ 125497035 ┆ 2017-08-15 ┆ 54        ┆ 2089339  ┆ 4.0        ┆ 0          ┆ 1          ┆ 802       │\n",
       "│ 125497036 ┆ 2017-08-15 ┆ 54        ┆ 2106464  ┆ 1.0        ┆ 1          ┆ 1          ┆ 802       │\n",
       "│ 125497037 ┆ 2017-08-15 ┆ 54        ┆ 2110456  ┆ 192.0      ┆ 0          ┆ 1          ┆ 802       │\n",
       "│ 125497038 ┆ 2017-08-15 ┆ 54        ┆ 2113914  ┆ 198.0      ┆ 1          ┆ 1          ┆ 802       │\n",
       "│ 125497039 ┆ 2017-08-15 ┆ 54        ┆ 2116416  ┆ 2.0        ┆ 0          ┆ 1          ┆ 802       │\n",
       "└───────────┴────────────┴───────────┴──────────┴────────────┴────────────┴────────────┴───────────┘"
      ]
     },
     "execution_count": 39,
     "metadata": {},
     "output_type": "execute_result"
    }
   ],
   "source": [
    "df"
   ]
  },
  {
   "cell_type": "markdown",
   "id": "abf810b8-c9c1-4dba-9e74-b569361fa2f4",
   "metadata": {},
   "source": [
    "##### Saving the file"
   ]
  },
  {
   "cell_type": "code",
   "execution_count": 40,
   "id": "b2bfb1e7-202d-498c-892c-a3602cab952d",
   "metadata": {},
   "outputs": [],
   "source": [
    "df.write_parquet('merged_file_optimized_dtypes.paraquet')\n"
   ]
  },
  {
   "cell_type": "markdown",
   "id": "5d66517d-a638-4f36-8625-40ff597a1a56",
   "metadata": {},
   "source": [
    "## Feature Engineering"
   ]
  },
  {
   "cell_type": "code",
   "execution_count": 41,
   "id": "c324a429-1a94-4f97-89b7-21f27c56302d",
   "metadata": {},
   "outputs": [],
   "source": [
    "import gc\n",
    "import torch\n",
    "\n",
    "gc.collect()\n",
    "torch.cuda.empty_cache()"
   ]
  },
  {
   "cell_type": "code",
   "execution_count": 42,
   "id": "c069d0de-fb68-4f15-af58-e280af5c1344",
   "metadata": {},
   "outputs": [],
   "source": [
    "import numpy as np\n",
    "import polars as pl"
   ]
  },
  {
   "cell_type": "code",
   "execution_count": 43,
   "id": "a6687fb1-bb2f-4f90-93f8-42b13752d6fc",
   "metadata": {},
   "outputs": [],
   "source": [
    "df = pl.read_parquet('merged_file_optimized_dtypes.paraquet')"
   ]
  },
  {
   "cell_type": "code",
   "execution_count": 46,
   "id": "d946a741-5261-433c-9def-4b255425b6ac",
   "metadata": {},
   "outputs": [
    {
     "data": {
      "text/html": [
       "<div><style>\n",
       ".dataframe > thead > tr,\n",
       ".dataframe > tbody > tr {\n",
       "  text-align: right;\n",
       "  white-space: pre-wrap;\n",
       "}\n",
       "</style>\n",
       "<small>shape: (5, 8)</small><table border=\"1\" class=\"dataframe\"><thead><tr><th>id</th><th>date</th><th>store_nbr</th><th>item_nbr</th><th>unit_sales</th><th>is_onpromotion</th><th>is_holiday</th><th>transactions</th></tr><tr><td>u32</td><td>str</td><td>u8</td><td>u32</td><td>f32</td><td>u8</td><td>u8</td><td>u16</td></tr></thead><tbody><tr><td>0</td><td>&quot;2013-01-01&quot;</td><td>25</td><td>103665</td><td>7.0</td><td>0</td><td>1</td><td>770</td></tr><tr><td>1</td><td>&quot;2013-01-01&quot;</td><td>25</td><td>105574</td><td>1.0</td><td>0</td><td>1</td><td>770</td></tr><tr><td>2</td><td>&quot;2013-01-01&quot;</td><td>25</td><td>105575</td><td>2.0</td><td>0</td><td>1</td><td>770</td></tr><tr><td>3</td><td>&quot;2013-01-01&quot;</td><td>25</td><td>108079</td><td>1.0</td><td>0</td><td>1</td><td>770</td></tr><tr><td>4</td><td>&quot;2013-01-01&quot;</td><td>25</td><td>108701</td><td>1.0</td><td>0</td><td>1</td><td>770</td></tr></tbody></table></div>"
      ],
      "text/plain": [
       "shape: (5, 8)\n",
       "┌─────┬────────────┬───────────┬──────────┬────────────┬───────────────┬────────────┬──────────────┐\n",
       "│ id  ┆ date       ┆ store_nbr ┆ item_nbr ┆ unit_sales ┆ is_onpromotio ┆ is_holiday ┆ transactions │\n",
       "│ --- ┆ ---        ┆ ---       ┆ ---      ┆ ---        ┆ n             ┆ ---        ┆ ---          │\n",
       "│ u32 ┆ str        ┆ u8        ┆ u32      ┆ f32        ┆ ---           ┆ u8         ┆ u16          │\n",
       "│     ┆            ┆           ┆          ┆            ┆ u8            ┆            ┆              │\n",
       "╞═════╪════════════╪═══════════╪══════════╪════════════╪═══════════════╪════════════╪══════════════╡\n",
       "│ 0   ┆ 2013-01-01 ┆ 25        ┆ 103665   ┆ 7.0        ┆ 0             ┆ 1          ┆ 770          │\n",
       "│ 1   ┆ 2013-01-01 ┆ 25        ┆ 105574   ┆ 1.0        ┆ 0             ┆ 1          ┆ 770          │\n",
       "│ 2   ┆ 2013-01-01 ┆ 25        ┆ 105575   ┆ 2.0        ┆ 0             ┆ 1          ┆ 770          │\n",
       "│ 3   ┆ 2013-01-01 ┆ 25        ┆ 108079   ┆ 1.0        ┆ 0             ┆ 1          ┆ 770          │\n",
       "│ 4   ┆ 2013-01-01 ┆ 25        ┆ 108701   ┆ 1.0        ┆ 0             ┆ 1          ┆ 770          │\n",
       "└─────┴────────────┴───────────┴──────────┴────────────┴───────────────┴────────────┴──────────────┘"
      ]
     },
     "execution_count": 46,
     "metadata": {},
     "output_type": "execute_result"
    }
   ],
   "source": [
    "df.head()"
   ]
  },
  {
   "cell_type": "code",
   "execution_count": 44,
   "id": "e83c9ab9-85bb-4824-9d76-15b5121984a4",
   "metadata": {},
   "outputs": [
    {
     "data": {
      "text/plain": [
       "(127970257, 8)"
      ]
     },
     "execution_count": 44,
     "metadata": {},
     "output_type": "execute_result"
    }
   ],
   "source": [
    "df.shape"
   ]
  },
  {
   "cell_type": "code",
   "execution_count": 51,
   "id": "00551385-c4c0-48b2-8aaa-ce7954fae99d",
   "metadata": {},
   "outputs": [
    {
     "data": {
      "text/plain": [
       "<bound method DataFrame.estimated_size of shape: (127_970_257, 8)\n",
       "┌───────────┬────────────┬───────────┬──────────┬────────────┬────────────┬────────────┬───────────┐\n",
       "│ id        ┆ date       ┆ store_nbr ┆ item_nbr ┆ unit_sales ┆ is_onpromo ┆ is_holiday ┆ transacti │\n",
       "│ ---       ┆ ---        ┆ ---       ┆ ---      ┆ ---        ┆ tion       ┆ ---        ┆ ons       │\n",
       "│ u32       ┆ str        ┆ u8        ┆ u32      ┆ f32        ┆ ---        ┆ u8         ┆ ---       │\n",
       "│           ┆            ┆           ┆          ┆            ┆ u8         ┆            ┆ u16       │\n",
       "╞═══════════╪════════════╪═══════════╪══════════╪════════════╪════════════╪════════════╪═══════════╡\n",
       "│ 0         ┆ 2013-01-01 ┆ 25        ┆ 103665   ┆ 7.0        ┆ 0          ┆ 1          ┆ 770       │\n",
       "│ 1         ┆ 2013-01-01 ┆ 25        ┆ 105574   ┆ 1.0        ┆ 0          ┆ 1          ┆ 770       │\n",
       "│ 2         ┆ 2013-01-01 ┆ 25        ┆ 105575   ┆ 2.0        ┆ 0          ┆ 1          ┆ 770       │\n",
       "│ 3         ┆ 2013-01-01 ┆ 25        ┆ 108079   ┆ 1.0        ┆ 0          ┆ 1          ┆ 770       │\n",
       "│ 4         ┆ 2013-01-01 ┆ 25        ┆ 108701   ┆ 1.0        ┆ 0          ┆ 1          ┆ 770       │\n",
       "│ …         ┆ …          ┆ …         ┆ …        ┆ …          ┆ …          ┆ …          ┆ …         │\n",
       "│ 125497035 ┆ 2017-08-15 ┆ 54        ┆ 2089339  ┆ 4.0        ┆ 0          ┆ 1          ┆ 802       │\n",
       "│ 125497036 ┆ 2017-08-15 ┆ 54        ┆ 2106464  ┆ 1.0        ┆ 1          ┆ 1          ┆ 802       │\n",
       "│ 125497037 ┆ 2017-08-15 ┆ 54        ┆ 2110456  ┆ 192.0      ┆ 0          ┆ 1          ┆ 802       │\n",
       "│ 125497038 ┆ 2017-08-15 ┆ 54        ┆ 2113914  ┆ 198.0      ┆ 1          ┆ 1          ┆ 802       │\n",
       "│ 125497039 ┆ 2017-08-15 ┆ 54        ┆ 2116416  ┆ 2.0        ┆ 0          ┆ 1          ┆ 802       │\n",
       "└───────────┴────────────┴───────────┴──────────┴────────────┴────────────┴────────────┴───────────┘>"
      ]
     },
     "execution_count": 51,
     "metadata": {},
     "output_type": "execute_result"
    }
   ],
   "source": [
    "df.estimated_size"
   ]
  },
  {
   "cell_type": "code",
   "execution_count": 52,
   "id": "d59d8f90-7d96-4f5a-b953-5f11866c8ab9",
   "metadata": {},
   "outputs": [],
   "source": [
    "# Convert 'date' column to datetime\n",
    "df = df.with_columns(pl.col('date').str.strptime(pl.Date).alias('date'))"
   ]
  },
  {
   "cell_type": "code",
   "execution_count": 53,
   "id": "6f3d8b13-7c44-4fe3-a579-1ba155fdd1d4",
   "metadata": {},
   "outputs": [],
   "source": [
    "# 2. Handle missing values (check and fill if needed)\n",
    "df = df.with_columns(\n",
    "    pl.col('unit_sales').fill_null(0)\n",
    ")"
   ]
  },
  {
   "cell_type": "code",
   "execution_count": 54,
   "id": "ff1c4060-8515-4609-8b54-046da352e712",
   "metadata": {},
   "outputs": [],
   "source": [
    "df = df.with_columns([\n",
    "    pl.col('date').dt.day().alias('day'),\n",
    "    pl.col('date').dt.month().alias('month'),\n",
    "    pl.col('date').dt.weekday().alias('weekday'),\n",
    "    pl.col('date').dt.year().alias('year'),\n",
    "])"
   ]
  },
  {
   "cell_type": "code",
   "execution_count": 55,
   "id": "fc009209-1980-4933-b5b1-4921541940b9",
   "metadata": {},
   "outputs": [],
   "source": [
    "# 1. Log transformation of 'unit_sales' using log1p (log(1 + x))\n",
    "df = df.with_columns(\n",
    "    (pl.col('unit_sales') + 1).log().alias('log_unit_sales')\n",
    ")"
   ]
  },
  {
   "cell_type": "code",
   "execution_count": 56,
   "id": "88dc69ba-638a-4179-8102-935dd7b68b96",
   "metadata": {},
   "outputs": [],
   "source": [
    "# 2. Z-score normalization of 'log_unit_sales' (if needed)\n",
    "mean_unit_sales = df.select(pl.col('log_unit_sales').mean()).to_numpy()[0][0]\n",
    "std_unit_sales = df.select(pl.col('log_unit_sales').std()).to_numpy()[0][0]\n"
   ]
  },
  {
   "cell_type": "code",
   "execution_count": 57,
   "id": "3c3849db-8fe3-4aa8-8e0c-87974dfe25f7",
   "metadata": {},
   "outputs": [],
   "source": [
    "df = df.with_columns(\n",
    "    ((pl.col('log_unit_sales') - mean_unit_sales) / std_unit_sales).alias('normalized_unit_sales')\n",
    ")"
   ]
  },
  {
   "cell_type": "code",
   "execution_count": 58,
   "id": "36d055d9-2ebe-4dc1-9ea9-5deeb9145284",
   "metadata": {},
   "outputs": [
    {
     "data": {
      "text/html": [
       "<div><style>\n",
       ".dataframe > thead > tr,\n",
       ".dataframe > tbody > tr {\n",
       "  text-align: right;\n",
       "  white-space: pre-wrap;\n",
       "}\n",
       "</style>\n",
       "<small>shape: (5, 14)</small><table border=\"1\" class=\"dataframe\"><thead><tr><th>id</th><th>date</th><th>store_nbr</th><th>item_nbr</th><th>unit_sales</th><th>is_onpromotion</th><th>is_holiday</th><th>transactions</th><th>day</th><th>month</th><th>weekday</th><th>year</th><th>log_unit_sales</th><th>normalized_unit_sales</th></tr><tr><td>u32</td><td>date</td><td>u8</td><td>u32</td><td>f32</td><td>u8</td><td>u8</td><td>u16</td><td>i8</td><td>i8</td><td>i8</td><td>i32</td><td>f32</td><td>f32</td></tr></thead><tbody><tr><td>0</td><td>2013-01-01</td><td>25</td><td>103665</td><td>7.0</td><td>0</td><td>1</td><td>770</td><td>1</td><td>1</td><td>2</td><td>2013</td><td>2.079442</td><td>NaN</td></tr><tr><td>1</td><td>2013-01-01</td><td>25</td><td>105574</td><td>1.0</td><td>0</td><td>1</td><td>770</td><td>1</td><td>1</td><td>2</td><td>2013</td><td>0.693147</td><td>NaN</td></tr><tr><td>2</td><td>2013-01-01</td><td>25</td><td>105575</td><td>2.0</td><td>0</td><td>1</td><td>770</td><td>1</td><td>1</td><td>2</td><td>2013</td><td>1.098612</td><td>NaN</td></tr><tr><td>3</td><td>2013-01-01</td><td>25</td><td>108079</td><td>1.0</td><td>0</td><td>1</td><td>770</td><td>1</td><td>1</td><td>2</td><td>2013</td><td>0.693147</td><td>NaN</td></tr><tr><td>4</td><td>2013-01-01</td><td>25</td><td>108701</td><td>1.0</td><td>0</td><td>1</td><td>770</td><td>1</td><td>1</td><td>2</td><td>2013</td><td>0.693147</td><td>NaN</td></tr></tbody></table></div>"
      ],
      "text/plain": [
       "shape: (5, 14)\n",
       "┌─────┬────────────┬───────────┬──────────┬───┬─────────┬──────┬────────────────┬──────────────────┐\n",
       "│ id  ┆ date       ┆ store_nbr ┆ item_nbr ┆ … ┆ weekday ┆ year ┆ log_unit_sales ┆ normalized_unit_ │\n",
       "│ --- ┆ ---        ┆ ---       ┆ ---      ┆   ┆ ---     ┆ ---  ┆ ---            ┆ sales            │\n",
       "│ u32 ┆ date       ┆ u8        ┆ u32      ┆   ┆ i8      ┆ i32  ┆ f32            ┆ ---              │\n",
       "│     ┆            ┆           ┆          ┆   ┆         ┆      ┆                ┆ f32              │\n",
       "╞═════╪════════════╪═══════════╪══════════╪═══╪═════════╪══════╪════════════════╪══════════════════╡\n",
       "│ 0   ┆ 2013-01-01 ┆ 25        ┆ 103665   ┆ … ┆ 2       ┆ 2013 ┆ 2.079442       ┆ NaN              │\n",
       "│ 1   ┆ 2013-01-01 ┆ 25        ┆ 105574   ┆ … ┆ 2       ┆ 2013 ┆ 0.693147       ┆ NaN              │\n",
       "│ 2   ┆ 2013-01-01 ┆ 25        ┆ 105575   ┆ … ┆ 2       ┆ 2013 ┆ 1.098612       ┆ NaN              │\n",
       "│ 3   ┆ 2013-01-01 ┆ 25        ┆ 108079   ┆ … ┆ 2       ┆ 2013 ┆ 0.693147       ┆ NaN              │\n",
       "│ 4   ┆ 2013-01-01 ┆ 25        ┆ 108701   ┆ … ┆ 2       ┆ 2013 ┆ 0.693147       ┆ NaN              │\n",
       "└─────┴────────────┴───────────┴──────────┴───┴─────────┴──────┴────────────────┴──────────────────┘"
      ]
     },
     "execution_count": 58,
     "metadata": {},
     "output_type": "execute_result"
    }
   ],
   "source": [
    "df.head()"
   ]
  },
  {
   "cell_type": "code",
   "execution_count": 59,
   "id": "38a34fb0-1788-41e3-ba28-b5f8943918db",
   "metadata": {},
   "outputs": [],
   "source": [
    "#df = df.drop('id')\n",
    "df = df.drop('normalized_unit_sales')"
   ]
  },
  {
   "cell_type": "code",
   "execution_count": 60,
   "id": "c1fb9a7f-c26f-4c9a-9439-7a7c3dda2d60",
   "metadata": {},
   "outputs": [
    {
     "data": {
      "text/html": [
       "<div><style>\n",
       ".dataframe > thead > tr,\n",
       ".dataframe > tbody > tr {\n",
       "  text-align: right;\n",
       "  white-space: pre-wrap;\n",
       "}\n",
       "</style>\n",
       "<small>shape: (5, 13)</small><table border=\"1\" class=\"dataframe\"><thead><tr><th>id</th><th>date</th><th>store_nbr</th><th>item_nbr</th><th>unit_sales</th><th>is_onpromotion</th><th>is_holiday</th><th>transactions</th><th>day</th><th>month</th><th>weekday</th><th>year</th><th>log_unit_sales</th></tr><tr><td>u32</td><td>date</td><td>u8</td><td>u32</td><td>f32</td><td>u8</td><td>u8</td><td>u16</td><td>i8</td><td>i8</td><td>i8</td><td>i32</td><td>f32</td></tr></thead><tbody><tr><td>0</td><td>2013-01-01</td><td>25</td><td>103665</td><td>7.0</td><td>0</td><td>1</td><td>770</td><td>1</td><td>1</td><td>2</td><td>2013</td><td>2.079442</td></tr><tr><td>1</td><td>2013-01-01</td><td>25</td><td>105574</td><td>1.0</td><td>0</td><td>1</td><td>770</td><td>1</td><td>1</td><td>2</td><td>2013</td><td>0.693147</td></tr><tr><td>2</td><td>2013-01-01</td><td>25</td><td>105575</td><td>2.0</td><td>0</td><td>1</td><td>770</td><td>1</td><td>1</td><td>2</td><td>2013</td><td>1.098612</td></tr><tr><td>3</td><td>2013-01-01</td><td>25</td><td>108079</td><td>1.0</td><td>0</td><td>1</td><td>770</td><td>1</td><td>1</td><td>2</td><td>2013</td><td>0.693147</td></tr><tr><td>4</td><td>2013-01-01</td><td>25</td><td>108701</td><td>1.0</td><td>0</td><td>1</td><td>770</td><td>1</td><td>1</td><td>2</td><td>2013</td><td>0.693147</td></tr></tbody></table></div>"
      ],
      "text/plain": [
       "shape: (5, 13)\n",
       "┌─────┬────────────┬───────────┬──────────┬───┬───────┬─────────┬──────┬────────────────┐\n",
       "│ id  ┆ date       ┆ store_nbr ┆ item_nbr ┆ … ┆ month ┆ weekday ┆ year ┆ log_unit_sales │\n",
       "│ --- ┆ ---        ┆ ---       ┆ ---      ┆   ┆ ---   ┆ ---     ┆ ---  ┆ ---            │\n",
       "│ u32 ┆ date       ┆ u8        ┆ u32      ┆   ┆ i8    ┆ i8      ┆ i32  ┆ f32            │\n",
       "╞═════╪════════════╪═══════════╪══════════╪═══╪═══════╪═════════╪══════╪════════════════╡\n",
       "│ 0   ┆ 2013-01-01 ┆ 25        ┆ 103665   ┆ … ┆ 1     ┆ 2       ┆ 2013 ┆ 2.079442       │\n",
       "│ 1   ┆ 2013-01-01 ┆ 25        ┆ 105574   ┆ … ┆ 1     ┆ 2       ┆ 2013 ┆ 0.693147       │\n",
       "│ 2   ┆ 2013-01-01 ┆ 25        ┆ 105575   ┆ … ┆ 1     ┆ 2       ┆ 2013 ┆ 1.098612       │\n",
       "│ 3   ┆ 2013-01-01 ┆ 25        ┆ 108079   ┆ … ┆ 1     ┆ 2       ┆ 2013 ┆ 0.693147       │\n",
       "│ 4   ┆ 2013-01-01 ┆ 25        ┆ 108701   ┆ … ┆ 1     ┆ 2       ┆ 2013 ┆ 0.693147       │\n",
       "└─────┴────────────┴───────────┴──────────┴───┴───────┴─────────┴──────┴────────────────┘"
      ]
     },
     "execution_count": 60,
     "metadata": {},
     "output_type": "execute_result"
    }
   ],
   "source": [
    "df.head()"
   ]
  },
  {
   "cell_type": "code",
   "execution_count": 61,
   "id": "7598ab2f-5f7b-4ae1-b462-3fa5235f181c",
   "metadata": {},
   "outputs": [
    {
     "data": {
      "text/html": [
       "<div><style>\n",
       ".dataframe > thead > tr,\n",
       ".dataframe > tbody > tr {\n",
       "  text-align: right;\n",
       "  white-space: pre-wrap;\n",
       "}\n",
       "</style>\n",
       "<small>shape: (1, 13)</small><table border=\"1\" class=\"dataframe\"><thead><tr><th>id</th><th>date</th><th>store_nbr</th><th>item_nbr</th><th>unit_sales</th><th>is_onpromotion</th><th>is_holiday</th><th>transactions</th><th>day</th><th>month</th><th>weekday</th><th>year</th><th>log_unit_sales</th></tr><tr><td>u32</td><td>u32</td><td>u32</td><td>u32</td><td>u32</td><td>u32</td><td>u32</td><td>u32</td><td>u32</td><td>u32</td><td>u32</td><td>u32</td><td>u32</td></tr></thead><tbody><tr><td>0</td><td>0</td><td>0</td><td>0</td><td>0</td><td>0</td><td>106142049</td><td>0</td><td>0</td><td>0</td><td>0</td><td>0</td><td>0</td></tr></tbody></table></div>"
      ],
      "text/plain": [
       "shape: (1, 13)\n",
       "┌─────┬──────┬───────────┬──────────┬───┬───────┬─────────┬──────┬────────────────┐\n",
       "│ id  ┆ date ┆ store_nbr ┆ item_nbr ┆ … ┆ month ┆ weekday ┆ year ┆ log_unit_sales │\n",
       "│ --- ┆ ---  ┆ ---       ┆ ---      ┆   ┆ ---   ┆ ---     ┆ ---  ┆ ---            │\n",
       "│ u32 ┆ u32  ┆ u32       ┆ u32      ┆   ┆ u32   ┆ u32     ┆ u32  ┆ u32            │\n",
       "╞═════╪══════╪═══════════╪══════════╪═══╪═══════╪═════════╪══════╪════════════════╡\n",
       "│ 0   ┆ 0    ┆ 0         ┆ 0        ┆ … ┆ 0     ┆ 0       ┆ 0    ┆ 0              │\n",
       "└─────┴──────┴───────────┴──────────┴───┴───────┴─────────┴──────┴────────────────┘"
      ]
     },
     "execution_count": 61,
     "metadata": {},
     "output_type": "execute_result"
    }
   ],
   "source": [
    "# Check for nulls in each column\n",
    "df.select([pl.col(c).is_null().sum().alias(c) for c in df.columns])\n"
   ]
  },
  {
   "cell_type": "code",
   "execution_count": 63,
   "id": "adf0f6f5-717c-471e-abe3-f760149b9c24",
   "metadata": {},
   "outputs": [],
   "source": [
    "df = df.with_columns(\n",
    "    pl.col(\"is_holiday\").fill_null(0)\n",
    ")"
   ]
  },
  {
   "cell_type": "code",
   "execution_count": 64,
   "id": "28376dae-03ba-467a-b4e6-8f7e2c7c3596",
   "metadata": {},
   "outputs": [
    {
     "data": {
      "text/html": [
       "<div><style>\n",
       ".dataframe > thead > tr,\n",
       ".dataframe > tbody > tr {\n",
       "  text-align: right;\n",
       "  white-space: pre-wrap;\n",
       "}\n",
       "</style>\n",
       "<small>shape: (1, 13)</small><table border=\"1\" class=\"dataframe\"><thead><tr><th>id</th><th>date</th><th>store_nbr</th><th>item_nbr</th><th>unit_sales</th><th>is_onpromotion</th><th>is_holiday</th><th>transactions</th><th>day</th><th>month</th><th>weekday</th><th>year</th><th>log_unit_sales</th></tr><tr><td>u32</td><td>u32</td><td>u32</td><td>u32</td><td>u32</td><td>u32</td><td>u32</td><td>u32</td><td>u32</td><td>u32</td><td>u32</td><td>u32</td><td>u32</td></tr></thead><tbody><tr><td>0</td><td>0</td><td>0</td><td>0</td><td>0</td><td>0</td><td>0</td><td>0</td><td>0</td><td>0</td><td>0</td><td>0</td><td>0</td></tr></tbody></table></div>"
      ],
      "text/plain": [
       "shape: (1, 13)\n",
       "┌─────┬──────┬───────────┬──────────┬───┬───────┬─────────┬──────┬────────────────┐\n",
       "│ id  ┆ date ┆ store_nbr ┆ item_nbr ┆ … ┆ month ┆ weekday ┆ year ┆ log_unit_sales │\n",
       "│ --- ┆ ---  ┆ ---       ┆ ---      ┆   ┆ ---   ┆ ---     ┆ ---  ┆ ---            │\n",
       "│ u32 ┆ u32  ┆ u32       ┆ u32      ┆   ┆ u32   ┆ u32     ┆ u32  ┆ u32            │\n",
       "╞═════╪══════╪═══════════╪══════════╪═══╪═══════╪═════════╪══════╪════════════════╡\n",
       "│ 0   ┆ 0    ┆ 0         ┆ 0        ┆ … ┆ 0     ┆ 0       ┆ 0    ┆ 0              │\n",
       "└─────┴──────┴───────────┴──────────┴───┴───────┴─────────┴──────┴────────────────┘"
      ]
     },
     "execution_count": 64,
     "metadata": {},
     "output_type": "execute_result"
    }
   ],
   "source": [
    "# Check for nulls in each column\n",
    "df.select([pl.col(c).is_null().sum().alias(c) for c in df.columns])\n"
   ]
  },
  {
   "cell_type": "code",
   "execution_count": 65,
   "id": "7473a226-6b13-4ede-8107-5b0e0a6c1e97",
   "metadata": {},
   "outputs": [
    {
     "data": {
      "text/plain": [
       "['id',\n",
       " 'date',\n",
       " 'store_nbr',\n",
       " 'item_nbr',\n",
       " 'unit_sales',\n",
       " 'is_onpromotion',\n",
       " 'is_holiday',\n",
       " 'transactions',\n",
       " 'day',\n",
       " 'month',\n",
       " 'weekday',\n",
       " 'year',\n",
       " 'log_unit_sales']"
      ]
     },
     "execution_count": 65,
     "metadata": {},
     "output_type": "execute_result"
    }
   ],
   "source": [
    "df.columns"
   ]
  },
  {
   "cell_type": "code",
   "execution_count": 66,
   "id": "f3e4343f-8d76-4e01-b3d8-a2f37beb0c0b",
   "metadata": {},
   "outputs": [
    {
     "data": {
      "text/html": [
       "<div><style>\n",
       ".dataframe > thead > tr,\n",
       ".dataframe > tbody > tr {\n",
       "  text-align: right;\n",
       "  white-space: pre-wrap;\n",
       "}\n",
       "</style>\n",
       "<small>shape: (5, 13)</small><table border=\"1\" class=\"dataframe\"><thead><tr><th>id</th><th>date</th><th>store_nbr</th><th>item_nbr</th><th>unit_sales</th><th>is_onpromotion</th><th>is_holiday</th><th>transactions</th><th>day</th><th>month</th><th>weekday</th><th>year</th><th>log_unit_sales</th></tr><tr><td>u32</td><td>date</td><td>u8</td><td>u32</td><td>f32</td><td>u8</td><td>u8</td><td>u16</td><td>i8</td><td>i8</td><td>i8</td><td>i32</td><td>f32</td></tr></thead><tbody><tr><td>0</td><td>2013-01-01</td><td>25</td><td>103665</td><td>7.0</td><td>0</td><td>1</td><td>770</td><td>1</td><td>1</td><td>2</td><td>2013</td><td>2.079442</td></tr><tr><td>1</td><td>2013-01-01</td><td>25</td><td>105574</td><td>1.0</td><td>0</td><td>1</td><td>770</td><td>1</td><td>1</td><td>2</td><td>2013</td><td>0.693147</td></tr><tr><td>2</td><td>2013-01-01</td><td>25</td><td>105575</td><td>2.0</td><td>0</td><td>1</td><td>770</td><td>1</td><td>1</td><td>2</td><td>2013</td><td>1.098612</td></tr><tr><td>3</td><td>2013-01-01</td><td>25</td><td>108079</td><td>1.0</td><td>0</td><td>1</td><td>770</td><td>1</td><td>1</td><td>2</td><td>2013</td><td>0.693147</td></tr><tr><td>4</td><td>2013-01-01</td><td>25</td><td>108701</td><td>1.0</td><td>0</td><td>1</td><td>770</td><td>1</td><td>1</td><td>2</td><td>2013</td><td>0.693147</td></tr></tbody></table></div>"
      ],
      "text/plain": [
       "shape: (5, 13)\n",
       "┌─────┬────────────┬───────────┬──────────┬───┬───────┬─────────┬──────┬────────────────┐\n",
       "│ id  ┆ date       ┆ store_nbr ┆ item_nbr ┆ … ┆ month ┆ weekday ┆ year ┆ log_unit_sales │\n",
       "│ --- ┆ ---        ┆ ---       ┆ ---      ┆   ┆ ---   ┆ ---     ┆ ---  ┆ ---            │\n",
       "│ u32 ┆ date       ┆ u8        ┆ u32      ┆   ┆ i8    ┆ i8      ┆ i32  ┆ f32            │\n",
       "╞═════╪════════════╪═══════════╪══════════╪═══╪═══════╪═════════╪══════╪════════════════╡\n",
       "│ 0   ┆ 2013-01-01 ┆ 25        ┆ 103665   ┆ … ┆ 1     ┆ 2       ┆ 2013 ┆ 2.079442       │\n",
       "│ 1   ┆ 2013-01-01 ┆ 25        ┆ 105574   ┆ … ┆ 1     ┆ 2       ┆ 2013 ┆ 0.693147       │\n",
       "│ 2   ┆ 2013-01-01 ┆ 25        ┆ 105575   ┆ … ┆ 1     ┆ 2       ┆ 2013 ┆ 1.098612       │\n",
       "│ 3   ┆ 2013-01-01 ┆ 25        ┆ 108079   ┆ … ┆ 1     ┆ 2       ┆ 2013 ┆ 0.693147       │\n",
       "│ 4   ┆ 2013-01-01 ┆ 25        ┆ 108701   ┆ … ┆ 1     ┆ 2       ┆ 2013 ┆ 0.693147       │\n",
       "└─────┴────────────┴───────────┴──────────┴───┴───────┴─────────┴──────┴────────────────┘"
      ]
     },
     "execution_count": 66,
     "metadata": {},
     "output_type": "execute_result"
    }
   ],
   "source": [
    "df.head()"
   ]
  },
  {
   "cell_type": "code",
   "execution_count": 67,
   "id": "2731dbfe-e835-48e9-ae09-a0f1e71761ca",
   "metadata": {},
   "outputs": [],
   "source": [
    "df=optimize_dtypes(df)"
   ]
  },
  {
   "cell_type": "code",
   "execution_count": 68,
   "id": "fd888734-0386-4a57-8fa1-dc8ba18c7eaf",
   "metadata": {},
   "outputs": [
    {
     "data": {
      "text/html": [
       "<div><style>\n",
       ".dataframe > thead > tr,\n",
       ".dataframe > tbody > tr {\n",
       "  text-align: right;\n",
       "  white-space: pre-wrap;\n",
       "}\n",
       "</style>\n",
       "<small>shape: (127_970_257, 13)</small><table border=\"1\" class=\"dataframe\"><thead><tr><th>id</th><th>date</th><th>store_nbr</th><th>item_nbr</th><th>unit_sales</th><th>is_onpromotion</th><th>is_holiday</th><th>transactions</th><th>day</th><th>month</th><th>weekday</th><th>year</th><th>log_unit_sales</th></tr><tr><td>u32</td><td>date</td><td>u8</td><td>u32</td><td>f32</td><td>u8</td><td>u8</td><td>u16</td><td>u8</td><td>u8</td><td>u8</td><td>u16</td><td>f32</td></tr></thead><tbody><tr><td>0</td><td>2013-01-01</td><td>25</td><td>103665</td><td>7.0</td><td>0</td><td>1</td><td>770</td><td>1</td><td>1</td><td>2</td><td>2013</td><td>2.079442</td></tr><tr><td>1</td><td>2013-01-01</td><td>25</td><td>105574</td><td>1.0</td><td>0</td><td>1</td><td>770</td><td>1</td><td>1</td><td>2</td><td>2013</td><td>0.693147</td></tr><tr><td>2</td><td>2013-01-01</td><td>25</td><td>105575</td><td>2.0</td><td>0</td><td>1</td><td>770</td><td>1</td><td>1</td><td>2</td><td>2013</td><td>1.098612</td></tr><tr><td>3</td><td>2013-01-01</td><td>25</td><td>108079</td><td>1.0</td><td>0</td><td>1</td><td>770</td><td>1</td><td>1</td><td>2</td><td>2013</td><td>0.693147</td></tr><tr><td>4</td><td>2013-01-01</td><td>25</td><td>108701</td><td>1.0</td><td>0</td><td>1</td><td>770</td><td>1</td><td>1</td><td>2</td><td>2013</td><td>0.693147</td></tr><tr><td>&hellip;</td><td>&hellip;</td><td>&hellip;</td><td>&hellip;</td><td>&hellip;</td><td>&hellip;</td><td>&hellip;</td><td>&hellip;</td><td>&hellip;</td><td>&hellip;</td><td>&hellip;</td><td>&hellip;</td><td>&hellip;</td></tr><tr><td>125497035</td><td>2017-08-15</td><td>54</td><td>2089339</td><td>4.0</td><td>0</td><td>1</td><td>802</td><td>15</td><td>8</td><td>2</td><td>2017</td><td>1.609438</td></tr><tr><td>125497036</td><td>2017-08-15</td><td>54</td><td>2106464</td><td>1.0</td><td>1</td><td>1</td><td>802</td><td>15</td><td>8</td><td>2</td><td>2017</td><td>0.693147</td></tr><tr><td>125497037</td><td>2017-08-15</td><td>54</td><td>2110456</td><td>192.0</td><td>0</td><td>1</td><td>802</td><td>15</td><td>8</td><td>2</td><td>2017</td><td>5.262691</td></tr><tr><td>125497038</td><td>2017-08-15</td><td>54</td><td>2113914</td><td>198.0</td><td>1</td><td>1</td><td>802</td><td>15</td><td>8</td><td>2</td><td>2017</td><td>5.293305</td></tr><tr><td>125497039</td><td>2017-08-15</td><td>54</td><td>2116416</td><td>2.0</td><td>0</td><td>1</td><td>802</td><td>15</td><td>8</td><td>2</td><td>2017</td><td>1.098612</td></tr></tbody></table></div>"
      ],
      "text/plain": [
       "shape: (127_970_257, 13)\n",
       "┌───────────┬────────────┬───────────┬──────────┬───┬───────┬─────────┬──────┬────────────────┐\n",
       "│ id        ┆ date       ┆ store_nbr ┆ item_nbr ┆ … ┆ month ┆ weekday ┆ year ┆ log_unit_sales │\n",
       "│ ---       ┆ ---        ┆ ---       ┆ ---      ┆   ┆ ---   ┆ ---     ┆ ---  ┆ ---            │\n",
       "│ u32       ┆ date       ┆ u8        ┆ u32      ┆   ┆ u8    ┆ u8      ┆ u16  ┆ f32            │\n",
       "╞═══════════╪════════════╪═══════════╪══════════╪═══╪═══════╪═════════╪══════╪════════════════╡\n",
       "│ 0         ┆ 2013-01-01 ┆ 25        ┆ 103665   ┆ … ┆ 1     ┆ 2       ┆ 2013 ┆ 2.079442       │\n",
       "│ 1         ┆ 2013-01-01 ┆ 25        ┆ 105574   ┆ … ┆ 1     ┆ 2       ┆ 2013 ┆ 0.693147       │\n",
       "│ 2         ┆ 2013-01-01 ┆ 25        ┆ 105575   ┆ … ┆ 1     ┆ 2       ┆ 2013 ┆ 1.098612       │\n",
       "│ 3         ┆ 2013-01-01 ┆ 25        ┆ 108079   ┆ … ┆ 1     ┆ 2       ┆ 2013 ┆ 0.693147       │\n",
       "│ 4         ┆ 2013-01-01 ┆ 25        ┆ 108701   ┆ … ┆ 1     ┆ 2       ┆ 2013 ┆ 0.693147       │\n",
       "│ …         ┆ …          ┆ …         ┆ …        ┆ … ┆ …     ┆ …       ┆ …    ┆ …              │\n",
       "│ 125497035 ┆ 2017-08-15 ┆ 54        ┆ 2089339  ┆ … ┆ 8     ┆ 2       ┆ 2017 ┆ 1.609438       │\n",
       "│ 125497036 ┆ 2017-08-15 ┆ 54        ┆ 2106464  ┆ … ┆ 8     ┆ 2       ┆ 2017 ┆ 0.693147       │\n",
       "│ 125497037 ┆ 2017-08-15 ┆ 54        ┆ 2110456  ┆ … ┆ 8     ┆ 2       ┆ 2017 ┆ 5.262691       │\n",
       "│ 125497038 ┆ 2017-08-15 ┆ 54        ┆ 2113914  ┆ … ┆ 8     ┆ 2       ┆ 2017 ┆ 5.293305       │\n",
       "│ 125497039 ┆ 2017-08-15 ┆ 54        ┆ 2116416  ┆ … ┆ 8     ┆ 2       ┆ 2017 ┆ 1.098612       │\n",
       "└───────────┴────────────┴───────────┴──────────┴───┴───────┴─────────┴──────┴────────────────┘"
      ]
     },
     "execution_count": 68,
     "metadata": {},
     "output_type": "execute_result"
    }
   ],
   "source": [
    "df"
   ]
  },
  {
   "cell_type": "code",
   "execution_count": 70,
   "id": "4baf1295-6e42-45e3-aedc-6c01e6ca33a1",
   "metadata": {},
   "outputs": [],
   "source": [
    "df.write_parquet(\"processed_sales_data_optimized_dtypes.parquet\")\n"
   ]
  }
 ],
 "metadata": {
  "kernelspec": {
   "display_name": "Python 3 (ipykernel)",
   "language": "python",
   "name": "python3"
  },
  "language_info": {
   "codemirror_mode": {
    "name": "ipython",
    "version": 3
   },
   "file_extension": ".py",
   "mimetype": "text/x-python",
   "name": "python",
   "nbconvert_exporter": "python",
   "pygments_lexer": "ipython3",
   "version": "3.10.16"
  }
 },
 "nbformat": 4,
 "nbformat_minor": 5
}
