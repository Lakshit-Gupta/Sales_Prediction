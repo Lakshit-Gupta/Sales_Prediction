{
 "cells": [
  {
   "cell_type": "code",
   "execution_count": 1,
   "id": "2a0c5873-70f4-4b20-a6ad-f8bc4f50f51c",
   "metadata": {},
   "outputs": [
    {
     "name": "stdout",
     "output_type": "stream",
     "text": [
      "2.6.0+cu126\n",
      "True\n"
     ]
    }
   ],
   "source": [
    "import torch\n",
    "print(torch.__version__)\n",
    "print(torch.cuda.is_available())"
   ]
  },
  {
   "cell_type": "code",
   "execution_count": 2,
   "id": "55da3485-0faf-4f0b-a5ab-cd7c0e57cd61",
   "metadata": {},
   "outputs": [],
   "source": [
    "import random\n",
    "random.seed(69)\n",
    "\n",
    "# NumPy random seed\n",
    "import numpy as np\n",
    "np.random.seed(69)\n",
    "\n",
    "# PyTorch random seed\n",
    "import torch\n",
    "torch.manual_seed(69)\n",
    "torch.cuda.manual_seed(69)\n",
    "torch.cuda.manual_seed_all(69)  # If using multi-GPU\n",
    "torch.cuda.empty_cache()\n",
    "torch.backends.cudnn.deterministic = True  # For deterministic results\n",
    "torch.backends.cudnn.benchmark = True  # Disabling to ensure deterministic algorithm\n",
    "torch.backends.cuda.matmul.allow_tf32 = True\n"
   ]
  },
  {
   "cell_type": "code",
   "execution_count": 3,
   "id": "1308ef80-6f57-4d79-9f23-f36262c8ed40",
   "metadata": {},
   "outputs": [
    {
     "name": "stdout",
     "output_type": "stream",
     "text": [
      "CUDA Available: True\n",
      "CUDA Version: 12.6\n",
      "Torch CUDA Version: NVIDIA RTX A6000\n"
     ]
    }
   ],
   "source": [
    "import torch\n",
    "print(\"CUDA Available:\", torch.cuda.is_available())\n",
    "print(\"CUDA Version:\", torch.version.cuda)\n",
    "print(\"Torch CUDA Version:\", torch.cuda.get_device_name(0) if torch.cuda.is_available() else \"No GPU found\")\n"
   ]
  },
  {
   "cell_type": "code",
   "execution_count": 4,
   "id": "cdfb6451-e561-4342-a1e4-3b1df48c3e12",
   "metadata": {},
   "outputs": [
    {
     "name": "stdout",
     "output_type": "stream",
     "text": [
      "CUDA Available: True\n",
      "Number of GPUs available: 1\n"
     ]
    }
   ],
   "source": [
    "import torch\n",
    "\n",
    "# Check if CUDA is available\n",
    "gpu_available = torch.cuda.is_available()\n",
    "print(\"CUDA Available:\", gpu_available)\n",
    "\n",
    "if gpu_available:\n",
    "    # Get the number of GPUs available\n",
    "    num_gpus = torch.cuda.device_count()\n",
    "    print(\"Number of GPUs available:\", num_gpus)"
   ]
  },
  {
   "cell_type": "code",
   "execution_count": 5,
   "id": "1d9bf594-206c-4392-bf35-e0c61c8d0ade",
   "metadata": {},
   "outputs": [],
   "source": [
    "import gc\n",
    "import torch\n",
    "\n",
    "gc.collect()\n",
    "torch.cuda.empty_cache()\n"
   ]
  },
  {
   "cell_type": "code",
   "execution_count": 6,
   "id": "05424de0-f934-4c9b-b070-b26df73b46e2",
   "metadata": {},
   "outputs": [],
   "source": [
    "import torch\n",
    "import pytorch_lightning as pla\n",
    "import polars as pl\n",
    "import pandas as pd\n",
    "import numpy as np\n",
    "\n"
   ]
  },
  {
   "cell_type": "code",
   "execution_count": 7,
   "id": "f13d3765-f6e0-4c07-b246-8b99aa6cd74a",
   "metadata": {},
   "outputs": [
    {
     "name": "stderr",
     "output_type": "stream",
     "text": [
      "/home/local/anaconda3/envs/ptgp/lib/python3.10/site-packages/pytorch_forecasting/models/base_model.py:27: TqdmWarning: IProgress not found. Please update jupyter and ipywidgets. See https://ipywidgets.readthedocs.io/en/stable/user_install.html\n",
      "  from tqdm.autonotebook import tqdm\n"
     ]
    }
   ],
   "source": [
    "from pytorch_forecasting import TimeSeriesDataSet\n",
    "from pytorch_forecasting.models import TemporalFusionTransformer\n",
    "from pytorch_forecasting.data import GroupNormalizer\n",
    "from pytorch_forecasting.metrics import RMSE"
   ]
  },
  {
   "cell_type": "code",
   "execution_count": 8,
   "id": "0ee1334c-1a56-425d-a8f9-d8e29d5d01fc",
   "metadata": {},
   "outputs": [],
   "source": [
    "file_path = \"processed_sales_data_optimized_dtypes.parquet\"\n",
    "data = pl.read_parquet(file_path)\n",
    "\n",
    "# Convert date column to datetime format for TimeSeriesDataSet\n",
    "data = data.with_columns(pl.col(\"date\").cast(pl.Date))\n",
    "\n"
   ]
  },
  {
   "cell_type": "code",
   "execution_count": 9,
   "id": "0035acf2-cabe-46ac-ab49-1a34a63f4477",
   "metadata": {},
   "outputs": [
    {
     "data": {
      "text/plain": [
       "polars.dataframe.frame.DataFrame"
      ]
     },
     "execution_count": 9,
     "metadata": {},
     "output_type": "execute_result"
    }
   ],
   "source": [
    "type(data)"
   ]
  },
  {
   "cell_type": "code",
   "execution_count": 10,
   "id": "00c67440-903b-4f91-9c29-114999152137",
   "metadata": {},
   "outputs": [
    {
     "data": {
      "text/html": [
       "<div><style>\n",
       ".dataframe > thead > tr,\n",
       ".dataframe > tbody > tr {\n",
       "  text-align: right;\n",
       "  white-space: pre-wrap;\n",
       "}\n",
       "</style>\n",
       "<small>shape: (5, 13)</small><table border=\"1\" class=\"dataframe\"><thead><tr><th>id</th><th>date</th><th>store_nbr</th><th>item_nbr</th><th>unit_sales</th><th>is_onpromotion</th><th>is_holiday</th><th>transactions</th><th>day</th><th>month</th><th>weekday</th><th>year</th><th>log_unit_sales</th></tr><tr><td>u32</td><td>date</td><td>u8</td><td>u32</td><td>f32</td><td>u8</td><td>u8</td><td>u16</td><td>u8</td><td>u8</td><td>u8</td><td>u16</td><td>f32</td></tr></thead><tbody><tr><td>0</td><td>2013-01-01</td><td>25</td><td>103665</td><td>7.0</td><td>0</td><td>1</td><td>770</td><td>1</td><td>1</td><td>2</td><td>2013</td><td>2.079442</td></tr><tr><td>1</td><td>2013-01-01</td><td>25</td><td>105574</td><td>1.0</td><td>0</td><td>1</td><td>770</td><td>1</td><td>1</td><td>2</td><td>2013</td><td>0.693147</td></tr><tr><td>2</td><td>2013-01-01</td><td>25</td><td>105575</td><td>2.0</td><td>0</td><td>1</td><td>770</td><td>1</td><td>1</td><td>2</td><td>2013</td><td>1.098612</td></tr><tr><td>3</td><td>2013-01-01</td><td>25</td><td>108079</td><td>1.0</td><td>0</td><td>1</td><td>770</td><td>1</td><td>1</td><td>2</td><td>2013</td><td>0.693147</td></tr><tr><td>4</td><td>2013-01-01</td><td>25</td><td>108701</td><td>1.0</td><td>0</td><td>1</td><td>770</td><td>1</td><td>1</td><td>2</td><td>2013</td><td>0.693147</td></tr></tbody></table></div>"
      ],
      "text/plain": [
       "shape: (5, 13)\n",
       "┌─────┬────────────┬───────────┬──────────┬───┬───────┬─────────┬──────┬────────────────┐\n",
       "│ id  ┆ date       ┆ store_nbr ┆ item_nbr ┆ … ┆ month ┆ weekday ┆ year ┆ log_unit_sales │\n",
       "│ --- ┆ ---        ┆ ---       ┆ ---      ┆   ┆ ---   ┆ ---     ┆ ---  ┆ ---            │\n",
       "│ u32 ┆ date       ┆ u8        ┆ u32      ┆   ┆ u8    ┆ u8      ┆ u16  ┆ f32            │\n",
       "╞═════╪════════════╪═══════════╪══════════╪═══╪═══════╪═════════╪══════╪════════════════╡\n",
       "│ 0   ┆ 2013-01-01 ┆ 25        ┆ 103665   ┆ … ┆ 1     ┆ 2       ┆ 2013 ┆ 2.079442       │\n",
       "│ 1   ┆ 2013-01-01 ┆ 25        ┆ 105574   ┆ … ┆ 1     ┆ 2       ┆ 2013 ┆ 0.693147       │\n",
       "│ 2   ┆ 2013-01-01 ┆ 25        ┆ 105575   ┆ … ┆ 1     ┆ 2       ┆ 2013 ┆ 1.098612       │\n",
       "│ 3   ┆ 2013-01-01 ┆ 25        ┆ 108079   ┆ … ┆ 1     ┆ 2       ┆ 2013 ┆ 0.693147       │\n",
       "│ 4   ┆ 2013-01-01 ┆ 25        ┆ 108701   ┆ … ┆ 1     ┆ 2       ┆ 2013 ┆ 0.693147       │\n",
       "└─────┴────────────┴───────────┴──────────┴───┴───────┴─────────┴──────┴────────────────┘"
      ]
     },
     "execution_count": 10,
     "metadata": {},
     "output_type": "execute_result"
    }
   ],
   "source": [
    "data.head()"
   ]
  },
  {
   "cell_type": "code",
   "execution_count": 11,
   "id": "4fadb2a8-d16a-4a14-a1db-4bab992820c1",
   "metadata": {},
   "outputs": [
    {
     "data": {
      "text/plain": [
       "['id',\n",
       " 'date',\n",
       " 'store_nbr',\n",
       " 'item_nbr',\n",
       " 'unit_sales',\n",
       " 'is_onpromotion',\n",
       " 'is_holiday',\n",
       " 'transactions',\n",
       " 'day',\n",
       " 'month',\n",
       " 'weekday',\n",
       " 'year',\n",
       " 'log_unit_sales']"
      ]
     },
     "execution_count": 11,
     "metadata": {},
     "output_type": "execute_result"
    }
   ],
   "source": [
    "data.columns"
   ]
  },
  {
   "cell_type": "code",
   "execution_count": 12,
   "id": "1acd26a8-d06b-4536-87c8-97a591112144",
   "metadata": {},
   "outputs": [],
   "source": [
    "# Prepare TimeSeriesDataSet\n",
    "max_encoder_length = 30  # Using the past 30 days\n",
    "max_prediction_length = 7  # Predicting the next 7 days"
   ]
  },
  {
   "cell_type": "code",
   "execution_count": 13,
   "id": "fea76756-7d3f-458c-abf0-9a0b84a1d074",
   "metadata": {},
   "outputs": [],
   "source": [
    "min_date = data[\"date\"].min()\n",
    "data = data.with_columns(\n",
    "    (pl.col(\"date\").cast(pl.Int32) - pl.lit(min_date).cast(pl.Int32)).alias(\"time_idx\")\n",
    ")"
   ]
  },
  {
   "cell_type": "code",
   "execution_count": 14,
   "id": "81999959-05aa-4fdc-a986-0c5fe972e0d3",
   "metadata": {},
   "outputs": [],
   "source": [
    "# # Convert date to an integer index\n",
    "# data['time_idx'] = (data['date'] - data['date'].min()).dt.days\n"
   ]
  },
  {
   "cell_type": "code",
   "execution_count": 15,
   "id": "85b04a7b-3a32-4891-9684-974c3f319c3b",
   "metadata": {},
   "outputs": [
    {
     "data": {
      "text/html": [
       "<div><style>\n",
       ".dataframe > thead > tr,\n",
       ".dataframe > tbody > tr {\n",
       "  text-align: right;\n",
       "  white-space: pre-wrap;\n",
       "}\n",
       "</style>\n",
       "<small>shape: (127_970_257, 14)</small><table border=\"1\" class=\"dataframe\"><thead><tr><th>id</th><th>date</th><th>store_nbr</th><th>item_nbr</th><th>unit_sales</th><th>is_onpromotion</th><th>is_holiday</th><th>transactions</th><th>day</th><th>month</th><th>weekday</th><th>year</th><th>log_unit_sales</th><th>time_idx</th></tr><tr><td>u32</td><td>date</td><td>u8</td><td>u32</td><td>f32</td><td>u8</td><td>u8</td><td>u16</td><td>u8</td><td>u8</td><td>u8</td><td>u16</td><td>f32</td><td>i32</td></tr></thead><tbody><tr><td>0</td><td>2013-01-01</td><td>25</td><td>103665</td><td>7.0</td><td>0</td><td>1</td><td>770</td><td>1</td><td>1</td><td>2</td><td>2013</td><td>2.079442</td><td>0</td></tr><tr><td>1</td><td>2013-01-01</td><td>25</td><td>105574</td><td>1.0</td><td>0</td><td>1</td><td>770</td><td>1</td><td>1</td><td>2</td><td>2013</td><td>0.693147</td><td>0</td></tr><tr><td>2</td><td>2013-01-01</td><td>25</td><td>105575</td><td>2.0</td><td>0</td><td>1</td><td>770</td><td>1</td><td>1</td><td>2</td><td>2013</td><td>1.098612</td><td>0</td></tr><tr><td>3</td><td>2013-01-01</td><td>25</td><td>108079</td><td>1.0</td><td>0</td><td>1</td><td>770</td><td>1</td><td>1</td><td>2</td><td>2013</td><td>0.693147</td><td>0</td></tr><tr><td>4</td><td>2013-01-01</td><td>25</td><td>108701</td><td>1.0</td><td>0</td><td>1</td><td>770</td><td>1</td><td>1</td><td>2</td><td>2013</td><td>0.693147</td><td>0</td></tr><tr><td>&hellip;</td><td>&hellip;</td><td>&hellip;</td><td>&hellip;</td><td>&hellip;</td><td>&hellip;</td><td>&hellip;</td><td>&hellip;</td><td>&hellip;</td><td>&hellip;</td><td>&hellip;</td><td>&hellip;</td><td>&hellip;</td><td>&hellip;</td></tr><tr><td>125497035</td><td>2017-08-15</td><td>54</td><td>2089339</td><td>4.0</td><td>0</td><td>1</td><td>802</td><td>15</td><td>8</td><td>2</td><td>2017</td><td>1.609438</td><td>1687</td></tr><tr><td>125497036</td><td>2017-08-15</td><td>54</td><td>2106464</td><td>1.0</td><td>1</td><td>1</td><td>802</td><td>15</td><td>8</td><td>2</td><td>2017</td><td>0.693147</td><td>1687</td></tr><tr><td>125497037</td><td>2017-08-15</td><td>54</td><td>2110456</td><td>192.0</td><td>0</td><td>1</td><td>802</td><td>15</td><td>8</td><td>2</td><td>2017</td><td>5.262691</td><td>1687</td></tr><tr><td>125497038</td><td>2017-08-15</td><td>54</td><td>2113914</td><td>198.0</td><td>1</td><td>1</td><td>802</td><td>15</td><td>8</td><td>2</td><td>2017</td><td>5.293305</td><td>1687</td></tr><tr><td>125497039</td><td>2017-08-15</td><td>54</td><td>2116416</td><td>2.0</td><td>0</td><td>1</td><td>802</td><td>15</td><td>8</td><td>2</td><td>2017</td><td>1.098612</td><td>1687</td></tr></tbody></table></div>"
      ],
      "text/plain": [
       "shape: (127_970_257, 14)\n",
       "┌───────────┬────────────┬───────────┬──────────┬───┬─────────┬──────┬────────────────┬──────────┐\n",
       "│ id        ┆ date       ┆ store_nbr ┆ item_nbr ┆ … ┆ weekday ┆ year ┆ log_unit_sales ┆ time_idx │\n",
       "│ ---       ┆ ---        ┆ ---       ┆ ---      ┆   ┆ ---     ┆ ---  ┆ ---            ┆ ---      │\n",
       "│ u32       ┆ date       ┆ u8        ┆ u32      ┆   ┆ u8      ┆ u16  ┆ f32            ┆ i32      │\n",
       "╞═══════════╪════════════╪═══════════╪══════════╪═══╪═════════╪══════╪════════════════╪══════════╡\n",
       "│ 0         ┆ 2013-01-01 ┆ 25        ┆ 103665   ┆ … ┆ 2       ┆ 2013 ┆ 2.079442       ┆ 0        │\n",
       "│ 1         ┆ 2013-01-01 ┆ 25        ┆ 105574   ┆ … ┆ 2       ┆ 2013 ┆ 0.693147       ┆ 0        │\n",
       "│ 2         ┆ 2013-01-01 ┆ 25        ┆ 105575   ┆ … ┆ 2       ┆ 2013 ┆ 1.098612       ┆ 0        │\n",
       "│ 3         ┆ 2013-01-01 ┆ 25        ┆ 108079   ┆ … ┆ 2       ┆ 2013 ┆ 0.693147       ┆ 0        │\n",
       "│ 4         ┆ 2013-01-01 ┆ 25        ┆ 108701   ┆ … ┆ 2       ┆ 2013 ┆ 0.693147       ┆ 0        │\n",
       "│ …         ┆ …          ┆ …         ┆ …        ┆ … ┆ …       ┆ …    ┆ …              ┆ …        │\n",
       "│ 125497035 ┆ 2017-08-15 ┆ 54        ┆ 2089339  ┆ … ┆ 2       ┆ 2017 ┆ 1.609438       ┆ 1687     │\n",
       "│ 125497036 ┆ 2017-08-15 ┆ 54        ┆ 2106464  ┆ … ┆ 2       ┆ 2017 ┆ 0.693147       ┆ 1687     │\n",
       "│ 125497037 ┆ 2017-08-15 ┆ 54        ┆ 2110456  ┆ … ┆ 2       ┆ 2017 ┆ 5.262691       ┆ 1687     │\n",
       "│ 125497038 ┆ 2017-08-15 ┆ 54        ┆ 2113914  ┆ … ┆ 2       ┆ 2017 ┆ 5.293305       ┆ 1687     │\n",
       "│ 125497039 ┆ 2017-08-15 ┆ 54        ┆ 2116416  ┆ … ┆ 2       ┆ 2017 ┆ 1.098612       ┆ 1687     │\n",
       "└───────────┴────────────┴───────────┴──────────┴───┴─────────┴──────┴────────────────┴──────────┘"
      ]
     },
     "execution_count": 15,
     "metadata": {},
     "output_type": "execute_result"
    }
   ],
   "source": [
    "data"
   ]
  },
  {
   "cell_type": "code",
   "execution_count": 16,
   "id": "8ddc2a6b-d7ca-4f75-ad32-da93b2826283",
   "metadata": {},
   "outputs": [],
   "source": [
    "# Convert categorical columns to string\n",
    "categorical_columns = [\"store_nbr\", \"item_nbr\", \"is_onpromotion\", \"is_holiday\"]\n",
    "data = data.with_columns([pl.col(col).cast(pl.Utf8) for col in categorical_columns])\n"
   ]
  },
  {
   "cell_type": "code",
   "execution_count": 17,
   "id": "cfc7f953-df6c-438c-9e6c-f7c73451eea9",
   "metadata": {},
   "outputs": [
    {
     "data": {
      "text/html": [
       "<div><style>\n",
       ".dataframe > thead > tr,\n",
       ".dataframe > tbody > tr {\n",
       "  text-align: right;\n",
       "  white-space: pre-wrap;\n",
       "}\n",
       "</style>\n",
       "<small>shape: (127_970_257, 14)</small><table border=\"1\" class=\"dataframe\"><thead><tr><th>id</th><th>date</th><th>store_nbr</th><th>item_nbr</th><th>unit_sales</th><th>is_onpromotion</th><th>is_holiday</th><th>transactions</th><th>day</th><th>month</th><th>weekday</th><th>year</th><th>log_unit_sales</th><th>time_idx</th></tr><tr><td>u32</td><td>date</td><td>str</td><td>str</td><td>f32</td><td>str</td><td>str</td><td>u16</td><td>u8</td><td>u8</td><td>u8</td><td>u16</td><td>f32</td><td>i32</td></tr></thead><tbody><tr><td>0</td><td>2013-01-01</td><td>&quot;25&quot;</td><td>&quot;103665&quot;</td><td>7.0</td><td>&quot;0&quot;</td><td>&quot;1&quot;</td><td>770</td><td>1</td><td>1</td><td>2</td><td>2013</td><td>2.079442</td><td>0</td></tr><tr><td>1</td><td>2013-01-01</td><td>&quot;25&quot;</td><td>&quot;105574&quot;</td><td>1.0</td><td>&quot;0&quot;</td><td>&quot;1&quot;</td><td>770</td><td>1</td><td>1</td><td>2</td><td>2013</td><td>0.693147</td><td>0</td></tr><tr><td>2</td><td>2013-01-01</td><td>&quot;25&quot;</td><td>&quot;105575&quot;</td><td>2.0</td><td>&quot;0&quot;</td><td>&quot;1&quot;</td><td>770</td><td>1</td><td>1</td><td>2</td><td>2013</td><td>1.098612</td><td>0</td></tr><tr><td>3</td><td>2013-01-01</td><td>&quot;25&quot;</td><td>&quot;108079&quot;</td><td>1.0</td><td>&quot;0&quot;</td><td>&quot;1&quot;</td><td>770</td><td>1</td><td>1</td><td>2</td><td>2013</td><td>0.693147</td><td>0</td></tr><tr><td>4</td><td>2013-01-01</td><td>&quot;25&quot;</td><td>&quot;108701&quot;</td><td>1.0</td><td>&quot;0&quot;</td><td>&quot;1&quot;</td><td>770</td><td>1</td><td>1</td><td>2</td><td>2013</td><td>0.693147</td><td>0</td></tr><tr><td>&hellip;</td><td>&hellip;</td><td>&hellip;</td><td>&hellip;</td><td>&hellip;</td><td>&hellip;</td><td>&hellip;</td><td>&hellip;</td><td>&hellip;</td><td>&hellip;</td><td>&hellip;</td><td>&hellip;</td><td>&hellip;</td><td>&hellip;</td></tr><tr><td>125497035</td><td>2017-08-15</td><td>&quot;54&quot;</td><td>&quot;2089339&quot;</td><td>4.0</td><td>&quot;0&quot;</td><td>&quot;1&quot;</td><td>802</td><td>15</td><td>8</td><td>2</td><td>2017</td><td>1.609438</td><td>1687</td></tr><tr><td>125497036</td><td>2017-08-15</td><td>&quot;54&quot;</td><td>&quot;2106464&quot;</td><td>1.0</td><td>&quot;1&quot;</td><td>&quot;1&quot;</td><td>802</td><td>15</td><td>8</td><td>2</td><td>2017</td><td>0.693147</td><td>1687</td></tr><tr><td>125497037</td><td>2017-08-15</td><td>&quot;54&quot;</td><td>&quot;2110456&quot;</td><td>192.0</td><td>&quot;0&quot;</td><td>&quot;1&quot;</td><td>802</td><td>15</td><td>8</td><td>2</td><td>2017</td><td>5.262691</td><td>1687</td></tr><tr><td>125497038</td><td>2017-08-15</td><td>&quot;54&quot;</td><td>&quot;2113914&quot;</td><td>198.0</td><td>&quot;1&quot;</td><td>&quot;1&quot;</td><td>802</td><td>15</td><td>8</td><td>2</td><td>2017</td><td>5.293305</td><td>1687</td></tr><tr><td>125497039</td><td>2017-08-15</td><td>&quot;54&quot;</td><td>&quot;2116416&quot;</td><td>2.0</td><td>&quot;0&quot;</td><td>&quot;1&quot;</td><td>802</td><td>15</td><td>8</td><td>2</td><td>2017</td><td>1.098612</td><td>1687</td></tr></tbody></table></div>"
      ],
      "text/plain": [
       "shape: (127_970_257, 14)\n",
       "┌───────────┬────────────┬───────────┬──────────┬───┬─────────┬──────┬────────────────┬──────────┐\n",
       "│ id        ┆ date       ┆ store_nbr ┆ item_nbr ┆ … ┆ weekday ┆ year ┆ log_unit_sales ┆ time_idx │\n",
       "│ ---       ┆ ---        ┆ ---       ┆ ---      ┆   ┆ ---     ┆ ---  ┆ ---            ┆ ---      │\n",
       "│ u32       ┆ date       ┆ str       ┆ str      ┆   ┆ u8      ┆ u16  ┆ f32            ┆ i32      │\n",
       "╞═══════════╪════════════╪═══════════╪══════════╪═══╪═════════╪══════╪════════════════╪══════════╡\n",
       "│ 0         ┆ 2013-01-01 ┆ 25        ┆ 103665   ┆ … ┆ 2       ┆ 2013 ┆ 2.079442       ┆ 0        │\n",
       "│ 1         ┆ 2013-01-01 ┆ 25        ┆ 105574   ┆ … ┆ 2       ┆ 2013 ┆ 0.693147       ┆ 0        │\n",
       "│ 2         ┆ 2013-01-01 ┆ 25        ┆ 105575   ┆ … ┆ 2       ┆ 2013 ┆ 1.098612       ┆ 0        │\n",
       "│ 3         ┆ 2013-01-01 ┆ 25        ┆ 108079   ┆ … ┆ 2       ┆ 2013 ┆ 0.693147       ┆ 0        │\n",
       "│ 4         ┆ 2013-01-01 ┆ 25        ┆ 108701   ┆ … ┆ 2       ┆ 2013 ┆ 0.693147       ┆ 0        │\n",
       "│ …         ┆ …          ┆ …         ┆ …        ┆ … ┆ …       ┆ …    ┆ …              ┆ …        │\n",
       "│ 125497035 ┆ 2017-08-15 ┆ 54        ┆ 2089339  ┆ … ┆ 2       ┆ 2017 ┆ 1.609438       ┆ 1687     │\n",
       "│ 125497036 ┆ 2017-08-15 ┆ 54        ┆ 2106464  ┆ … ┆ 2       ┆ 2017 ┆ 0.693147       ┆ 1687     │\n",
       "│ 125497037 ┆ 2017-08-15 ┆ 54        ┆ 2110456  ┆ … ┆ 2       ┆ 2017 ┆ 5.262691       ┆ 1687     │\n",
       "│ 125497038 ┆ 2017-08-15 ┆ 54        ┆ 2113914  ┆ … ┆ 2       ┆ 2017 ┆ 5.293305       ┆ 1687     │\n",
       "│ 125497039 ┆ 2017-08-15 ┆ 54        ┆ 2116416  ┆ … ┆ 2       ┆ 2017 ┆ 1.098612       ┆ 1687     │\n",
       "└───────────┴────────────┴───────────┴──────────┴───┴─────────┴──────┴────────────────┴──────────┘"
      ]
     },
     "execution_count": 17,
     "metadata": {},
     "output_type": "execute_result"
    }
   ],
   "source": [
    "data"
   ]
  },
  {
   "cell_type": "code",
   "execution_count": 18,
   "id": "5b7e0d31-e718-4e48-87ea-70c2a1eb715e",
   "metadata": {},
   "outputs": [],
   "source": [
    "# print(data['is_holiday'].dtype)\n",
    "# print(data['is_holiday'].unique())\n",
    "# print(data['is_holiday'].isna().sum())  # Check for NaNs"
   ]
  },
  {
   "cell_type": "code",
   "execution_count": 19,
   "id": "82ff464d-6ad2-4c12-8cfc-69fb6da7393b",
   "metadata": {},
   "outputs": [],
   "source": [
    "# print(data.memory_usage(deep=True))"
   ]
  },
  {
   "cell_type": "code",
   "execution_count": 20,
   "id": "33b7ccfa-830c-45bb-b14b-b2c62bf19c6c",
   "metadata": {},
   "outputs": [],
   "source": [
    "# Convert infinite values to NaN before converting to Pandas\n",
    "data = data.with_columns([\n",
    "    pl.when(pl.col(col).is_infinite()).then(None).otherwise(pl.col(col))\n",
    "    for col in data.select(pl.col(pl.Float64)).columns\n",
    "])"
   ]
  },
  {
   "cell_type": "code",
   "execution_count": 21,
   "id": "3df2244c-cc44-40fd-9737-119b8d857e6e",
   "metadata": {},
   "outputs": [],
   "source": [
    "data = data.to_pandas()\n"
   ]
  },
  {
   "cell_type": "code",
   "execution_count": 22,
   "id": "16fb7595-209b-442c-ad7e-83c94045ef8b",
   "metadata": {},
   "outputs": [
    {
     "data": {
      "text/plain": [
       "pandas.core.frame.DataFrame"
      ]
     },
     "execution_count": 22,
     "metadata": {},
     "output_type": "execute_result"
    }
   ],
   "source": [
    "type(data)"
   ]
  },
  {
   "cell_type": "code",
   "execution_count": 23,
   "id": "cfd49ee9-3a89-424f-ae30-af5165e8d302",
   "metadata": {},
   "outputs": [],
   "source": [
    "data.dropna(inplace=True)\n"
   ]
  },
  {
   "cell_type": "code",
   "execution_count": 24,
   "id": "576ef173-defe-405f-a612-be75034efff4",
   "metadata": {},
   "outputs": [
    {
     "name": "stdout",
     "output_type": "stream",
     "text": [
      "Remaining NaN count after cleanup: 0\n"
     ]
    }
   ],
   "source": [
    "print(\"Remaining NaN count after cleanup:\", data.isna().sum().sum())  # Should be 0\n"
   ]
  },
  {
   "cell_type": "code",
   "execution_count": 25,
   "id": "78036065-696c-46f2-baf2-d64205b51db7",
   "metadata": {},
   "outputs": [
    {
     "name": "stdout",
     "output_type": "stream",
     "text": [
      "Zero/Negative unit_sales: 4155\n"
     ]
    }
   ],
   "source": [
    "# Filter out rows with zero or negative unit sales\n",
    "print(\"Zero/Negative unit_sales:\", (data[\"unit_sales\"] <= 0).sum())\n",
    "data = data[data[\"unit_sales\"] > 0].copy()\n",
    "\n"
   ]
  },
  {
   "cell_type": "code",
   "execution_count": 26,
   "id": "3b3fae3d-7673-45e3-aaef-b0779823c9e8",
   "metadata": {},
   "outputs": [],
   "source": [
    "# Apply log transformation\n",
    "data[\"log_unit_sales\"] = np.log1p(data[\"unit_sales\"])\n"
   ]
  },
  {
   "cell_type": "code",
   "execution_count": 27,
   "id": "48fadd2b-aca2-4010-ac18-aa263ca0c13b",
   "metadata": {},
   "outputs": [],
   "source": [
    "# Drop any remaining NaN values in log_unit_sales\n",
    "data.dropna(subset=[\"log_unit_sales\"], inplace=True)\n"
   ]
  },
  {
   "cell_type": "code",
   "execution_count": 28,
   "id": "c09eb312-2dff-4335-982f-86db1192efeb",
   "metadata": {},
   "outputs": [
    {
     "name": "stdout",
     "output_type": "stream",
     "text": [
      "log_unit_sales NaN count: 0\n"
     ]
    }
   ],
   "source": [
    "# Confirm no NaNs\n",
    "print(\"log_unit_sales NaN count:\", data[\"log_unit_sales\"].isna().sum())  # Should be 0\n"
   ]
  },
  {
   "cell_type": "code",
   "execution_count": 29,
   "id": "b678c942-8f83-4f87-9f8f-57f0a92f9352",
   "metadata": {},
   "outputs": [],
   "source": [
    "# Define training cutoff for TimeSeriesDataSet\n",
    "training_cutoff = data[\"date\"].max() - pd.Timedelta(days=max_prediction_length)\n"
   ]
  },
  {
   "cell_type": "code",
   "execution_count": 30,
   "id": "4bd0ed71-78b2-4eb4-b979-e1869f95ef9d",
   "metadata": {},
   "outputs": [
    {
     "name": "stdout",
     "output_type": "stream",
     "text": [
      "Conversion completed successfully!\n"
     ]
    }
   ],
   "source": [
    "# Convert categorical columns to `category` in Pandas\n",
    "categorical_cols = [\"store_nbr\", \"item_nbr\", \"is_onpromotion\", \"is_holiday\"]\n",
    "for col in categorical_cols:\n",
    "    data[col] = data[col].astype(\"category\")\n",
    "\n",
    "print(\"Conversion completed successfully!\")\n"
   ]
  },
  {
   "cell_type": "code",
   "execution_count": 31,
   "id": "67b28160-53c4-4b70-a39e-a86fbbc44600",
   "metadata": {},
   "outputs": [
    {
     "name": "stdout",
     "output_type": "stream",
     "text": [
      "                  id       date store_nbr item_nbr  unit_sales is_onpromotion  \\\n",
      "0                  0 2013-01-01        25   103665         7.0              0   \n",
      "1                  1 2013-01-01        25   105574         1.0              0   \n",
      "2                  2 2013-01-01        25   105575         2.0              0   \n",
      "3                  3 2013-01-01        25   108079         1.0              0   \n",
      "4                  4 2013-01-01        25   108701         1.0              0   \n",
      "...              ...        ...       ...      ...         ...            ...   \n",
      "127970252  125497035 2017-08-15        54  2089339         4.0              0   \n",
      "127970253  125497036 2017-08-15        54  2106464         1.0              1   \n",
      "127970254  125497037 2017-08-15        54  2110456       192.0              0   \n",
      "127970255  125497038 2017-08-15        54  2113914       198.0              1   \n",
      "127970256  125497039 2017-08-15        54  2116416         2.0              0   \n",
      "\n",
      "          is_holiday  transactions  day  month  weekday  year  log_unit_sales  \\\n",
      "0                  1           770    1      1        2  2013        2.079442   \n",
      "1                  1           770    1      1        2  2013        0.693147   \n",
      "2                  1           770    1      1        2  2013        1.098612   \n",
      "3                  1           770    1      1        2  2013        0.693147   \n",
      "4                  1           770    1      1        2  2013        0.693147   \n",
      "...              ...           ...  ...    ...      ...   ...             ...   \n",
      "127970252          1           802   15      8        2  2017        1.609438   \n",
      "127970253          1           802   15      8        2  2017        0.693147   \n",
      "127970254          1           802   15      8        2  2017        5.262690   \n",
      "127970255          1           802   15      8        2  2017        5.293305   \n",
      "127970256          1           802   15      8        2  2017        1.098612   \n",
      "\n",
      "           time_idx  \n",
      "0                 0  \n",
      "1                 0  \n",
      "2                 0  \n",
      "3                 0  \n",
      "4                 0  \n",
      "...             ...  \n",
      "127970252      1687  \n",
      "127970253      1687  \n",
      "127970254      1687  \n",
      "127970255      1687  \n",
      "127970256      1687  \n",
      "\n",
      "[127962293 rows x 14 columns]\n"
     ]
    }
   ],
   "source": [
    "# Display final dataset\n",
    "print(data)\n"
   ]
  },
  {
   "cell_type": "code",
   "execution_count": 32,
   "id": "8dcb5b0e-e36c-41a7-8b33-1323499fa5aa",
   "metadata": {},
   "outputs": [
    {
     "name": "stdout",
     "output_type": "stream",
     "text": [
      "id                        uint32\n",
      "date              datetime64[ms]\n",
      "store_nbr               category\n",
      "item_nbr                category\n",
      "unit_sales               float32\n",
      "is_onpromotion          category\n",
      "is_holiday              category\n",
      "transactions              uint16\n",
      "day                        uint8\n",
      "month                      uint8\n",
      "weekday                    uint8\n",
      "year                      uint16\n",
      "log_unit_sales           float32\n",
      "time_idx                   int32\n",
      "dtype: object\n"
     ]
    }
   ],
   "source": [
    "print(data.dtypes)"
   ]
  },
  {
   "cell_type": "code",
   "execution_count": 33,
   "id": "e4f1a8c4-2387-4d56-8343-0a82592152a6",
   "metadata": {},
   "outputs": [
    {
     "name": "stdout",
     "output_type": "stream",
     "text": [
      "NaN counts per column:\n",
      " id                0\n",
      "date              0\n",
      "store_nbr         0\n",
      "item_nbr          0\n",
      "unit_sales        0\n",
      "is_onpromotion    0\n",
      "is_holiday        0\n",
      "transactions      0\n",
      "day               0\n",
      "month             0\n",
      "weekday           0\n",
      "year              0\n",
      "log_unit_sales    0\n",
      "time_idx          0\n",
      "dtype: int64\n"
     ]
    }
   ],
   "source": [
    "# Check for NaN values\n",
    "print(\"NaN counts per column:\\n\", data.isna().sum())"
   ]
  },
  {
   "cell_type": "code",
   "execution_count": 34,
   "id": "a9309214-8c76-4240-9f74-8cd22315934b",
   "metadata": {},
   "outputs": [
    {
     "name": "stdout",
     "output_type": "stream",
     "text": [
      "\n",
      "Inf counts per float column:\n",
      " unit_sales        0\n",
      "log_unit_sales    0\n",
      "dtype: int64\n"
     ]
    }
   ],
   "source": [
    "# Check for Infinite values\n",
    "float_cols = data.select_dtypes(include=[np.float32, np.float64]).columns\n",
    "inf_mask = np.isinf(data[float_cols]).sum()\n",
    "print(\"\\nInf counts per float column:\\n\", inf_mask)"
   ]
  },
  {
   "cell_type": "code",
   "execution_count": 35,
   "id": "98f646ce-d77d-4083-b1e3-aeca5ba5858f",
   "metadata": {},
   "outputs": [],
   "source": [
    "# Replace Inf with NaN and drop NaNs\n",
    "if inf_mask.sum() > 0:\n",
    "    print(\"\\nWarning: Found Inf values, replacing with NaN.\")\n",
    "    data.replace([np.inf, -np.inf], np.nan, inplace=True)"
   ]
  },
  {
   "cell_type": "code",
   "execution_count": 36,
   "id": "eebdb052-8900-420a-9519-d6c4bcff6375",
   "metadata": {},
   "outputs": [],
   "source": [
    "# Drop remaining NaNs\n",
    "if data.isna().sum().sum() > 0:\n",
    "    print(\"\\nWarning: Found NaN values, dropping rows with NaNs.\")\n",
    "    data.dropna(inplace=True)"
   ]
  },
  {
   "cell_type": "code",
   "execution_count": 37,
   "id": "4ad7c749-f5a1-4b3d-b572-9607eba02d05",
   "metadata": {},
   "outputs": [
    {
     "name": "stdout",
     "output_type": "stream",
     "text": [
      "\n",
      "Checking categorical column store_nbr:\n",
      "Unique values: 54\n",
      "\n",
      "Checking categorical column item_nbr:\n",
      "Unique values: 4036\n",
      "\n",
      "Checking categorical column is_onpromotion:\n",
      "Unique values: 2\n",
      "\n",
      "Checking categorical column is_holiday:\n",
      "Unique values: 2\n"
     ]
    }
   ],
   "source": [
    "# Check categorical values for issues\n",
    "cat_cols = [\"store_nbr\", \"item_nbr\", \"is_onpromotion\", \"is_holiday\"]\n",
    "for col in cat_cols:\n",
    "    print(f\"\\nChecking categorical column {col}:\")\n",
    "    print(\"Unique values:\", data[col].nunique())\n",
    "    if data[col].isna().sum() > 0:\n",
    "        print(f\"Warning: {col} contains NaNs!\")"
   ]
  },
  {
   "cell_type": "code",
   "execution_count": 38,
   "id": "978cc6e6-62f7-4093-ab5e-0a79cac1ef6e",
   "metadata": {},
   "outputs": [],
   "source": [
    "# Check `time_idx` is sequential\n",
    "if not data[\"time_idx\"].is_monotonic_increasing:\n",
    "    print(\"\\nWarning: time_idx is not strictly increasing. Sorting data.\")\n",
    "    data = data.sort_values(by=[\"time_idx\"])"
   ]
  },
  {
   "cell_type": "code",
   "execution_count": 39,
   "id": "1ebb9c2d-51b5-4df6-a530-63afa4d3fe9e",
   "metadata": {},
   "outputs": [
    {
     "name": "stdout",
     "output_type": "stream",
     "text": [
      "\n",
      "Warning: Found 1651504 duplicate rows. Dropping duplicates.\n"
     ]
    }
   ],
   "source": [
    "# Check for duplicate rows\n",
    "duplicate_count = data.duplicated().sum()\n",
    "if duplicate_count > 0:\n",
    "    print(f\"\\nWarning: Found {duplicate_count} duplicate rows. Dropping duplicates.\")\n",
    "    data.drop_duplicates(inplace=True)"
   ]
  },
  {
   "cell_type": "code",
   "execution_count": 40,
   "id": "aacf276f-54df-42be-a81e-f6eebcee2c06",
   "metadata": {},
   "outputs": [
    {
     "name": "stdout",
     "output_type": "stream",
     "text": [
      "\n",
      "Memory usage (bytes): 5558069503\n"
     ]
    }
   ],
   "source": [
    "# Print memory usage\n",
    "print(\"\\nMemory usage (bytes):\", data.memory_usage(deep=True).sum())"
   ]
  },
  {
   "cell_type": "code",
   "execution_count": 42,
   "id": "5062a9dd-78e8-4ef1-adde-f04285a848be",
   "metadata": {},
   "outputs": [],
   "source": [
    "data.to_parquet(\"further_processed_sales_data_optimized_dtypes.parquet\",index=False)"
   ]
  }
 ],
 "metadata": {
  "kernelspec": {
   "display_name": "Python 3 (ipykernel)",
   "language": "python",
   "name": "python3"
  },
  "language_info": {
   "codemirror_mode": {
    "name": "ipython",
    "version": 3
   },
   "file_extension": ".py",
   "mimetype": "text/x-python",
   "name": "python",
   "nbconvert_exporter": "python",
   "pygments_lexer": "ipython3",
   "version": "3.10.16"
  }
 },
 "nbformat": 4,
 "nbformat_minor": 5
}
