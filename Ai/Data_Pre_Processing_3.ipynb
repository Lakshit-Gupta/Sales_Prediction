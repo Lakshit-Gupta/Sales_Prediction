{
 "cells": [
  {
   "cell_type": "code",
   "execution_count": 1,
   "id": "7ad76ec4-ea17-413b-a372-574ecefd135e",
   "metadata": {},
   "outputs": [
    {
     "name": "stdout",
     "output_type": "stream",
     "text": [
      "20\n",
      "C:\\Users\\WWWZX\\AI_Class_Work\\Transformers\n"
     ]
    }
   ],
   "source": [
    "import os\n",
    "print(os.cpu_count())\n",
    "print(os.getcwd())\n"
   ]
  },
  {
   "cell_type": "code",
   "execution_count": 2,
   "id": "2a0c5873-70f4-4b20-a6ad-f8bc4f50f51c",
   "metadata": {},
   "outputs": [
    {
     "name": "stdout",
     "output_type": "stream",
     "text": [
      "2.6.0+cu126\n"
     ]
    }
   ],
   "source": [
    "import torch\n",
    "print(torch.__version__)\n",
    "# print(torch.cuda.is_available())"
   ]
  },
  {
   "cell_type": "code",
   "execution_count": 3,
   "id": "1d9bf594-206c-4392-bf35-e0c61c8d0ade",
   "metadata": {},
   "outputs": [
    {
     "name": "stdout",
     "output_type": "stream",
     "text": [
      "20\n"
     ]
    }
   ],
   "source": [
    "import gc\n",
    "import torch\n",
    "\n",
    "print(gc.collect())\n",
    "torch.cuda.empty_cache()\n"
   ]
  },
  {
   "cell_type": "code",
   "execution_count": 4,
   "id": "55da3485-0faf-4f0b-a5ab-cd7c0e57cd61",
   "metadata": {},
   "outputs": [],
   "source": [
    "# import random\n",
    "# random.seed(69)\n",
    "\n",
    "# NumPy random seed\n",
    "# import numpy as np\n",
    "# np.random.seed(69)\n",
    "\n",
    "# PyTorch random seed\n",
    "# import torch\n",
    "# torch.manual_seed(69)\n",
    "# torch.cuda.manual_seed(69)\n",
    "# torch.cuda.manual_seed_all(69)  # If using multi-GPU\n",
    "torch.cuda.empty_cache()\n",
    "torch.backends.cudnn.deterministic = False  # For deterministic results\n",
    "torch.backends.cudnn.benchmark = True  # Disabling to ensure deterministic algorithm\n",
    "torch.backends.cuda.matmul.allow_tf32 = True\n",
    "torch.set_float32_matmul_precision('high')  # Optimize matmul precision"
   ]
  },
  {
   "cell_type": "code",
   "execution_count": 5,
   "id": "1308ef80-6f57-4d79-9f23-f36262c8ed40",
   "metadata": {},
   "outputs": [
    {
     "name": "stdout",
     "output_type": "stream",
     "text": [
      "CUDA Available: True\n",
      "CUDA Version: 12.6\n",
      "Torch CUDA Version: NVIDIA GeForce RTX 4060 Laptop GPU\n"
     ]
    }
   ],
   "source": [
    "import torch\n",
    "print(\"CUDA Available:\", torch.cuda.is_available())\n",
    "print(\"CUDA Version:\", torch.version.cuda)\n",
    "print(\"Torch CUDA Version:\", torch.cuda.get_device_name(0) if torch.cuda.is_available() else \"No GPU found\")\n"
   ]
  },
  {
   "cell_type": "code",
   "execution_count": 6,
   "id": "cdfb6451-e561-4342-a1e4-3b1df48c3e12",
   "metadata": {},
   "outputs": [
    {
     "name": "stdout",
     "output_type": "stream",
     "text": [
      "CUDA Available: True\n",
      "Number of GPUs available: 1\n"
     ]
    }
   ],
   "source": [
    "import torch\n",
    "\n",
    "# Check if CUDA is available\n",
    "gpu_available = torch.cuda.is_available()\n",
    "print(\"CUDA Available:\", gpu_available)\n",
    "\n",
    "if gpu_available:\n",
    "    # Get the number of GPUs available\n",
    "    num_gpus = torch.cuda.device_count()\n",
    "    print(\"Number of GPUs available:\", num_gpus)"
   ]
  },
  {
   "cell_type": "code",
   "execution_count": 7,
   "id": "05424de0-f934-4c9b-b070-b26df73b46e2",
   "metadata": {},
   "outputs": [],
   "source": [
    "from pathlib import Path\n",
    "import random\n",
    "import gc\n",
    "import pickle\n",
    "import numpy as np\n",
    "import pandas as pd\n",
    "import torch\n",
    "from torch.utils.data import DataLoader\n",
    "\n",
    "import lightning.pytorch as pl\n",
    "from lightning.pytorch import Trainer\n",
    "from lightning.pytorch.callbacks import EarlyStopping, LearningRateMonitor, ModelCheckpoint,RichProgressBar,TQDMProgressBar\n",
    "from lightning.pytorch.loggers import TensorBoardLogger\n",
    "from pytorch_forecasting import Baseline, TemporalFusionTransformer, TimeSeriesDataSet\n",
    "from pytorch_forecasting.data import GroupNormalizer\n",
    "from pytorch_forecasting.metrics import MAE, SMAPE, PoissonLoss, QuantileLoss, RMSE\n",
    "from pytorch_forecasting.models.temporal_fusion_transformer.tuning import optimize_hyperparameters\n",
    "from pytorch_forecasting.data.encoders import NaNLabelEncoder\n",
    "from torch.utils.data import DataLoader\n",
    "from torch.nn.utils.rnn import pad_sequence\n",
    "import seaborn as sns\n",
    "import matplotlib.pyplot as plt\n",
    "from matplotlib_venn import venn2\n",
    "import matplotlib.pyplot as plt\n",
    "import matplotlib.colors as mcolors\n",
    "# from lightning.pytorch.tuner.tuning import Tuner\n",
    "torch.serialization.add_safe_globals([TimeSeriesDataSet, GroupNormalizer])"
   ]
  },
  {
   "cell_type": "code",
   "execution_count": 8,
   "id": "0ee1334c-1a56-425d-a8f9-d8e29d5d01fc",
   "metadata": {},
   "outputs": [],
   "source": [
    "file_path = \"further_processed_sales_data_optimized_dtypes.parquet\"\n",
    "data = pd.read_parquet(file_path)\n"
   ]
  },
  {
   "cell_type": "code",
   "execution_count": 9,
   "id": "0035acf2-cabe-46ac-ab49-1a34a63f4477",
   "metadata": {},
   "outputs": [
    {
     "data": {
      "text/plain": [
       "pandas.core.frame.DataFrame"
      ]
     },
     "execution_count": 9,
     "metadata": {},
     "output_type": "execute_result"
    }
   ],
   "source": [
    "type(data)"
   ]
  },
  {
   "cell_type": "code",
   "execution_count": 10,
   "id": "00c67440-903b-4f91-9c29-114999152137",
   "metadata": {},
   "outputs": [
    {
     "data": {
      "text/html": [
       "<div>\n",
       "<style scoped>\n",
       "    .dataframe tbody tr th:only-of-type {\n",
       "        vertical-align: middle;\n",
       "    }\n",
       "\n",
       "    .dataframe tbody tr th {\n",
       "        vertical-align: top;\n",
       "    }\n",
       "\n",
       "    .dataframe thead th {\n",
       "        text-align: right;\n",
       "    }\n",
       "</style>\n",
       "<table border=\"1\" class=\"dataframe\">\n",
       "  <thead>\n",
       "    <tr style=\"text-align: right;\">\n",
       "      <th></th>\n",
       "      <th>id</th>\n",
       "      <th>date</th>\n",
       "      <th>store_nbr</th>\n",
       "      <th>item_nbr</th>\n",
       "      <th>unit_sales</th>\n",
       "      <th>is_onpromotion</th>\n",
       "      <th>is_holiday</th>\n",
       "      <th>transactions</th>\n",
       "      <th>day</th>\n",
       "      <th>month</th>\n",
       "      <th>weekday</th>\n",
       "      <th>year</th>\n",
       "      <th>log_unit_sales</th>\n",
       "      <th>time_idx</th>\n",
       "    </tr>\n",
       "  </thead>\n",
       "  <tbody>\n",
       "    <tr>\n",
       "      <th>0</th>\n",
       "      <td>0</td>\n",
       "      <td>2013-01-01</td>\n",
       "      <td>25</td>\n",
       "      <td>103665</td>\n",
       "      <td>7.0</td>\n",
       "      <td>0</td>\n",
       "      <td>1</td>\n",
       "      <td>770</td>\n",
       "      <td>1</td>\n",
       "      <td>1</td>\n",
       "      <td>2</td>\n",
       "      <td>2013</td>\n",
       "      <td>2.079442</td>\n",
       "      <td>0</td>\n",
       "    </tr>\n",
       "    <tr>\n",
       "      <th>1</th>\n",
       "      <td>1</td>\n",
       "      <td>2013-01-01</td>\n",
       "      <td>25</td>\n",
       "      <td>105574</td>\n",
       "      <td>1.0</td>\n",
       "      <td>0</td>\n",
       "      <td>1</td>\n",
       "      <td>770</td>\n",
       "      <td>1</td>\n",
       "      <td>1</td>\n",
       "      <td>2</td>\n",
       "      <td>2013</td>\n",
       "      <td>0.693147</td>\n",
       "      <td>0</td>\n",
       "    </tr>\n",
       "    <tr>\n",
       "      <th>2</th>\n",
       "      <td>2</td>\n",
       "      <td>2013-01-01</td>\n",
       "      <td>25</td>\n",
       "      <td>105575</td>\n",
       "      <td>2.0</td>\n",
       "      <td>0</td>\n",
       "      <td>1</td>\n",
       "      <td>770</td>\n",
       "      <td>1</td>\n",
       "      <td>1</td>\n",
       "      <td>2</td>\n",
       "      <td>2013</td>\n",
       "      <td>1.098612</td>\n",
       "      <td>0</td>\n",
       "    </tr>\n",
       "    <tr>\n",
       "      <th>3</th>\n",
       "      <td>3</td>\n",
       "      <td>2013-01-01</td>\n",
       "      <td>25</td>\n",
       "      <td>108079</td>\n",
       "      <td>1.0</td>\n",
       "      <td>0</td>\n",
       "      <td>1</td>\n",
       "      <td>770</td>\n",
       "      <td>1</td>\n",
       "      <td>1</td>\n",
       "      <td>2</td>\n",
       "      <td>2013</td>\n",
       "      <td>0.693147</td>\n",
       "      <td>0</td>\n",
       "    </tr>\n",
       "    <tr>\n",
       "      <th>4</th>\n",
       "      <td>4</td>\n",
       "      <td>2013-01-01</td>\n",
       "      <td>25</td>\n",
       "      <td>108701</td>\n",
       "      <td>1.0</td>\n",
       "      <td>0</td>\n",
       "      <td>1</td>\n",
       "      <td>770</td>\n",
       "      <td>1</td>\n",
       "      <td>1</td>\n",
       "      <td>2</td>\n",
       "      <td>2013</td>\n",
       "      <td>0.693147</td>\n",
       "      <td>0</td>\n",
       "    </tr>\n",
       "  </tbody>\n",
       "</table>\n",
       "</div>"
      ],
      "text/plain": [
       "   id       date store_nbr item_nbr  unit_sales is_onpromotion is_holiday  \\\n",
       "0   0 2013-01-01        25   103665         7.0              0          1   \n",
       "1   1 2013-01-01        25   105574         1.0              0          1   \n",
       "2   2 2013-01-01        25   105575         2.0              0          1   \n",
       "3   3 2013-01-01        25   108079         1.0              0          1   \n",
       "4   4 2013-01-01        25   108701         1.0              0          1   \n",
       "\n",
       "   transactions  day  month  weekday  year  log_unit_sales  time_idx  \n",
       "0           770    1      1        2  2013        2.079442         0  \n",
       "1           770    1      1        2  2013        0.693147         0  \n",
       "2           770    1      1        2  2013        1.098612         0  \n",
       "3           770    1      1        2  2013        0.693147         0  \n",
       "4           770    1      1        2  2013        0.693147         0  "
      ]
     },
     "execution_count": 10,
     "metadata": {},
     "output_type": "execute_result"
    }
   ],
   "source": [
    "data.head()"
   ]
  },
  {
   "cell_type": "code",
   "execution_count": 11,
   "id": "1435c1cf-9dc2-45b9-ae1b-ab822c695d73",
   "metadata": {},
   "outputs": [
    {
     "name": "stdout",
     "output_type": "stream",
     "text": [
      "<class 'pandas.core.frame.DataFrame'>\n",
      "RangeIndex: 126310789 entries, 0 to 126310788\n",
      "Data columns (total 14 columns):\n",
      " #   Column          Dtype         \n",
      "---  ------          -----         \n",
      " 0   id              uint32        \n",
      " 1   date            datetime64[ms]\n",
      " 2   store_nbr       category      \n",
      " 3   item_nbr        category      \n",
      " 4   unit_sales      float32       \n",
      " 5   is_onpromotion  category      \n",
      " 6   is_holiday      category      \n",
      " 7   transactions    uint16        \n",
      " 8   day             uint8         \n",
      " 9   month           uint8         \n",
      " 10  weekday         uint8         \n",
      " 11  year            uint16        \n",
      " 12  log_unit_sales  float32       \n",
      " 13  time_idx        int32         \n",
      "dtypes: category(4), datetime64[ms](1), float32(2), int32(1), uint16(2), uint32(1), uint8(3)\n",
      "memory usage: 4.2 GB\n"
     ]
    }
   ],
   "source": [
    "data.info()"
   ]
  },
  {
   "cell_type": "code",
   "execution_count": 12,
   "id": "4fadb2a8-d16a-4a14-a1db-4bab992820c1",
   "metadata": {},
   "outputs": [
    {
     "data": {
      "text/plain": [
       "Index(['id', 'date', 'store_nbr', 'item_nbr', 'unit_sales', 'is_onpromotion',\n",
       "       'is_holiday', 'transactions', 'day', 'month', 'weekday', 'year',\n",
       "       'log_unit_sales', 'time_idx'],\n",
       "      dtype='object')"
      ]
     },
     "execution_count": 12,
     "metadata": {},
     "output_type": "execute_result"
    }
   ],
   "source": [
    "data.columns"
   ]
  },
  {
   "cell_type": "code",
   "execution_count": 13,
   "id": "a8729454-0472-42f2-855c-9761194b26d3",
   "metadata": {},
   "outputs": [
    {
     "data": {
      "text/plain": [
       "id                        uint32\n",
       "date              datetime64[ms]\n",
       "store_nbr               category\n",
       "item_nbr                category\n",
       "unit_sales               float32\n",
       "is_onpromotion          category\n",
       "is_holiday              category\n",
       "transactions              uint16\n",
       "day                        uint8\n",
       "month                      uint8\n",
       "weekday                    uint8\n",
       "year                      uint16\n",
       "log_unit_sales           float32\n",
       "time_idx                   int32\n",
       "dtype: object"
      ]
     },
     "execution_count": 13,
     "metadata": {},
     "output_type": "execute_result"
    }
   ],
   "source": [
    "data.dtypes"
   ]
  },
  {
   "cell_type": "code",
   "execution_count": 14,
   "id": "73b4bd53-c792-42c6-8136-1298590ecda8",
   "metadata": {},
   "outputs": [
    {
     "name": "stdout",
     "output_type": "stream",
     "text": [
      "Checking for NaNs: 0\n",
      "Checking for Infs: 0\n"
     ]
    }
   ],
   "source": [
    "print(\"Checking for NaNs:\", data.isna().sum().sum())  # Count total \n",
    "print(\"Checking for Infs:\", np.isinf(data.select_dtypes(include=[np.number])).sum().sum())  # Count total Infs"
   ]
  },
  {
   "cell_type": "code",
   "execution_count": 15,
   "id": "fe8723bb-3ff1-458c-a911-6dea1f5f71f7",
   "metadata": {},
   "outputs": [],
   "source": [
    "data = data.dropna().replace([np.inf, -np.inf], np.nan).dropna()"
   ]
  },
  {
   "cell_type": "code",
   "execution_count": 16,
   "id": "82ff464d-6ad2-4c12-8cfc-69fb6da7393b",
   "metadata": {},
   "outputs": [
    {
     "name": "stdout",
     "output_type": "stream",
     "text": [
      "Index                    128\n",
      "id                 505243156\n",
      "date              1010486312\n",
      "store_nbr          126316070\n",
      "item_nbr           253010636\n",
      "unit_sales         505243156\n",
      "is_onpromotion     126311013\n",
      "is_holiday         126311013\n",
      "transactions       252621578\n",
      "day                126310789\n",
      "month              126310789\n",
      "weekday            126310789\n",
      "year               252621578\n",
      "log_unit_sales     505243156\n",
      "time_idx           505243156\n",
      "dtype: int64\n",
      "4.235267004929483 GB\n"
     ]
    }
   ],
   "source": [
    "print(data.memory_usage(deep=True))\n",
    "print(data.memory_usage(deep=True).sum() / (1024 ** 3), \"GB\")"
   ]
  },
  {
   "cell_type": "code",
   "execution_count": 17,
   "id": "dc5b9363-b841-47c8-ab5d-0c388cb3b891",
   "metadata": {},
   "outputs": [],
   "source": [
    "if 1==-1:\n",
    "    categorical_columns = ['store_nbr', 'item_nbr', 'is_onpromotion','is_holiday']\n",
    "    \n",
    "    for col in categorical_columns:\n",
    "        if col in data.columns:\n",
    "            print(f\"\\n{col}: NaN={data[col].isna().sum()}, EmptyStrings={(data[col]=='').sum()}, Unique={data[col].unique()}\")\n",
    "            try:\n",
    "                long_vals = len(data[col][data[col].astype(str).str.len() > 100])\n",
    "                print(f\"  LongVals={long_vals}\")\n",
    "            except AttributeError:\n",
    "                print(\"  StringLengthCheckSkipped\")\n",
    "        else:\n",
    "            print(f\"{col} not found\")\n"
   ]
  },
  {
   "cell_type": "code",
   "execution_count": 18,
   "id": "be56c230-9bb8-4ecc-990c-2f967ae23faf",
   "metadata": {},
   "outputs": [],
   "source": [
    "# Prepare TimeSeriesDataSet\n",
    "max_encoder_length = 30  # Using the past 30 days\n",
    "max_prediction_length = 7  # Predicting the next 7 days\n",
    "training_cutoff = data[\"time_idx\"].max() - max_encoder_length - max_prediction_length\n"
   ]
  },
  {
   "cell_type": "code",
   "execution_count": 19,
   "id": "b12b501a-6a38-43de-b9a5-59744ae77287",
   "metadata": {},
   "outputs": [],
   "source": [
    "if 1==-1:\n",
    "    # Group by store and item to get the length of each time series\n",
    "    series_lengths = data.groupby(['store_nbr', 'item_nbr']).size()\n",
    "\n",
    "    # Check how many series have at least 7 days\n",
    "    min_encoder_lengths = list(range(1, 1691))\n",
    "    for min_encoder_length in min_encoder_lengths:\n",
    "        percent_included = (series_lengths >= min_encoder_length).mean() * 100\n",
    "        print(f\"{percent_included:.2f}% of series have at least {min_encoder_length} days\")\n"
   ]
  },
  {
   "cell_type": "code",
   "execution_count": 20,
   "id": "6285e17e-47d7-43b7-95bb-22eee0ca2782",
   "metadata": {},
   "outputs": [],
   "source": [
    "if 1==-1:\n",
    "    # Select only numerical features relevant to time series modeling\n",
    "    selected_features = [\"log_unit_sales\", \"transactions\", \"is_onpromotion\"]  # Add more relevant features\n",
    "    \n",
    "    # Compute correlation matrix\n",
    "    corr_matrix = data[selected_features].corr()\n",
    "    \n",
    "    # Create a mask for the upper triangle\n",
    "    mask = np.triu(np.ones_like(corr_matrix, dtype=bool))\n",
    "    \n",
    "    # Plot heatmap\n",
    "    plt.figure(figsize=(10, 10))\n",
    "    sns.heatmap(corr_matrix, mask=mask, annot=True, cmap=\"coolwarm\", fmt=\".2f\", linewidths=0.5)\n",
    "    plt.title(\"Correlation Matrix of Time Series Features\")\n",
    "    plt.show()"
   ]
  },
  {
   "cell_type": "code",
   "execution_count": 21,
   "id": "360f6b12-bfd6-485e-a928-ac54d9beb902",
   "metadata": {},
   "outputs": [],
   "source": [
    "if 1==-1:\n",
    "    # Remove target column for overlap analysis\n",
    "    train_df_notarget = data.drop([\"log_unit_sales\"], axis=1)\n",
    "    # Identify common rows between training and test data\n",
    "    test_df = data[data[\"time_idx\"] > training_cutoff]  # Assuming test is the last segment\n",
    "    train_df = data[data[\"time_idx\"] <= training_cutoff]\n",
    "    \n",
    "    common_df = pd.merge(train_df, test_df, how=\"inner\", on=train_df_notarget.columns.tolist())\n",
    "\n",
    "\n"
   ]
  },
  {
   "cell_type": "code",
   "execution_count": 22,
   "id": "a11f372b-9639-4d34-a402-1ae21adfd3a9",
   "metadata": {},
   "outputs": [],
   "source": [
    "if 1==-1:\n",
    "    \n",
    "    #checks categforical coloumns for thei unique value in whole data\n",
    "    output_file_1 = \"unique_values_1.txt\"\n",
    "    with open(output_file_1, \"w\") as f:\n",
    "        f.write(\"Unique store_nbr values:\\n\")\n",
    "        f.write(str(data[\"store_nbr\"].unique().tolist()) + \"\\n\\n\") #use .tolist()\n",
    "    \n",
    "        f.write(\"Unique item_nbr values:\\n\")\n",
    "        f.write(str(data[\"item_nbr\"].unique().tolist()) + \"\\n\\n\") #use .tolist()\n",
    "    \n",
    "        f.write(\"Unique is_onpromotion values:\\n\")\n",
    "        f.write(str(data[\"is_onpromotion\"].unique().tolist()) + \"\\n\\n\") #use .tolist()\n",
    "    \n",
    "        f.write(\"Unique is_holiday values:\\n\")\n",
    "        f.write(str(data[\"is_holiday\"].unique().tolist()) + \"\\n\") #use .tolist()\n",
    "    \n",
    "    print(f\"Unique values written to {output_file_1}\")\n"
   ]
  },
  {
   "cell_type": "code",
   "execution_count": 23,
   "id": "b71ab53f-753c-4099-9d97-f7cd01ef4d94",
   "metadata": {},
   "outputs": [],
   "source": [
    "if 1==-1:    \n",
    "    #check before the traininig_cutoff all the values of the data\n",
    "    output_file_2 = \"unique_values_2.txt\"\n",
    "    with open(output_file_2, \"w\") as f:\n",
    "        unique_items = data[data[\"time_idx\"] <= training_cutoff][\"item_nbr\"].unique().tolist()\n",
    "        f.write(str(unique_items))\n",
    "    \n",
    "    print(f\"Unique values written to {output_file_2}\")\n",
    "\n"
   ]
  },
  {
   "cell_type": "code",
   "execution_count": 24,
   "id": "681b3224-d769-42c1-8d3a-6e632e56574e",
   "metadata": {},
   "outputs": [],
   "source": [
    "#checks only item_nbr value and takes unique value only\n",
    "full_item_nbr = set(data[\"item_nbr\"].unique())\n",
    "# print(\"Full item_nbr unique values:\", full_item_nbr)\n",
    "training_data = data[data[\"time_idx\"] <= training_cutoff]\n",
    "training_item_nbr = set(training_data[\"item_nbr\"].unique())  # Replace with the correct column\n",
    "# print(\"Training item_nbr unique values:\", training_item_nbr)\n"
   ]
  },
  {
   "cell_type": "code",
   "execution_count": 25,
   "id": "c9e3c13d-eb5f-43dc-bbc4-863a3fd398f4",
   "metadata": {},
   "outputs": [
    {
     "name": "stdout",
     "output_type": "stream",
     "text": [
      "Categories in validation but not training: {'2123863', '2123036', '2114752', '2123711', '2127114', '2011457', '2123463', '2011448', '2122868', '2123727', '2011468', '2122676', '2121610', '2123750', '2123209', '2116238', '2011459', '2123468', '2011451', '2011470', '2122818', '2123791', '2123839', '2123410', '2120723', '2054300', '2011437', '2116139', '2122188', '2015898', '2116132', '2123747', '2123775', '2123790', '2118662', '2126842', '2121690', '2123859', '2126944', '2113343', '2122947'}\n"
     ]
    }
   ],
   "source": [
    "validation_only = full_item_nbr - training_item_nbr\n",
    "print(\"Categories in validation but not training:\", validation_only)\n",
    "\n"
   ]
  },
  {
   "cell_type": "code",
   "execution_count": 26,
   "id": "d20a2e2a-403d-4c78-975b-f48e59c7d11c",
   "metadata": {},
   "outputs": [
    {
     "name": "stdout",
     "output_type": "stream",
     "text": [
      "Item 2123863: 12 occurrences, first at time_idx 1683\n",
      "Item 2123036: 23 occurrences, first at time_idx 1676\n",
      "Item 2114752: 25 occurrences, first at time_idx 1683\n",
      "Item 2123711: 12 occurrences, first at time_idx 1682\n",
      "Item 2127114: 247 occurrences, first at time_idx 1658\n",
      "Item 2011457: 18 occurrences, first at time_idx 1683\n",
      "Item 2123463: 5 occurrences, first at time_idx 1683\n",
      "Item 2011448: 10 occurrences, first at time_idx 1684\n",
      "Item 2122868: 48 occurrences, first at time_idx 1681\n",
      "Item 2123727: 83 occurrences, first at time_idx 1675\n",
      "Item 2011468: 9 occurrences, first at time_idx 1684\n",
      "Item 2122676: 66 occurrences, first at time_idx 1677\n",
      "Item 2121610: 12 occurrences, first at time_idx 1680\n",
      "Item 2123750: 50 occurrences, first at time_idx 1682\n",
      "Item 2123209: 5 occurrences, first at time_idx 1679\n",
      "Item 2116238: 7 occurrences, first at time_idx 1678\n",
      "Item 2011459: 9 occurrences, first at time_idx 1684\n",
      "Item 2123468: 65 occurrences, first at time_idx 1678\n",
      "Item 2011451: 1 occurrences, first at time_idx 1686\n",
      "Item 2011470: 17 occurrences, first at time_idx 1683\n",
      "Item 2122818: 2 occurrences, first at time_idx 1684\n",
      "Item 2123791: 21 occurrences, first at time_idx 1675\n",
      "Item 2123839: 13 occurrences, first at time_idx 1685\n",
      "Item 2123410: 55 occurrences, first at time_idx 1676\n",
      "Item 2120723: 28 occurrences, first at time_idx 1677\n",
      "Item 2054300: 367 occurrences, first at time_idx 1653\n",
      "Item 2011437: 16 occurrences, first at time_idx 1683\n",
      "Item 2116139: 12 occurrences, first at time_idx 1681\n",
      "Item 2122188: 570 occurrences, first at time_idx 1667\n",
      "Item 2015898: 1 occurrences, first at time_idx 1676\n",
      "Item 2116132: 10 occurrences, first at time_idx 1680\n",
      "Item 2123747: 3 occurrences, first at time_idx 1683\n",
      "Item 2123775: 64 occurrences, first at time_idx 1676\n",
      "Item 2123790: 8 occurrences, first at time_idx 1683\n",
      "Item 2118662: 61 occurrences, first at time_idx 1659\n",
      "Item 2126842: 12 occurrences, first at time_idx 1683\n",
      "Item 2121690: 19 occurrences, first at time_idx 1681\n",
      "Item 2123859: 10 occurrences, first at time_idx 1682\n",
      "Item 2126944: 5 occurrences, first at time_idx 1684\n",
      "Item 2113343: 899 occurrences, first at time_idx 1653\n",
      "Item 2122947: 5 occurrences, first at time_idx 1677\n"
     ]
    }
   ],
   "source": [
    "for item in validation_only:\n",
    "    count = len(data[data[\"item_nbr\"] == item])\n",
    "    first_time_idx = data[data[\"item_nbr\"] == item][\"time_idx\"].min()\n",
    "    print(f\"Item {item}: {count} occurrences, first at time_idx {first_time_idx}\")\n",
    "\n"
   ]
  },
  {
   "cell_type": "code",
   "execution_count": 27,
   "id": "a53e9e96-2cec-4185-a96c-67dc49e44e57",
   "metadata": {},
   "outputs": [
    {
     "name": "stdout",
     "output_type": "stream",
     "text": [
      "Total number of rows in data: 126310789\n"
     ]
    }
   ],
   "source": [
    "total_rows = len(data)\n",
    "print(f\"Total number of rows in data: {total_rows}\")\n"
   ]
  },
  {
   "cell_type": "code",
   "execution_count": 28,
   "id": "4e890429-ef92-4980-80d8-3dec6e8373e7",
   "metadata": {},
   "outputs": [
    {
     "name": "stdout",
     "output_type": "stream",
     "text": [
      "Rows before cleaning: 126310789\n"
     ]
    }
   ],
   "source": [
    "# Total rows before cleaning\n",
    "total_rows_before = len(data)\n",
    "print(f\"Rows before cleaning: {total_rows_before}\")\n",
    "\n",
    "\n"
   ]
  },
  {
   "cell_type": "code",
   "execution_count": 29,
   "id": "dbfa2301-260b-4c8f-a8c3-77c04f6204df",
   "metadata": {},
   "outputs": [],
   "source": [
    "# Filter out validation-only items\n",
    "data = data[~data[\"item_nbr\"].isin(validation_only)]\n",
    "\n"
   ]
  },
  {
   "cell_type": "code",
   "execution_count": 30,
   "id": "76c49273-7059-4d24-8177-26bfff1dd713",
   "metadata": {},
   "outputs": [
    {
     "name": "stdout",
     "output_type": "stream",
     "text": [
      "=== Before Preprocessing ===\n",
      "\n",
      "unit_sales:\n",
      "count    1.263079e+08\n",
      "mean     8.568563e+00\n",
      "std      2.355307e+01\n",
      "min      1.000000e-03\n",
      "25%      2.000000e+00\n",
      "50%      4.000000e+00\n",
      "75%      9.000000e+00\n",
      "max      8.944000e+04\n",
      "Name: unit_sales, dtype: float64\n",
      "NaN count: 0\n",
      "Inf count: 0\n",
      "\n",
      "transactions:\n",
      "count    1.263079e+08\n",
      "mean     1.880743e+03\n",
      "std      1.044015e+03\n",
      "min      0.000000e+00\n",
      "25%      1.155000e+03\n",
      "50%      1.551000e+03\n",
      "75%      2.388000e+03\n",
      "max      8.359000e+03\n",
      "Name: transactions, dtype: float64\n",
      "NaN count: 0\n",
      "Inf count: 0\n",
      "\n",
      "store_nbr:\n",
      "Unique values: 54\n",
      "NaN count: 0\n",
      "Sample values: ['25', '1', '2', '3', '4']\n",
      "Categories (54, object): ['1', '10', '11', '12', ..., '6', '7', '8', '9']\n",
      "Type: category\n",
      "Is Categorical? True\n",
      "\n",
      "item_nbr:\n"
     ]
    },
    {
     "name": "stderr",
     "output_type": "stream",
     "text": [
      "C:\\Users\\WWWZX\\AppData\\Local\\Temp\\ipykernel_2312\\1243467518.py:25: DeprecationWarning: is_categorical_dtype is deprecated and will be removed in a future version. Use isinstance(dtype, pd.CategoricalDtype) instead\n",
      "  print(f\"Is Categorical? {pd.api.types.is_categorical_dtype(data[col])}\")\n"
     ]
    },
    {
     "name": "stdout",
     "output_type": "stream",
     "text": [
      "Unique values: 3995\n",
      "NaN count: 0\n",
      "Sample values: ['103665', '105574', '105575', '108079', '108701']\n",
      "Categories (4036, object): ['1000866', '1001305', '1003679', '1004545', ..., '996613', '999545', '999546', '999547']\n",
      "Type: category\n",
      "Is Categorical? True\n",
      "\n",
      "is_onpromotion:\n",
      "Unique values: 2\n",
      "NaN count: 0\n",
      "Sample values: ['0', '1']\n",
      "Categories (2, object): ['0', '1']\n",
      "Type: category\n",
      "Is Categorical? True\n",
      "\n",
      "is_holiday:\n",
      "Unique values: 2\n",
      "NaN count: 0\n",
      "Sample values: ['1', '0']\n",
      "Categories (2, object): ['0', '1']\n",
      "Type: category\n",
      "Is Categorical? True\n",
      "\n",
      "=== After Preprocessing ===\n",
      "\n",
      "log_unit_sales:\n",
      "count    1.263079e+08\n",
      "mean     1.751454e+00\n",
      "std      1.152474e+00\n",
      "min      9.995003e-04\n",
      "25%      1.098612e+00\n",
      "50%      1.609438e+00\n",
      "75%      2.302585e+00\n",
      "max      1.000000e+01\n",
      "Name: log_unit_sales, dtype: float64\n",
      "NaN count: 0\n",
      "Inf count: 0\n",
      "\n",
      "transactions (normalized):\n",
      "count    1.263079e+08\n",
      "mean     2.249962e-01\n",
      "std      1.248971e-01\n",
      "min      0.000000e+00\n",
      "25%      1.381744e-01\n",
      "50%      1.855485e-01\n",
      "75%      2.856801e-01\n",
      "max      1.000000e+00\n",
      "Name: transactions, dtype: float64\n",
      "NaN count: 0\n",
      "Inf count: 0\n"
     ]
    },
    {
     "data": {
      "image/png": "[encoded data removed]",
      "text/plain": [
       "<Figure size 1200x500 with 2 Axes>"
      ]
     },
     "metadata": {},
     "output_type": "display_data"
    },
    {
     "data": {
      "image/png": "[encoded data removed]",
      "text/plain": [
       "<Figure size 600x400 with 1 Axes>"
      ]
     },
     "metadata": {},
     "output_type": "display_data"
    }
   ],
   "source": [
    "# --- Check values before preprocessing ---\n",
    "print(\"=== Before Preprocessing ===\")\n",
    "from sklearn.preprocessing import MinMaxScaler\n",
    "\n",
    "# 1. unit_sales\n",
    "print(\"\\nunit_sales:\")\n",
    "print(data[\"unit_sales\"].describe())\n",
    "print(f\"NaN count: {data['unit_sales'].isna().sum()}\")\n",
    "print(f\"Inf count: {np.isinf(data['unit_sales']).sum()}\")\n",
    "\n",
    "# 2. transactions\n",
    "print(\"\\ntransactions:\")\n",
    "print(data[\"transactions\"].describe())\n",
    "print(f\"NaN count: {data['transactions'].isna().sum()}\")\n",
    "print(f\"Inf count: {np.isinf(data['transactions']).sum()}\")\n",
    "\n",
    "# 3. Categoricals (avoid min/max for unordered categoricals)\n",
    "categorical_cols = [\"store_nbr\", \"item_nbr\", \"is_onpromotion\", \"is_holiday\"]\n",
    "for col in categorical_cols:\n",
    "    print(f\"\\n{col}:\")\n",
    "    print(f\"Unique values: {data[col].nunique()}\")\n",
    "    print(f\"NaN count: {data[col].isna().sum()}\")\n",
    "    print(f\"Sample values: {data[col].unique()[:5]}\")\n",
    "    print(f\"Type: {data[col].dtype}\")\n",
    "    print(f\"Is Categorical? {pd.api.types.is_categorical_dtype(data[col])}\")\n",
    "\n",
    "# --- Apply preprocessing and check again ---\n",
    "print(\"\\n=== After Preprocessing ===\")\n",
    "\n",
    "# Preprocess data\n",
    "data[\"log_unit_sales\"] = np.clip(np.log1p(data[\"unit_sales\"]), 0, 10)  # Clip outliers\n",
    "scaler = MinMaxScaler()\n",
    "data[\"transactions\"] = scaler.fit_transform(data[[\"transactions\"]])  # Normalize\n",
    "\n",
    "# 1. log_unit_sales\n",
    "print(\"\\nlog_unit_sales:\")\n",
    "print(data[\"log_unit_sales\"].describe())\n",
    "print(f\"NaN count: {data['log_unit_sales'].isna().sum()}\")\n",
    "print(f\"Inf count: {np.isinf(data['log_unit_sales']).sum()}\")\n",
    "\n",
    "# 2. transactions (after normalization)\n",
    "print(\"\\ntransactions (normalized):\")\n",
    "print(data[\"transactions\"].describe())\n",
    "print(f\"NaN count: {data['transactions'].isna().sum()}\")\n",
    "print(f\"Inf count: {np.isinf(data['transactions']).sum()}\")\n",
    "\n",
    "# --- Visualize distributions ---\n",
    "plt.figure(figsize=(12, 5))\n",
    "\n",
    "# unit_sales (original)\n",
    "plt.subplot(1, 2, 1)\n",
    "plt.hist(data[\"unit_sales\"], bins=50, range=(0, 1000))  # Limit range to see detail\n",
    "plt.title(\"unit_sales (Original)\")\n",
    "plt.xlabel(\"Value\")\n",
    "plt.ylabel(\"Frequency\")\n",
    "\n",
    "# log_unit_sales (after preprocessing)\n",
    "plt.subplot(1, 2, 2)\n",
    "plt.hist(data[\"log_unit_sales\"], bins=50)\n",
    "plt.title(\"log_unit_sales (After Clip & Log)\")\n",
    "plt.xlabel(\"Value\")\n",
    "plt.ylabel(\"Frequency\")\n",
    "\n",
    "plt.tight_layout()\n",
    "plt.show()\n",
    "\n",
    "# transactions (after normalization)\n",
    "plt.figure(figsize=(6, 4))\n",
    "plt.hist(data[\"transactions\"], bins=50)\n",
    "plt.title(\"transactions (Normalized)\")\n",
    "plt.xlabel(\"Value\")\n",
    "plt.ylabel(\"Frequency\")\n",
    "plt.show()"
   ]
  },
  {
   "cell_type": "code",
   "execution_count": 31,
   "id": "5668702b-27db-4a0a-8e51-9d47aa7324bc",
   "metadata": {},
   "outputs": [],
   "source": [
    "# # Preprocess data\n",
    "\n",
    "data[\"log_unit_sales\"] = np.clip(np.log1p(data[\"unit_sales\"]), 0, 6)  # Clip outliers\n",
    "scaler = MinMaxScaler()\n",
    "data[\"transactions\"] = scaler.fit_transform(data[[\"transactions\"]])  # Normalize"
   ]
  },
  {
   "cell_type": "code",
   "execution_count": 32,
   "id": "5ebb7c83-0eec-433f-8280-1c07c3ccb666",
   "metadata": {},
   "outputs": [],
   "source": [
    "from sklearn.preprocessing import MinMaxScaler\n",
    "scaler = MinMaxScaler()\n",
    "data[\"transactions\"] = scaler.fit_transform(data[[\"transactions\"]])\n",
    "# Optionally normalize other reals\n",
    "data[[\"day\", \"month\", \"weekday\", \"year\"]] = scaler.fit_transform(data[[\"day\", \"month\", \"weekday\", \"year\"]])"
   ]
  },
  {
   "cell_type": "code",
   "execution_count": 33,
   "id": "a77ed05e-21bd-4312-9d49-08cfae0b8899",
   "metadata": {},
   "outputs": [
    {
     "name": "stdout",
     "output_type": "stream",
     "text": [
      "Log unit sales stats: count    1.263079e+08\n",
      "mean     1.751354e+00\n",
      "std      1.152293e+00\n",
      "min      9.995003e-04\n",
      "25%      1.098612e+00\n",
      "50%      1.609438e+00\n",
      "75%      2.302585e+00\n",
      "max      6.000000e+00\n",
      "Name: log_unit_sales, dtype: float64\n",
      "Transactions stats: count    1.263079e+08\n",
      "mean     2.249962e-01\n",
      "std      1.248971e-01\n",
      "min      0.000000e+00\n",
      "25%      1.381744e-01\n",
      "50%      1.855485e-01\n",
      "75%      2.856801e-01\n",
      "max      1.000000e+00\n",
      "Name: transactions, dtype: float64\n"
     ]
    }
   ],
   "source": [
    "#Clip extreme values\n",
    "data[\"log_unit_sales\"] = data[\"log_unit_sales\"].clip(lower=-10, upper=10)\n",
    "data[\"transactions\"] = data[\"transactions\"].clip(lower=0, upper=1e6)\n",
    "print(\"Log unit sales stats:\", data[\"log_unit_sales\"].describe())\n",
    "print(\"Transactions stats:\", data[\"transactions\"].describe())"
   ]
  },
  {
   "cell_type": "code",
   "execution_count": 34,
   "id": "b0cdb0f3-9348-4c8d-b3d3-c91ae6dc8d47",
   "metadata": {},
   "outputs": [
    {
     "name": "stdout",
     "output_type": "stream",
     "text": [
      "File saved as 'even_further_processed_sales_data_optimized_dtypes.parquet' using pyarrow.\n"
     ]
    }
   ],
   "source": [
    "if 1==1:\n",
    "    data.to_parquet('even_further_processed_sales_data_optimized_dtypes.parquet', engine='pyarrow')\n",
    "    print(\"File saved as 'even_further_processed_sales_data_optimized_dtypes.parquet' using pyarrow.\")"
   ]
  },
  {
   "cell_type": "code",
   "execution_count": 35,
   "id": "ebd689f9-9a50-4a05-b969-795f4fa001e8",
   "metadata": {},
   "outputs": [
    {
     "name": "stdout",
     "output_type": "stream",
     "text": [
      "id                0\n",
      "date              0\n",
      "store_nbr         0\n",
      "item_nbr          0\n",
      "unit_sales        0\n",
      "is_onpromotion    0\n",
      "is_holiday        0\n",
      "transactions      0\n",
      "day               0\n",
      "month             0\n",
      "weekday           0\n",
      "year              0\n",
      "log_unit_sales    0\n",
      "time_idx          0\n",
      "dtype: int64\n",
      "0\n"
     ]
    },
    {
     "ename": "KeyboardInterrupt",
     "evalue": "",
     "output_type": "error",
     "traceback": [
      "\u001b[1;31m---------------------------------------------------------------------------\u001b[0m",
      "\u001b[1;31mKeyboardInterrupt\u001b[0m                         Traceback (most recent call last)",
      "Cell \u001b[1;32mIn[35], line 3\u001b[0m\n\u001b[0;32m      1\u001b[0m \u001b[38;5;28mprint\u001b[39m(data\u001b[38;5;241m.\u001b[39misna()\u001b[38;5;241m.\u001b[39msum())  \u001b[38;5;66;03m# Check for missing values\u001b[39;00m\n\u001b[0;32m      2\u001b[0m \u001b[38;5;28mprint\u001b[39m(np\u001b[38;5;241m.\u001b[39misinf(data[\u001b[38;5;124m\"\u001b[39m\u001b[38;5;124mlog_unit_sales\u001b[39m\u001b[38;5;124m\"\u001b[39m])\u001b[38;5;241m.\u001b[39msum())  \u001b[38;5;66;03m# Should be 0\u001b[39;00m\n\u001b[1;32m----> 3\u001b[0m \u001b[38;5;28mprint\u001b[39m(\u001b[43mdata\u001b[49m\u001b[38;5;241;43m.\u001b[39;49m\u001b[43mdescribe\u001b[49m\u001b[43m(\u001b[49m\u001b[43m)\u001b[49m)\n",
      "File \u001b[1;32m~\\anaconda3\\envs\\ptgp_equv_copy\\lib\\site-packages\\pandas\\core\\generic.py:11976\u001b[0m, in \u001b[0;36mNDFrame.describe\u001b[1;34m(self, percentiles, include, exclude)\u001b[0m\n\u001b[0;32m  11734\u001b[0m \u001b[38;5;129m@final\u001b[39m\n\u001b[0;32m  11735\u001b[0m \u001b[38;5;28;01mdef\u001b[39;00m \u001b[38;5;21mdescribe\u001b[39m(\n\u001b[0;32m  11736\u001b[0m     \u001b[38;5;28mself\u001b[39m,\n\u001b[1;32m   (...)\u001b[0m\n\u001b[0;32m  11739\u001b[0m     exclude\u001b[38;5;241m=\u001b[39m\u001b[38;5;28;01mNone\u001b[39;00m,\n\u001b[0;32m  11740\u001b[0m ) \u001b[38;5;241m-\u001b[39m\u001b[38;5;241m>\u001b[39m Self:\n\u001b[0;32m  11741\u001b[0m \u001b[38;5;250m    \u001b[39m\u001b[38;5;124;03m\"\"\"\u001b[39;00m\n\u001b[0;32m  11742\u001b[0m \u001b[38;5;124;03m    Generate descriptive statistics.\u001b[39;00m\n\u001b[0;32m  11743\u001b[0m \n\u001b[1;32m   (...)\u001b[0m\n\u001b[0;32m  11974\u001b[0m \u001b[38;5;124;03m    max            NaN      3.0\u001b[39;00m\n\u001b[0;32m  11975\u001b[0m \u001b[38;5;124;03m    \"\"\"\u001b[39;00m\n\u001b[1;32m> 11976\u001b[0m     \u001b[38;5;28;01mreturn\u001b[39;00m \u001b[43mdescribe_ndframe\u001b[49m\u001b[43m(\u001b[49m\n\u001b[0;32m  11977\u001b[0m \u001b[43m        \u001b[49m\u001b[43mobj\u001b[49m\u001b[38;5;241;43m=\u001b[39;49m\u001b[38;5;28;43mself\u001b[39;49m\u001b[43m,\u001b[49m\n\u001b[0;32m  11978\u001b[0m \u001b[43m        \u001b[49m\u001b[43minclude\u001b[49m\u001b[38;5;241;43m=\u001b[39;49m\u001b[43minclude\u001b[49m\u001b[43m,\u001b[49m\n\u001b[0;32m  11979\u001b[0m \u001b[43m        \u001b[49m\u001b[43mexclude\u001b[49m\u001b[38;5;241;43m=\u001b[39;49m\u001b[43mexclude\u001b[49m\u001b[43m,\u001b[49m\n\u001b[0;32m  11980\u001b[0m \u001b[43m        \u001b[49m\u001b[43mpercentiles\u001b[49m\u001b[38;5;241;43m=\u001b[39;49m\u001b[43mpercentiles\u001b[49m\u001b[43m,\u001b[49m\n\u001b[0;32m  11981\u001b[0m \u001b[43m    \u001b[49m\u001b[43m)\u001b[49m\u001b[38;5;241m.\u001b[39m__finalize__(\u001b[38;5;28mself\u001b[39m, method\u001b[38;5;241m=\u001b[39m\u001b[38;5;124m\"\u001b[39m\u001b[38;5;124mdescribe\u001b[39m\u001b[38;5;124m\"\u001b[39m)\n",
      "File \u001b[1;32m~\\anaconda3\\envs\\ptgp_equv_copy\\lib\\site-packages\\pandas\\core\\methods\\describe.py:97\u001b[0m, in \u001b[0;36mdescribe_ndframe\u001b[1;34m(obj, include, exclude, percentiles)\u001b[0m\n\u001b[0;32m     90\u001b[0m \u001b[38;5;28;01melse\u001b[39;00m:\n\u001b[0;32m     91\u001b[0m     describer \u001b[38;5;241m=\u001b[39m DataFrameDescriber(\n\u001b[0;32m     92\u001b[0m         obj\u001b[38;5;241m=\u001b[39mcast(\u001b[38;5;124m\"\u001b[39m\u001b[38;5;124mDataFrame\u001b[39m\u001b[38;5;124m\"\u001b[39m, obj),\n\u001b[0;32m     93\u001b[0m         include\u001b[38;5;241m=\u001b[39minclude,\n\u001b[0;32m     94\u001b[0m         exclude\u001b[38;5;241m=\u001b[39mexclude,\n\u001b[0;32m     95\u001b[0m     )\n\u001b[1;32m---> 97\u001b[0m result \u001b[38;5;241m=\u001b[39m \u001b[43mdescriber\u001b[49m\u001b[38;5;241;43m.\u001b[39;49m\u001b[43mdescribe\u001b[49m\u001b[43m(\u001b[49m\u001b[43mpercentiles\u001b[49m\u001b[38;5;241;43m=\u001b[39;49m\u001b[43mpercentiles\u001b[49m\u001b[43m)\u001b[49m\n\u001b[0;32m     98\u001b[0m \u001b[38;5;28;01mreturn\u001b[39;00m cast(NDFrameT, result)\n",
      "File \u001b[1;32m~\\anaconda3\\envs\\ptgp_equv_copy\\lib\\site-packages\\pandas\\core\\methods\\describe.py:172\u001b[0m, in \u001b[0;36mDataFrameDescriber.describe\u001b[1;34m(self, percentiles)\u001b[0m\n\u001b[0;32m    170\u001b[0m \u001b[38;5;28;01mfor\u001b[39;00m _, series \u001b[38;5;129;01min\u001b[39;00m data\u001b[38;5;241m.\u001b[39mitems():\n\u001b[0;32m    171\u001b[0m     describe_func \u001b[38;5;241m=\u001b[39m select_describe_func(series)\n\u001b[1;32m--> 172\u001b[0m     ldesc\u001b[38;5;241m.\u001b[39mappend(\u001b[43mdescribe_func\u001b[49m\u001b[43m(\u001b[49m\u001b[43mseries\u001b[49m\u001b[43m,\u001b[49m\u001b[43m \u001b[49m\u001b[43mpercentiles\u001b[49m\u001b[43m)\u001b[49m)\n\u001b[0;32m    174\u001b[0m col_names \u001b[38;5;241m=\u001b[39m reorder_columns(ldesc)\n\u001b[0;32m    175\u001b[0m d \u001b[38;5;241m=\u001b[39m concat(\n\u001b[0;32m    176\u001b[0m     [x\u001b[38;5;241m.\u001b[39mreindex(col_names, copy\u001b[38;5;241m=\u001b[39m\u001b[38;5;28;01mFalse\u001b[39;00m) \u001b[38;5;28;01mfor\u001b[39;00m x \u001b[38;5;129;01min\u001b[39;00m ldesc],\n\u001b[0;32m    177\u001b[0m     axis\u001b[38;5;241m=\u001b[39m\u001b[38;5;241m1\u001b[39m,\n\u001b[0;32m    178\u001b[0m     sort\u001b[38;5;241m=\u001b[39m\u001b[38;5;28;01mFalse\u001b[39;00m,\n\u001b[0;32m    179\u001b[0m )\n",
      "File \u001b[1;32m~\\anaconda3\\envs\\ptgp_equv_copy\\lib\\site-packages\\pandas\\core\\methods\\describe.py:233\u001b[0m, in \u001b[0;36mdescribe_numeric_1d\u001b[1;34m(series, percentiles)\u001b[0m\n\u001b[0;32m    229\u001b[0m formatted_percentiles \u001b[38;5;241m=\u001b[39m format_percentiles(percentiles)\n\u001b[0;32m    231\u001b[0m stat_index \u001b[38;5;241m=\u001b[39m [\u001b[38;5;124m\"\u001b[39m\u001b[38;5;124mcount\u001b[39m\u001b[38;5;124m\"\u001b[39m, \u001b[38;5;124m\"\u001b[39m\u001b[38;5;124mmean\u001b[39m\u001b[38;5;124m\"\u001b[39m, \u001b[38;5;124m\"\u001b[39m\u001b[38;5;124mstd\u001b[39m\u001b[38;5;124m\"\u001b[39m, \u001b[38;5;124m\"\u001b[39m\u001b[38;5;124mmin\u001b[39m\u001b[38;5;124m\"\u001b[39m] \u001b[38;5;241m+\u001b[39m formatted_percentiles \u001b[38;5;241m+\u001b[39m [\u001b[38;5;124m\"\u001b[39m\u001b[38;5;124mmax\u001b[39m\u001b[38;5;124m\"\u001b[39m]\n\u001b[0;32m    232\u001b[0m d \u001b[38;5;241m=\u001b[39m (\n\u001b[1;32m--> 233\u001b[0m     [series\u001b[38;5;241m.\u001b[39mcount(), \u001b[43mseries\u001b[49m\u001b[38;5;241;43m.\u001b[39;49m\u001b[43mmean\u001b[49m\u001b[43m(\u001b[49m\u001b[43m)\u001b[49m, series\u001b[38;5;241m.\u001b[39mstd(), series\u001b[38;5;241m.\u001b[39mmin()]\n\u001b[0;32m    234\u001b[0m     \u001b[38;5;241m+\u001b[39m series\u001b[38;5;241m.\u001b[39mquantile(percentiles)\u001b[38;5;241m.\u001b[39mtolist()\n\u001b[0;32m    235\u001b[0m     \u001b[38;5;241m+\u001b[39m [series\u001b[38;5;241m.\u001b[39mmax()]\n\u001b[0;32m    236\u001b[0m )\n\u001b[0;32m    237\u001b[0m \u001b[38;5;66;03m# GH#48340 - always return float on non-complex numeric data\u001b[39;00m\n\u001b[0;32m    238\u001b[0m dtype: DtypeObj \u001b[38;5;241m|\u001b[39m \u001b[38;5;28;01mNone\u001b[39;00m\n",
      "File \u001b[1;32m~\\anaconda3\\envs\\ptgp_equv_copy\\lib\\site-packages\\pandas\\core\\series.py:6549\u001b[0m, in \u001b[0;36mSeries.mean\u001b[1;34m(self, axis, skipna, numeric_only, **kwargs)\u001b[0m\n\u001b[0;32m   6541\u001b[0m \u001b[38;5;129m@doc\u001b[39m(make_doc(\u001b[38;5;124m\"\u001b[39m\u001b[38;5;124mmean\u001b[39m\u001b[38;5;124m\"\u001b[39m, ndim\u001b[38;5;241m=\u001b[39m\u001b[38;5;241m1\u001b[39m))\n\u001b[0;32m   6542\u001b[0m \u001b[38;5;28;01mdef\u001b[39;00m \u001b[38;5;21mmean\u001b[39m(\n\u001b[0;32m   6543\u001b[0m     \u001b[38;5;28mself\u001b[39m,\n\u001b[1;32m   (...)\u001b[0m\n\u001b[0;32m   6547\u001b[0m     \u001b[38;5;241m*\u001b[39m\u001b[38;5;241m*\u001b[39mkwargs,\n\u001b[0;32m   6548\u001b[0m ):\n\u001b[1;32m-> 6549\u001b[0m     \u001b[38;5;28;01mreturn\u001b[39;00m NDFrame\u001b[38;5;241m.\u001b[39mmean(\u001b[38;5;28mself\u001b[39m, axis, skipna, numeric_only, \u001b[38;5;241m*\u001b[39m\u001b[38;5;241m*\u001b[39mkwargs)\n",
      "File \u001b[1;32m~\\anaconda3\\envs\\ptgp_equv_copy\\lib\\site-packages\\pandas\\core\\generic.py:12420\u001b[0m, in \u001b[0;36mNDFrame.mean\u001b[1;34m(self, axis, skipna, numeric_only, **kwargs)\u001b[0m\n\u001b[0;32m  12413\u001b[0m \u001b[38;5;28;01mdef\u001b[39;00m \u001b[38;5;21mmean\u001b[39m(\n\u001b[0;32m  12414\u001b[0m     \u001b[38;5;28mself\u001b[39m,\n\u001b[0;32m  12415\u001b[0m     axis: Axis \u001b[38;5;241m|\u001b[39m \u001b[38;5;28;01mNone\u001b[39;00m \u001b[38;5;241m=\u001b[39m \u001b[38;5;241m0\u001b[39m,\n\u001b[1;32m   (...)\u001b[0m\n\u001b[0;32m  12418\u001b[0m     \u001b[38;5;241m*\u001b[39m\u001b[38;5;241m*\u001b[39mkwargs,\n\u001b[0;32m  12419\u001b[0m ) \u001b[38;5;241m-\u001b[39m\u001b[38;5;241m>\u001b[39m Series \u001b[38;5;241m|\u001b[39m \u001b[38;5;28mfloat\u001b[39m:\n\u001b[1;32m> 12420\u001b[0m     \u001b[38;5;28;01mreturn\u001b[39;00m \u001b[38;5;28mself\u001b[39m\u001b[38;5;241m.\u001b[39m_stat_function(\n\u001b[0;32m  12421\u001b[0m         \u001b[38;5;124m\"\u001b[39m\u001b[38;5;124mmean\u001b[39m\u001b[38;5;124m\"\u001b[39m, nanops\u001b[38;5;241m.\u001b[39mnanmean, axis, skipna, numeric_only, \u001b[38;5;241m*\u001b[39m\u001b[38;5;241m*\u001b[39mkwargs\n\u001b[0;32m  12422\u001b[0m     )\n",
      "File \u001b[1;32m~\\anaconda3\\envs\\ptgp_equv_copy\\lib\\site-packages\\pandas\\core\\generic.py:12377\u001b[0m, in \u001b[0;36mNDFrame._stat_function\u001b[1;34m(self, name, func, axis, skipna, numeric_only, **kwargs)\u001b[0m\n\u001b[0;32m  12373\u001b[0m nv\u001b[38;5;241m.\u001b[39mvalidate_func(name, (), kwargs)\n\u001b[0;32m  12375\u001b[0m validate_bool_kwarg(skipna, \u001b[38;5;124m\"\u001b[39m\u001b[38;5;124mskipna\u001b[39m\u001b[38;5;124m\"\u001b[39m, none_allowed\u001b[38;5;241m=\u001b[39m\u001b[38;5;28;01mFalse\u001b[39;00m)\n\u001b[1;32m> 12377\u001b[0m \u001b[38;5;28;01mreturn\u001b[39;00m \u001b[38;5;28;43mself\u001b[39;49m\u001b[38;5;241;43m.\u001b[39;49m\u001b[43m_reduce\u001b[49m\u001b[43m(\u001b[49m\n\u001b[0;32m  12378\u001b[0m \u001b[43m    \u001b[49m\u001b[43mfunc\u001b[49m\u001b[43m,\u001b[49m\u001b[43m \u001b[49m\u001b[43mname\u001b[49m\u001b[38;5;241;43m=\u001b[39;49m\u001b[43mname\u001b[49m\u001b[43m,\u001b[49m\u001b[43m \u001b[49m\u001b[43maxis\u001b[49m\u001b[38;5;241;43m=\u001b[39;49m\u001b[43maxis\u001b[49m\u001b[43m,\u001b[49m\u001b[43m \u001b[49m\u001b[43mskipna\u001b[49m\u001b[38;5;241;43m=\u001b[39;49m\u001b[43mskipna\u001b[49m\u001b[43m,\u001b[49m\u001b[43m \u001b[49m\u001b[43mnumeric_only\u001b[49m\u001b[38;5;241;43m=\u001b[39;49m\u001b[43mnumeric_only\u001b[49m\n\u001b[0;32m  12379\u001b[0m \u001b[43m\u001b[49m\u001b[43m)\u001b[49m\n",
      "File \u001b[1;32m~\\anaconda3\\envs\\ptgp_equv_copy\\lib\\site-packages\\pandas\\core\\series.py:6457\u001b[0m, in \u001b[0;36mSeries._reduce\u001b[1;34m(self, op, name, axis, skipna, numeric_only, filter_type, **kwds)\u001b[0m\n\u001b[0;32m   6452\u001b[0m     \u001b[38;5;66;03m# GH#47500 - change to TypeError to match other methods\u001b[39;00m\n\u001b[0;32m   6453\u001b[0m     \u001b[38;5;28;01mraise\u001b[39;00m \u001b[38;5;167;01mTypeError\u001b[39;00m(\n\u001b[0;32m   6454\u001b[0m         \u001b[38;5;124mf\u001b[39m\u001b[38;5;124m\"\u001b[39m\u001b[38;5;124mSeries.\u001b[39m\u001b[38;5;132;01m{\u001b[39;00mname\u001b[38;5;132;01m}\u001b[39;00m\u001b[38;5;124m does not allow \u001b[39m\u001b[38;5;132;01m{\u001b[39;00mkwd_name\u001b[38;5;132;01m}\u001b[39;00m\u001b[38;5;124m=\u001b[39m\u001b[38;5;132;01m{\u001b[39;00mnumeric_only\u001b[38;5;132;01m}\u001b[39;00m\u001b[38;5;124m \u001b[39m\u001b[38;5;124m\"\u001b[39m\n\u001b[0;32m   6455\u001b[0m         \u001b[38;5;124m\"\u001b[39m\u001b[38;5;124mwith non-numeric dtypes.\u001b[39m\u001b[38;5;124m\"\u001b[39m\n\u001b[0;32m   6456\u001b[0m     )\n\u001b[1;32m-> 6457\u001b[0m \u001b[38;5;28;01mreturn\u001b[39;00m op(delegate, skipna\u001b[38;5;241m=\u001b[39mskipna, \u001b[38;5;241m*\u001b[39m\u001b[38;5;241m*\u001b[39mkwds)\n",
      "File \u001b[1;32m~\\anaconda3\\envs\\ptgp_equv_copy\\lib\\site-packages\\pandas\\core\\nanops.py:147\u001b[0m, in \u001b[0;36mbottleneck_switch.__call__.<locals>.f\u001b[1;34m(values, axis, skipna, **kwds)\u001b[0m\n\u001b[0;32m    145\u001b[0m         result \u001b[38;5;241m=\u001b[39m alt(values, axis\u001b[38;5;241m=\u001b[39maxis, skipna\u001b[38;5;241m=\u001b[39mskipna, \u001b[38;5;241m*\u001b[39m\u001b[38;5;241m*\u001b[39mkwds)\n\u001b[0;32m    146\u001b[0m \u001b[38;5;28;01melse\u001b[39;00m:\n\u001b[1;32m--> 147\u001b[0m     result \u001b[38;5;241m=\u001b[39m alt(values, axis\u001b[38;5;241m=\u001b[39maxis, skipna\u001b[38;5;241m=\u001b[39mskipna, \u001b[38;5;241m*\u001b[39m\u001b[38;5;241m*\u001b[39mkwds)\n\u001b[0;32m    149\u001b[0m \u001b[38;5;28;01mreturn\u001b[39;00m result\n",
      "File \u001b[1;32m~\\anaconda3\\envs\\ptgp_equv_copy\\lib\\site-packages\\pandas\\core\\nanops.py:404\u001b[0m, in \u001b[0;36m_datetimelike_compat.<locals>.new_func\u001b[1;34m(values, axis, skipna, mask, **kwargs)\u001b[0m\n\u001b[0;32m    401\u001b[0m \u001b[38;5;28;01mif\u001b[39;00m datetimelike \u001b[38;5;129;01mand\u001b[39;00m mask \u001b[38;5;129;01mis\u001b[39;00m \u001b[38;5;28;01mNone\u001b[39;00m:\n\u001b[0;32m    402\u001b[0m     mask \u001b[38;5;241m=\u001b[39m isna(values)\n\u001b[1;32m--> 404\u001b[0m result \u001b[38;5;241m=\u001b[39m func(values, axis\u001b[38;5;241m=\u001b[39maxis, skipna\u001b[38;5;241m=\u001b[39mskipna, mask\u001b[38;5;241m=\u001b[39mmask, \u001b[38;5;241m*\u001b[39m\u001b[38;5;241m*\u001b[39mkwargs)\n\u001b[0;32m    406\u001b[0m \u001b[38;5;28;01mif\u001b[39;00m datetimelike:\n\u001b[0;32m    407\u001b[0m     result \u001b[38;5;241m=\u001b[39m _wrap_results(result, orig_values\u001b[38;5;241m.\u001b[39mdtype, fill_value\u001b[38;5;241m=\u001b[39miNaT)\n",
      "File \u001b[1;32m~\\anaconda3\\envs\\ptgp_equv_copy\\lib\\site-packages\\pandas\\core\\nanops.py:719\u001b[0m, in \u001b[0;36mnanmean\u001b[1;34m(values, axis, skipna, mask)\u001b[0m\n\u001b[0;32m    716\u001b[0m     dtype_count \u001b[38;5;241m=\u001b[39m dtype\n\u001b[0;32m    718\u001b[0m count \u001b[38;5;241m=\u001b[39m _get_counts(values\u001b[38;5;241m.\u001b[39mshape, mask, axis, dtype\u001b[38;5;241m=\u001b[39mdtype_count)\n\u001b[1;32m--> 719\u001b[0m the_sum \u001b[38;5;241m=\u001b[39m \u001b[43mvalues\u001b[49m\u001b[38;5;241;43m.\u001b[39;49m\u001b[43msum\u001b[49m\u001b[43m(\u001b[49m\u001b[43maxis\u001b[49m\u001b[43m,\u001b[49m\u001b[43m \u001b[49m\u001b[43mdtype\u001b[49m\u001b[38;5;241;43m=\u001b[39;49m\u001b[43mdtype_sum\u001b[49m\u001b[43m)\u001b[49m\n\u001b[0;32m    720\u001b[0m the_sum \u001b[38;5;241m=\u001b[39m _ensure_numeric(the_sum)\n\u001b[0;32m    722\u001b[0m \u001b[38;5;28;01mif\u001b[39;00m axis \u001b[38;5;129;01mis\u001b[39;00m \u001b[38;5;129;01mnot\u001b[39;00m \u001b[38;5;28;01mNone\u001b[39;00m \u001b[38;5;129;01mand\u001b[39;00m \u001b[38;5;28mgetattr\u001b[39m(the_sum, \u001b[38;5;124m\"\u001b[39m\u001b[38;5;124mndim\u001b[39m\u001b[38;5;124m\"\u001b[39m, \u001b[38;5;28;01mFalse\u001b[39;00m):\n",
      "File \u001b[1;32m~\\anaconda3\\envs\\ptgp_equv_copy\\lib\\site-packages\\numpy\\_core\\_methods.py:52\u001b[0m, in \u001b[0;36m_sum\u001b[1;34m(a, axis, dtype, out, keepdims, initial, where)\u001b[0m\n\u001b[0;32m     50\u001b[0m \u001b[38;5;28;01mdef\u001b[39;00m \u001b[38;5;21m_sum\u001b[39m(a, axis\u001b[38;5;241m=\u001b[39m\u001b[38;5;28;01mNone\u001b[39;00m, dtype\u001b[38;5;241m=\u001b[39m\u001b[38;5;28;01mNone\u001b[39;00m, out\u001b[38;5;241m=\u001b[39m\u001b[38;5;28;01mNone\u001b[39;00m, keepdims\u001b[38;5;241m=\u001b[39m\u001b[38;5;28;01mFalse\u001b[39;00m,\n\u001b[0;32m     51\u001b[0m          initial\u001b[38;5;241m=\u001b[39m_NoValue, where\u001b[38;5;241m=\u001b[39m\u001b[38;5;28;01mTrue\u001b[39;00m):\n\u001b[1;32m---> 52\u001b[0m     \u001b[38;5;28;01mreturn\u001b[39;00m \u001b[43mumr_sum\u001b[49m\u001b[43m(\u001b[49m\u001b[43ma\u001b[49m\u001b[43m,\u001b[49m\u001b[43m \u001b[49m\u001b[43maxis\u001b[49m\u001b[43m,\u001b[49m\u001b[43m \u001b[49m\u001b[43mdtype\u001b[49m\u001b[43m,\u001b[49m\u001b[43m \u001b[49m\u001b[43mout\u001b[49m\u001b[43m,\u001b[49m\u001b[43m \u001b[49m\u001b[43mkeepdims\u001b[49m\u001b[43m,\u001b[49m\u001b[43m \u001b[49m\u001b[43minitial\u001b[49m\u001b[43m,\u001b[49m\u001b[43m \u001b[49m\u001b[43mwhere\u001b[49m\u001b[43m)\u001b[49m\n",
      "\u001b[1;31mKeyboardInterrupt\u001b[0m: "
     ]
    }
   ],
   "source": [
    "print(data.isna().sum())  # Check for missing values\n",
    "print(np.isinf(data[\"log_unit_sales\"]).sum())  # Should be 0\n",
    "print(data.describe())  # Look for extreme outliers"
   ]
  },
  {
   "cell_type": "code",
   "execution_count": null,
   "id": "2a82672a-d9f4-45f2-9a52-b9679ea449f5",
   "metadata": {},
   "outputs": [],
   "source": [
    "# Total rows after cleaning\n",
    "total_rows_after = len(data)\n",
    "print(f\"Rows after cleaning: {total_rows_after}\")\n",
    "print(f\"Rows removed: {total_rows_before - total_rows_after} ({(total_rows_before - total_rows_after) / total_rows_before * 100:.4f}%)\")"
   ]
  },
  {
   "cell_type": "code",
   "execution_count": null,
   "id": "d30280c7-16b1-439b-b3c4-afd44c2fa857",
   "metadata": {},
   "outputs": [],
   "source": [
    "series_counts = data.groupby([\"store_nbr\", \"item_nbr\"]).size()\n",
    "\n",
    "# Total number of series\n",
    "num_series = series_counts.count()\n",
    "print(f\"Total number of time series: {num_series}\")\n",
    "\n",
    "# Optional: Summary statistics about series lengths\n",
    "print(\"\\nSeries length statistics:\")\n",
    "print(series_counts.describe())\n",
    "\n",
    "# Optional: View the first few series and their lengths\n",
    "print(\"\\nFirst 5 series and their lengths:\")\n",
    "print(series_counts.head())\n",
    "\n"
   ]
  },
  {
   "cell_type": "code",
   "execution_count": null,
   "id": "3a18506d-3d94-4254-b4bd-51f32221448a",
   "metadata": {},
   "outputs": [],
   "source": [
    "if 1==1:\n",
    "    total_series = data.groupby([\"store_nbr\", \"item_nbr\"]).ngroups\n",
    "    print(f\"Total series in full data: {total_series}\")\n",
    "    print(f\"Series excluded in validation: 9545\")\n",
    "    print(f\"Percentage excluded: {(9545 / total_series) * 100:.2f}%\")\n",
    "    "
   ]
  },
  {
   "cell_type": "code",
   "execution_count": null,
   "id": "89bdc4c8-3198-4bdf-b0a7-f5b913584403",
   "metadata": {},
   "outputs": [],
   "source": [
    "if 1==1:\n",
    "    series_lengths = data.groupby([\"store_nbr\", \"item_nbr\"]).size()\n",
    "    print(\"Series length statistics in full data:\")\n",
    "    print(series_lengths.describe())\n",
    "    print(f\"Number of series shorter than {training.min_encoder_length + 1}:\")\n",
    "    print((series_lengths < (training.min_encoder_length + 1)).sum())\n",
    "    "
   ]
  },
  {
   "cell_type": "code",
   "execution_count": null,
   "id": "0212d34f-513f-4d97-a7a9-9f14acf624cb",
   "metadata": {},
   "outputs": [],
   "source": [
    "if 1==1:\n",
    "    future_data = data[data[\"time_idx\"] > training_cutoff]\n",
    "    future_series_lengths = future_data.groupby([\"store_nbr\", \"item_nbr\"]).size()\n",
    "    print(\"Series length statistics beyond training_cutoff:\")\n",
    "    print(future_series_lengths.describe())\n",
    "    print(f\"Number of series with no future data: {(future_series_lengths == 0).sum()}\")"
   ]
  },
  {
   "cell_type": "code",
   "execution_count": null,
   "id": "4b111d2f-ba68-4376-8c38-aa33d6f43722",
   "metadata": {},
   "outputs": [],
   "source": [
    "if 1==1:\n",
    "    num_series_in_validation = len(validation.group_ids)\n",
    "    print(f\"Series retained in validation: {num_series_in_validation}\")\n",
    "    print(f\"Series excluded: {total_series - num_series_in_validation}\")"
   ]
  },
  {
   "cell_type": "code",
   "execution_count": null,
   "id": "132c2dc0-77bb-4754-b0f7-2fd811e85046",
   "metadata": {},
   "outputs": [],
   "source": [
    "if 1==1:\n",
    "    total_series_ngroups = data.groupby([\"store_nbr\", \"item_nbr\"]).ngroups\n",
    "    total_series_size = data.groupby([\"store_nbr\", \"item_nbr\"]).size().count()\n",
    "    print(f\"Total series (ngroups): {total_series_ngroups}\")\n",
    "    print(f\"Total series (size count): {total_series_size}\")"
   ]
  },
  {
   "cell_type": "code",
   "execution_count": null,
   "id": "f9127e52-6bb5-419b-8822-6318cb64d860",
   "metadata": {},
   "outputs": [],
   "source": [
    "if 1==1:\n",
    "    print(f\"Min time_idx: {data['time_idx'].min()}\")\n",
    "    print(f\"Max time_idx: {data['time_idx'].max()}\")\n",
    "    print(f\"Training cutoff: {training_cutoff}\")\n",
    "    print(f\"Future time steps available: {data['time_idx'].max() - training_cutoff}\")"
   ]
  },
  {
   "cell_type": "code",
   "execution_count": null,
   "id": "c63034fd-bc21-4b3e-88c0-3e5e50aafac5",
   "metadata": {},
   "outputs": [],
   "source": [
    "if 1==1:\n",
    "    print(f\"Prediction windows in validation (likely unique series): {len(validation)}\")\n",
    "    print(f\"Series excluded: {total_series - len(validation)}\")"
   ]
  },
  {
   "cell_type": "code",
   "execution_count": null,
   "id": "48388ae2-8f00-444d-8c8b-34710d89aba4",
   "metadata": {},
   "outputs": [],
   "source": [
    "if 1==1:\n",
    "    print(f\"Rows in data: {len(data)}\")\n",
    "    print(f\"Unique store_nbr, item_nbr pairs: {data.groupby(['store_nbr', 'item_nbr']).ngroups}\")\n",
    "    print(f\"Duplicate rows: {data.duplicated().sum()}\")\n"
   ]
  },
  {
   "cell_type": "code",
   "execution_count": null,
   "id": "fd1cbbc4-3922-427c-8fe1-08970aae926b",
   "metadata": {},
   "outputs": [],
   "source": [
    "if 1==1:\n",
    "    retained_groups = set()\n",
    "    \n",
    "    for batch in val_dataloader:\n",
    "        group_ids = batch[0][\"groups\"]  # Tensor of [store_nbr, item_nbr] pairs\n",
    "        for group in group_ids:\n",
    "            retained_groups.add(tuple(group.tolist()))  # Convert tensor to tuple for set\n",
    "    \n",
    "    # Get all group IDs from data\n",
    "    all_groups = set(data.groupby([\"store_nbr\", \"item_nbr\"]).groups.keys())\n",
    "    \n",
    "    # Identify excluded groups\n",
    "    excluded_groups = all_groups - retained_groups\n",
    "    \n",
    "    # Filter data for excluded series\n",
    "    excluded_df = data[data.set_index([\"store_nbr\", \"item_nbr\"]).index.isin(excluded_groups)].reset_index()\n",
    "    \n",
    "    # Analyze excluded series\n",
    "    print(f\"Number of excluded series: {len(excluded_groups)}\")\n",
    "    print(f\"Average log_unit_sales of excluded series: {excluded_df['log_unit_sales'].mean()}\")\n",
    "    print(f\"Number of unique stores in excluded series: {excluded_df['store_nbr'].nunique()}\")\n",
    "    print(f\"Number of unique items in excluded series: {excluded_df['item_nbr'].nunique()}\")\n",
    "    print(f\"Percentage of total series excluded: {(len(excluded_groups) / total_series) * 100:.2f}%\")\n",
    "\n",
    "\n",
    "\n"
   ]
  },
  {
   "cell_type": "code",
   "execution_count": null,
   "id": "e26df5c9-0284-4920-b04b-e6325aedf995",
   "metadata": {},
   "outputs": [],
   "source": []
  },
  {
   "cell_type": "code",
   "execution_count": null,
   "id": "3a771172-36ba-47cd-86c8-e979b78ee2c9",
   "metadata": {},
   "outputs": [],
   "source": []
  },
  {
   "cell_type": "code",
   "execution_count": null,
   "id": "a224469d-a2ae-46a8-b219-78928a64c05f",
   "metadata": {},
   "outputs": [],
   "source": []
  },
  {
   "cell_type": "code",
   "execution_count": null,
   "id": "cdc89285-9277-4e4e-85b0-a6ea1fe8e85e",
   "metadata": {},
   "outputs": [],
   "source": []
  },
  {
   "cell_type": "code",
   "execution_count": null,
   "id": "0c2d9c9e-a8d0-4e53-8ba2-c28688064702",
   "metadata": {},
   "outputs": [],
   "source": [
    "if 1 == 1:\n",
    "    training = TimeSeriesDataSet(\n",
    "    data=data[lambda x: x.time_idx <= training_cutoff],\n",
    "    time_idx=\"time_idx\",\n",
    "    target=\"log_unit_sales\",\n",
    "    group_ids=[\"store_nbr\", \"item_nbr\"],\n",
    "    min_encoder_length=(max_encoder_length // 2) - 1,\n",
    "    max_encoder_length=max_encoder_length,\n",
    "    static_categoricals=[\"store_nbr\", \"item_nbr\"],\n",
    "    time_varying_known_categoricals=[\"is_onpromotion\", \"is_holiday\"],\n",
    "    time_varying_unknown_categoricals=[],\n",
    "    time_varying_known_reals=[\"day\", \"month\", \"weekday\", \"year\", \"transactions\"],\n",
    "    time_varying_unknown_reals=[\"log_unit_sales\"],\n",
    "    target_normalizer=GroupNormalizer(groups=[\"store_nbr\", \"item_nbr\"], transformation=None),  # Remove softplus\n",
    "    add_relative_time_idx=True,\n",
    "    add_target_scales=True,\n",
    "    add_encoder_length=True,\n",
    "    allow_missing_timesteps=True,\n",
    ")\n"
   ]
  },
  {
   "cell_type": "code",
   "execution_count": null,
   "id": "612e15b6-0c2d-492a-8022-8773a23ff855",
   "metadata": {},
   "outputs": [],
   "source": [
    "if 1 == -1:\n",
    "    # Save dataset object\n",
    "    torch.save(training, \"training_dataset.pt\")\n"
   ]
  },
  {
   "cell_type": "code",
   "execution_count": null,
   "id": "db426560-31ba-40f2-b284-99a12f8282a6",
   "metadata": {},
   "outputs": [],
   "source": [
    "if 1==-1:\n",
    "    # Load dataset object\n",
    "    training = torch.load(\"training_dataset.pt\",weights_only=False)\n"
   ]
  },
  {
   "cell_type": "code",
   "execution_count": null,
   "id": "a1cabd41-82d7-4998-99ad-806cb7ce3399",
   "metadata": {
    "jupyter": {
     "source_hidden": true
    }
   },
   "outputs": [],
   "source": [
    "# # Save the TimeSeriesDataSet object\n",
    "# with open(\"training_dataset.pkl\", \"wb\") as f:\n",
    "#     pickle.dump(training, f)\n",
    "\n",
    "# print(\"TimeSeriesDataSet saved successfully!\")"
   ]
  },
  {
   "cell_type": "code",
   "execution_count": null,
   "id": "b87b7ca6-1bf1-4635-a07d-de09cf3179f9",
   "metadata": {
    "jupyter": {
     "source_hidden": true
    }
   },
   "outputs": [],
   "source": [
    "# # Load the saved TimeSeriesDataSet object\n",
    "# with open(\"training_dataset.pkl\", \"rb\") as f:\n",
    "#     training = pickle.load(f)\n",
    "\n",
    "# print(\"TimeSeriesDataSet loaded successfully!\")"
   ]
  },
  {
   "cell_type": "code",
   "execution_count": null,
   "id": "2005e9d2-3a2b-46a7-b60a-1eb2831b1ad5",
   "metadata": {},
   "outputs": [],
   "source": [
    "#95% coverage for validation "
   ]
  },
  {
   "cell_type": "code",
   "execution_count": null,
   "id": "47756e8e-e01b-41c4-afdc-0cf19cf0dcd9",
   "metadata": {},
   "outputs": [],
   "source": [
    "if 1 == 1:\n",
    "    # create validation set (predict=True) which means to predict the last max_prediction_length points in time for each series\n",
    "    validation = TimeSeriesDataSet.from_dataset(\n",
    "        training,\n",
    "        data,\n",
    "        predict=True,\n",
    "        stop_randomization=True)"
   ]
  },
  {
   "cell_type": "code",
   "execution_count": null,
   "id": "1554f897-ae07-4711-b6f3-104c1972e54c",
   "metadata": {},
   "outputs": [],
   "source": [
    "if 1 == -1:\n",
    "# Save dataset object\n",
    "    torch.save(validation, \"validation_dataset.pt\")\n"
   ]
  },
  {
   "cell_type": "code",
   "execution_count": null,
   "id": "576f8d67-a72b-4020-8df2-1f3f57852d2d",
   "metadata": {},
   "outputs": [],
   "source": [
    "if 1 == -1:\n",
    "    # Load dataset object\n",
    "    validation = torch.load(\"validation_dataset.pt\",weights_only=False)"
   ]
  },
  {
   "cell_type": "code",
   "execution_count": null,
   "id": "2b0072a8-3fbd-4609-a15a-3e2c5ea80f77",
   "metadata": {},
   "outputs": [],
   "source": [
    "# create dataloaders for model\n",
    "batch_size = 128  # setting it between 32 to 128\n",
    "train_dataloader = training.to_dataloader(train=True, batch_size=batch_size, num_workers=0)\n",
    "val_dataloader = validation.to_dataloader(train=False, batch_size=batch_size * 10, num_workers=0)"
   ]
  },
  {
   "cell_type": "code",
   "execution_count": null,
   "id": "69574d27-2cdb-4838-a826-2687b86044cc",
   "metadata": {},
   "outputs": [],
   "source": [
    "print(\"Dataset categoricals:\", training.categoricals)\n",
    "\n"
   ]
  },
  {
   "cell_type": "code",
   "execution_count": null,
   "id": "cc2067ca-7b4a-4044-b018-4e7c13b698d5",
   "metadata": {},
   "outputs": [],
   "source": [
    "for batch in train_dataloader:\n",
    "    x, y = batch\n",
    "    print(\"Available keys in x:\", x.keys())  # Debugging step\n",
    "    break"
   ]
  },
  {
   "cell_type": "code",
   "execution_count": null,
   "id": "c7e32ac0-b259-4794-992c-546baea0e8d4",
   "metadata": {},
   "outputs": [],
   "source": [
    "for batch in train_dataloader:\n",
    "    x, y = batch\n",
    "    print(\"Encoder Categorical Shape:\", x[\"encoder_cat\"].shape)\n",
    "    print(\"Decoder Categorical Shape:\", x[\"decoder_cat\"].shape)\n",
    "    break\n"
   ]
  },
  {
   "cell_type": "code",
   "execution_count": null,
   "id": "7e9a4544-d846-431f-a6c1-88d118ae19df",
   "metadata": {},
   "outputs": [],
   "source": [
    "print(\"Available keys in hparams:\", tft.hparams.keys())\n"
   ]
  },
  {
   "cell_type": "code",
   "execution_count": null,
   "id": "59882275-b522-4b47-bb30-71ef590687ac",
   "metadata": {},
   "outputs": [],
   "source": [
    "# Debug model embeddings\n",
    "print(\"Model embedding names:\", list(tft.input_embeddings.embeddings.keys()))\n",
    "for name, emb in tft.input_embeddings.embeddings.items():\n",
    "    print(f\"Embedding for {name}: num_embeddings={emb.num_embeddings}, embedding_dim={emb.embedding_dim}\")"
   ]
  },
  {
   "cell_type": "code",
   "execution_count": null,
   "id": "0b13982e-2d15-4061-b610-bdcfecaadbf2",
   "metadata": {},
   "outputs": [],
   "source": [
    "print(\"Available keys in hparams:\", tft.hparams.keys())\n"
   ]
  },
  {
   "cell_type": "code",
   "execution_count": null,
   "id": "d04eefc7-39b9-4287-8493-609da56d46d1",
   "metadata": {},
   "outputs": [],
   "source": [
    "print(\"Defined categorical variables:\", tft.hparams.time_varying_categoricals_encoder + tft.hparams.time_varying_categoricals_decoder)\n",
    "print(\"Expected number of categorical features:\", len(tft.hparams.time_varying_categoricals_encoder) + len(tft.hparams.time_varying_categoricals_decoder))\n"
   ]
  },
  {
   "cell_type": "code",
   "execution_count": null,
   "id": "74df2cfe-4312-44b9-b0eb-6a2ef66c6582",
   "metadata": {},
   "outputs": [],
   "source": [
    "print(\"Model embedding names:\", list(tft.input_embeddings.embeddings.keys()))"
   ]
  },
  {
   "cell_type": "code",
   "execution_count": null,
   "id": "0d852c8e-8a42-4858-a0cc-82bea63cdd67",
   "metadata": {},
   "outputs": [],
   "source": [
    "print(\"Static categorical variables:\", tft.hparams.static_categoricals)\n"
   ]
  },
  {
   "cell_type": "code",
   "execution_count": null,
   "id": "fa34231e-b843-4b89-bb60-86488b080cc8",
   "metadata": {},
   "outputs": [],
   "source": [
    "unique_categoricals = list(set(tft.hparams.time_varying_categoricals_encoder + tft.hparams.time_varying_categoricals_decoder))\n",
    "print(\"Unique categorical variables:\", unique_categoricals)\n",
    "print(\"Expected number of unique categorical features:\", len(unique_categoricals))\n"
   ]
  },
  {
   "cell_type": "code",
   "execution_count": null,
   "id": "307fc75f-2852-44ab-b3bd-7147e66a7beb",
   "metadata": {},
   "outputs": [],
   "source": [
    "print(\"Static categorical variables:\", tft.hparams.static_categoricals)\n"
   ]
  },
  {
   "cell_type": "code",
   "execution_count": null,
   "id": "a08139cf-a262-49c5-bbb8-08a01d78cb4d",
   "metadata": {},
   "outputs": [],
   "source": [
    "# Combine static and time-varying categorical variables\n",
    "all_categoricals = tft.hparams.static_categoricals + \\\n",
    "                   tft.hparams.time_varying_categoricals_encoder + \\\n",
    "                   tft.hparams.time_varying_categoricals_decoder\n",
    "\n",
    "# Remove duplicates\n",
    "unique_categoricals = list(set(all_categoricals))\n",
    "\n",
    "print(\"Corrected categorical variables:\", unique_categoricals)\n",
    "print(\"Expected number of categorical features:\", len(unique_categoricals))\n"
   ]
  },
  {
   "cell_type": "code",
   "execution_count": null,
   "id": "f1f8e1c2-3210-435b-a5a7-ec6ce728ea7a",
   "metadata": {},
   "outputs": [],
   "source": [
    "print(\"Encoder Categorical Features Shape:\", x[\"encoder_cat\"].shape)\n",
    "print(\"Decoder Categorical Features Shape:\", x[\"decoder_cat\"].shape)\n"
   ]
  },
  {
   "cell_type": "code",
   "execution_count": null,
   "id": "2c4d43bf-cb4f-4d7f-b419-3200b8ab1605",
   "metadata": {},
   "outputs": [],
   "source": [
    "for name, emb_layer in tft.input_embeddings.items():\n",
    "    print(f\"Embedding for {name}: {emb_layer}\")\n"
   ]
  },
  {
   "cell_type": "code",
   "execution_count": null,
   "id": "5a518ed2-0d1a-49e5-87d0-9364b20f877d",
   "metadata": {},
   "outputs": [],
   "source": [
    "x_cat_sample = x[\"encoder_cat\"]  \n",
    "embedded_cat = {name: tft.input_embeddings[name](x_cat_sample[..., idx]) \n",
    "                for idx, name in enumerate(tft.hparams.x_categoricals)}\n",
    "\n",
    "for name, emb in embedded_cat.items():\n",
    "    print(f\"Embedded shape for {name}: {emb.shape}\")\n"
   ]
  },
  {
   "cell_type": "code",
   "execution_count": null,
   "id": "1545d0fc-2fa2-4a7a-afdb-951955ee1f38",
   "metadata": {},
   "outputs": [],
   "source": [
    "# # Set DataLoader with More Workers for Faster Loading\n",
    "# batch_size = 1024\n",
    "# num_workers = 7  # Adjust based on CPU cores (Higher = Faster)\n",
    "# train_dataloader = training.to_dataloader(train=True, batch_size=batch_size, num_workers=num_workers,pin_memory=True)\n",
    "# val_dataloader = training.to_dataloader(train=False, batch_size=batch_size, num_workers=num_workers,pin_memory=True)"
   ]
  },
  {
   "cell_type": "code",
   "execution_count": null,
   "id": "228fbe5f-9db6-42eb-bff4-28f07c0f3c5f",
   "metadata": {},
   "outputs": [],
   "source": [
    "#Create baseline model"
   ]
  },
  {
   "cell_type": "code",
   "execution_count": null,
   "id": "483c66e9-f79d-470b-8390-8b2c0478320a",
   "metadata": {},
   "outputs": [],
   "source": [
    "# calculate baseline mean absolute error, i.e. predict next value as the last available value from the history\n",
    "device = torch.device(\"cuda\" if torch.cuda.is_available() else \"cpu\")\n",
    "actuals = torch.cat([y for x, (y, weight) in iter(val_dataloader)]).to(device)\n",
    "baseline_predictions = Baseline().predict(val_dataloader)\n",
    "baseline_predictions = baseline_predictions.to(device)\n",
    "mae=(actuals - baseline_predictions).abs().mean().item()\n",
    "print(f\"MAE loss for naive base model prediction on validation: {mae:.4f}\")\n"
   ]
  },
  {
   "cell_type": "code",
   "execution_count": null,
   "id": "1dad9126-a8c5-4fc0-bb57-e1035cd07fab",
   "metadata": {},
   "outputs": [],
   "source": [
    "sm_loss = SMAPE().loss(actuals, baseline_predictions.to(device)).mean(axis = 1).median().item()\n",
    "print(f\"Median loss for naive prediction on validation: {sm_loss:.4f}\")\n"
   ]
  },
  {
   "cell_type": "code",
   "execution_count": null,
   "id": "20ed284f-1fc4-46bb-9188-f664da8b4264",
   "metadata": {},
   "outputs": [],
   "source": [
    "print(training.get_parameters())"
   ]
  },
  {
   "cell_type": "code",
   "execution_count": null,
   "id": "969318d9-4d0c-47c7-9184-3a810c44e607",
   "metadata": {},
   "outputs": [],
   "source": [
    "#Train the Temporal Fusion Transformer"
   ]
  },
  {
   "cell_type": "code",
   "execution_count": null,
   "id": "136f86b5-9aa6-4f1d-8e20-5074ddcc8261",
   "metadata": {},
   "outputs": [],
   "source": [
    "# Define TFT Model\n",
    "if 1==-1:\n",
    "    tft = TemporalFusionTransformer.from_dataset(\n",
    "        training,\n",
    "        learning_rate=0.03,\n",
    "        hidden_size=16,\n",
    "        attention_head_size=4,\n",
    "        dropout=0.2,\n",
    "        hidden_continuous_size=8,\n",
    "        output_size=7,  # Outputs for quantile forecasting\n",
    "        loss=QuantileLoss(),\n",
    "        logging_metrics=[MAE(), RMSE()],\n",
    "        optimizer=\"ranger\",\n",
    "        reduce_on_plateau_patience=1000,\n",
    "    )\n"
   ]
  },
  {
   "cell_type": "code",
   "execution_count": null,
   "id": "f839f945-0979-44df-92bd-7b3b4fe35d62",
   "metadata": {},
   "outputs": [],
   "source": [
    "if 1==1:\n",
    "    tft = TemporalFusionTransformer.from_dataset(\n",
    "    training,\n",
    "    learning_rate=0.0011,\n",
    "    hidden_size=128,              # Tuned hidden size\n",
    "    attention_head_size=3,        # Tuned attention head size\n",
    "    dropout=0.48,                 # Tuned dropout value\n",
    "    hidden_continuous_size=40,    # Tuned continuous hidden size (<= hidden_size)\n",
    "    loss=MAE(),\n",
    "    optimizer=\"ranger\",\n",
    ")\n",
    "print(f\"Number of parameters in network: {tft.size() / 1e3:.1f}k\")\n"
   ]
  },
  {
   "cell_type": "code",
   "execution_count": null,
   "id": "0815dc06-1e0c-4580-a9d1-08502ce7f4be",
   "metadata": {},
   "outputs": [],
   "source": [
    "# Callbacks\n",
    "class DebugCallback(Callback):\n",
    "    def on_train_batch_end(self, trainer, pl_module, outputs, batch, batch_idx):\n",
    "        loss = outputs[\"loss\"].item()\n",
    "        if not np.isfinite(loss):\n",
    "            print(f\"Batch {batch_idx} - Loss: {loss}\")\n",
    "            print(\"Predictions:\", outputs[\"y_pred\"][:5])\n",
    "            print(\"Targets:\", batch[1][\"decoder_target\"][:5])\n",
    "            raise ValueError(\"Non-finite loss detected\")\n",
    "\n",
    "class DebugBatchCallback(Callback):\n",
    "    def on_validation_batch_start(self, trainer, pl_module, batch, batch_idx, dataloader_idx=0):\n",
    "        x, y = batch\n",
    "        print(f\"Batch {batch_idx} - x_cat shape: {x['encoder_cat'].shape}\")\n",
    "        print(f\"x_cat values: {x['encoder_cat'][:5]}\")"
   ]
  },
  {
   "cell_type": "code",
   "execution_count": null,
   "id": "0b637b96-a269-4aa6-932e-1741f6e930ef",
   "metadata": {},
   "outputs": [],
   "source": [
    "if 1 == 1:\n",
    "    # configure network and trainer\n",
    "    pl.seed_everything(69)\n",
    "    # Define Trainer without any automatic LR finder callbacks (so tuner can be used)\n",
    "    trainer = Trainer(\n",
    "        accelerator=\"cuda\" if torch.cuda.is_available() else \"cpu\",\n",
    "        devices=1,\n",
    "        max_epochs=1,  # One epoch is enough for lr_find\n",
    "        gradient_clip_val=0.45,\n",
    "        accumulate_grad_batches=1,\n",
    "        callbacks=[RichProgressBar(),DebugCallback,DebugBatchCallback],\n",
    "        precision=\"bf16-mixed\"\n",
    "        )\n"
   ]
  },
  {
   "cell_type": "code",
   "execution_count": null,
   "id": "49263679-64b8-4cdb-bb4c-d06d50504212",
   "metadata": {},
   "outputs": [],
   "source": [
    "if 1==-1:\n",
    "    for name, param in tft.named_parameters():\n",
    "        print(name, param.requires_grad)    \n",
    "\n"
   ]
  },
  {
   "cell_type": "code",
   "execution_count": null,
   "id": "36c7c22a-d6cd-44d8-bf33-67c291052033",
   "metadata": {
    "jupyter": {
     "source_hidden": true
    }
   },
   "outputs": [],
   "source": [
    "if 1 == -1:\n",
    "    tft.train\n",
    "    for batch in train_dataloader:\n",
    "        # batch typically is a tuple, e.g., (x, (y, weight))\n",
    "        x, (y, weight) = batch  \n",
    "        # Now use x as your inputs\n",
    "        outputs = tft(x)\n",
    "        print(outputs)\n",
    "        print(\"outputs.requires_grad:\", outputs.requires_grad)\n",
    "        break  # Only check for one batch\n",
    "\n"
   ]
  },
  {
   "cell_type": "code",
   "execution_count": null,
   "id": "ab613e7f-93fe-4906-8d85-c8740f4993e6",
   "metadata": {},
   "outputs": [],
   "source": [
    "# if 1==1:\n",
    "    \n",
    "#     # Suppose x is your input dictionary that you updated so that all floating point tensors require gradients:\n",
    "#     for key, value in x.items():\n",
    "#         if isinstance(value, torch.Tensor) and value.is_floating_point():\n",
    "#             x[key] = value.requires_grad_()\n",
    "    \n",
    "#     # Pass the updated x to your TFT model to get outputs\n",
    "#     outputs = tft(x)\n",
    "    \n",
    "#     # Extract predictions (assuming tft returns an object with attribute \"prediction\")\n",
    "#     if hasattr(outputs, \"prediction\"):\n",
    "#         preds = outputs.prediction  # shape: (batch_size, seq_len, num_quantiles)\n",
    "#     else:\n",
    "#         preds = outputs  # if tft returns a tensor directly\n",
    "    \n",
    "#     # Determine the batch size and sequence length\n",
    "#     batch_size, seq_len, num_quantiles = preds.shape\n",
    "    \n",
    "#     # Create dummy target tensor with shape (batch_size, seq_len)\n",
    "#     # (For instance, here we set all target values to 1.0; replace this with your actual target values when available)\n",
    "#     dummy_targets = torch.ones(batch_size, seq_len, device=preds.device)\n",
    "    \n",
    "#     # Instantiate QuantileLoss with your chosen quantiles\n",
    "#     loss_fn = QuantileLoss(quantiles=[0.1, 0.2, 0.3, 0.4, 0.5, 0.6, 0.7])\n",
    "    \n",
    "#     # Compute the loss; QuantileLoss expects predictions of shape (batch, seq_len, n_quantiles)\n",
    "#     # and targets of shape (batch, seq_len)\n",
    "#     loss = loss_fn(preds, dummy_targets)\n",
    "#     print(\"Loss:\", loss.item())\n",
    "    \n",
    "#     # Perform backward pass\n",
    "#     loss.backward()\n"
   ]
  },
  {
   "cell_type": "code",
   "execution_count": null,
   "id": "0b849b6b-d78a-443b-89cd-6968262aa7ce",
   "metadata": {},
   "outputs": [],
   "source": [
    "# if 1 == -1:\n",
    "#     def quantile_loss(y_pred, y_true, quantiles=[0.1, 0.5, 0.9]):\n",
    "#         losses = []\n",
    "#     # Assuming y_pred has shape (batch_size, num_quantiles) and y_true has shape (batch_size,)\n",
    "#         for i, q in enumerate(quantiles):\n",
    "#             errors = y_true - y_pred[:, i]\n",
    "#         # The loss penalizes underestimates and overestimates differently based on q\n",
    "#             losses.append(torch.max((q - 1) * errors, q * errors).mean())\n",
    "#         return sum(losses)\n",
    "\n",
    "#     # Use the function directly as your loss_fn\n",
    "#     loss_fn = quantile_loss\n",
    "\n",
    "#     for key, value in x.items():\n",
    "#         if isinstance(value, torch.Tensor) and value.is_floating_point():\n",
    "#             x[key] = value.requires_grad_()\n",
    "#     # Forward pass: obtain model outputs\n",
    "#     outputs = tft(x)\n",
    "\n",
    "#     # Compute the loss using your function\n",
    "#     loss = loss_fn(outputs, targets)\n",
    "#     print(\"Loss:\", loss.item())\n",
    "\n",
    "#     # Backward pass: compute gradients\n",
    "#     loss.backward()\n",
    "\n",
    "#     # Update the model parameters (assuming you have an optimizer set up)\n",
    "#     optimizer.step()\n",
    "#     optimizer.zero_grad()\n",
    "\n"
   ]
  },
  {
   "cell_type": "code",
   "execution_count": null,
   "id": "5f174164-470a-4615-8761-e7ad079a685a",
   "metadata": {},
   "outputs": [],
   "source": [
    "if 1 == -1:\n",
    "    # find optimal learning rate\n",
    "    from lightning.pytorch.tuner import Tuner\n",
    "\n",
    "    res = Tuner(trainer).lr_find(\n",
    "        model=tft,\n",
    "        train_dataloaders=train_dataloader,  # ensure train_dataloader is defined\n",
    "        val_dataloaders=val_dataloader,        # ensure val_dataloader is defined\n",
    "        min_lr=1e-3,\n",
    "        max_lr=0.1,\n",
    "        num_training=10,  # number of batches to run for lr_find\n",
    "        mode=\"exponential\"\n",
    "    )"
   ]
  },
  {
   "cell_type": "code",
   "execution_count": null,
   "id": "1f272667-e666-4602-b911-feb81d4cc269",
   "metadata": {},
   "outputs": [],
   "source": [
    "# # Print and plot the suggested learning rate.\n",
    "# suggested_lr = lr_finder.suggestion()\n",
    "# print(f\"Suggested learning rate: {suggested_lr}\")\n",
    "# fig = lr_finder.plot(show=True, suggest=True)\n",
    "# fig.show()\n",
    "# # Update the model's learning rate with the suggestion:\n",
    "# tft.hparams.learning_rate = suggested_lr\n"
   ]
  },
  {
   "cell_type": "code",
   "execution_count": null,
   "id": "0783393d-a1d9-4a97-a233-bbf98a348f37",
   "metadata": {},
   "outputs": [],
   "source": [
    "# # --- Wrap the model in a simple LightningModule wrapper ---\n",
    "# class TFTLightningWrapper(pl.LightningModule):\n",
    "#     def __init__(self, model):\n",
    "#         super().__init__()\n",
    "#         self.tft = model\n",
    "#         self.loss_fn = self.tft.loss  # Use the loss defined in TFT\n",
    "\n",
    "#     def forward(self, batch):\n",
    "#         # TFT expects a dictionary input from the DataLoader.\n",
    "#         return self.tft(batch)\n",
    "\n",
    "#     def training_step(self, batch, batch_idx):\n",
    "#         x, (y, weight) = batch  # Unpack batch as (x, (y, weight))\n",
    "#         y_hat = self(x)\n",
    "#         loss = self.loss_fn(y_hat, y)\n",
    "#         self.log(\"train_loss\", loss)\n",
    "#         return loss\n",
    "\n",
    "#     def configure_optimizers(self):\n",
    "#         return torch.optim.Adam(self.parameters(), lr=1e-3)"
   ]
  },
  {
   "cell_type": "code",
   "execution_count": null,
   "id": "d49d1071-abc2-472e-9843-58ba55cb3391",
   "metadata": {},
   "outputs": [],
   "source": [
    "# # # Wrap your TFT model\n",
    "# wrapped_tft = TFTLightningWrapper(tft)"
   ]
  },
  {
   "cell_type": "code",
   "execution_count": null,
   "id": "e36b75bd-5fe0-4479-8775-04e4a7cf74a8",
   "metadata": {
    "scrolled": true
   },
   "outputs": [],
   "source": [
    "# tft.train()\n",
    "# # wrapped_tft.tft()"
   ]
  },
  {
   "cell_type": "code",
   "execution_count": null,
   "id": "a43ff520-98b9-4ad2-9c5f-3289269c5891",
   "metadata": {},
   "outputs": [],
   "source": [
    "# --- Define Trainer (using Lightning 2.5.1 syntax) ---\n",
    "# Define Trainer\n",
    "trainer = Trainer(\n",
    "    accelerator=\"gpu\" if torch.cuda.is_available() else \"cpu\",\n",
    "    devices=1,\n",
    "    max_epochs=1,  # For tuning purposes\n",
    "    precision=\"bf16-mixed\"\n",
    ")\n"
   ]
  },
  {
   "cell_type": "code",
   "execution_count": null,
   "id": "67f4ae5e-e29a-403a-9e5e-30092aa41b36",
   "metadata": {
    "jupyter": {
     "source_hidden": true
    }
   },
   "outputs": [],
   "source": [
    "#for debugging \n",
    "# for name, param in tft.named_parameters():\n",
    "#     print(name, param.requires_grad)"
   ]
  },
  {
   "cell_type": "code",
   "execution_count": null,
   "id": "df60b05c-9970-4832-b47e-ea2fa98e400b",
   "metadata": {},
   "outputs": [],
   "source": [
    "# def configure_optimizers(self):\n",
    "#     optimizer = torch.optim.Adam(self.parameters(), lr=1e-3)\n",
    "#     return optimizer"
   ]
  },
  {
   "cell_type": "code",
   "execution_count": null,
   "id": "eb4610c2-1634-4891-a9b3-b45558624d96",
   "metadata": {
    "scrolled": true
   },
   "outputs": [],
   "source": [
    "print(tft)"
   ]
  },
  {
   "cell_type": "code",
   "execution_count": null,
   "id": "a056cbab-ec8f-483d-8197-2cf9a10b046a",
   "metadata": {},
   "outputs": [],
   "source": [
    "print(type(tft))\n"
   ]
  },
  {
   "cell_type": "code",
   "execution_count": null,
   "id": "156d61f6-ac69-405b-8020-71e28f4acca7",
   "metadata": {
    "scrolled": true
   },
   "outputs": [],
   "source": [
    "print(dir(tft))"
   ]
  },
  {
   "cell_type": "code",
   "execution_count": null,
   "id": "efdb8173-3c0e-4196-a164-d9fd4387965a",
   "metadata": {
    "jupyter": {
     "source_hidden": true
    }
   },
   "outputs": [],
   "source": [
    "#for debugging \n",
    "# inputs, targets = next(iter(train_dataloader))  # Assuming you have a DataLoader\n"
   ]
  },
  {
   "cell_type": "code",
   "execution_count": null,
   "id": "864c8033-a7f1-4931-b4c4-5bf61812b988",
   "metadata": {
    "jupyter": {
     "source_hidden": true
    }
   },
   "outputs": [],
   "source": [
    "#for debugging \n",
    "# tft.train()  # ensure training mode\n",
    "# # optimizer.zero_grad()\n",
    "# # optimizer.step()\n",
    "# print(hasattr(tft, \"loss\"))\n",
    "# print(tft.loss)"
   ]
  },
  {
   "cell_type": "code",
   "execution_count": null,
   "id": "4122adef-592d-4c3c-8502-ea9dc90f6fdc",
   "metadata": {
    "jupyter": {
     "source_hidden": true
    }
   },
   "outputs": [],
   "source": [
    "#for debugging \n",
    "# outputs = tft(inputs)\n",
    "# loss = loss_fn(outputs, targets)\n",
    "# print(loss.requires_grad)  # Should be True\n",
    "# loss.backward()"
   ]
  },
  {
   "cell_type": "code",
   "execution_count": null,
   "id": "f9da4bb0-179a-4a90-953a-c6b83ec7630e",
   "metadata": {
    "jupyter": {
     "source_hidden": true
    }
   },
   "outputs": [],
   "source": [
    "#for debugging \n",
    "#def quantile_loss(y_pred, y_true, quantiles=[0.1, 0.5, 0.9]):\n",
    "#     losses = []\n",
    "#     for i, q in enumerate(quantiles):\n",
    "#         errors = y_true - y_pred[..., i]  # Ensure correct indexing\n",
    "#         losses.append(torch.max(q * errors, (q - 1) * errors).mean())\n",
    "#     return sum(losses)\n",
    "\n",
    "# loss_fn = quantile_loss\n",
    "# loss = loss_fn(outputs[0], targets)  # Use outputs[0] if it's the main tensor\n",
    "# loss.backward()"
   ]
  },
  {
   "cell_type": "code",
   "execution_count": null,
   "id": "56693436-c48c-4aa5-97ce-75b4f8dcd667",
   "metadata": {
    "jupyter": {
     "source_hidden": true
    }
   },
   "outputs": [],
   "source": [
    "#for debugging \n",
    "# outputs = tft(inputs)\n",
    "# loss_fn = quantile_loss\n",
    "# loss = loss_fn(outputs, targets)\n",
    "# print(loss.requires_grad)  # should be True\n",
    "# loss.backward()\n"
   ]
  },
  {
   "cell_type": "code",
   "execution_count": null,
   "id": "b3a67197-f923-4cf9-9476-e99fe3592699",
   "metadata": {},
   "outputs": [],
   "source": [
    "# class TFTDataModule(LightningDataModule):\n",
    "#     def __init__(self, train_dataloader, val_dataloader):\n",
    "#         super().__init__()\n",
    "#         self.train_dataloader_instance = train_dataloader\n",
    "#         self.val_dataloader_instance = val_dataloader\n",
    "\n",
    "#     def train_dataloader(self):\n",
    "#         return self.train_dataloader_instance\n",
    "\n",
    "#     def val_dataloader(self):\n",
    "#         return self.val_dataloader_instance"
   ]
  },
  {
   "cell_type": "code",
   "execution_count": null,
   "id": "c6e03fbb-68f0-4060-9a9f-c7c89f1a3251",
   "metadata": {},
   "outputs": [],
   "source": [
    "# class TFTModel(LightningModule):\n",
    "#     def __init__(self, batch_size=32, learning_rate=1e-3):  # Default values\n",
    "#         super().__init__()\n",
    "#         self.save_hyperparameters()  # Saves batch_size & lr to hparams\n",
    "#         self.batch_size = batch_size\n",
    "#         self.learning_rate = learning_rate\n",
    "        \n",
    "#         # Define your model layers here\n",
    "\n",
    "#     def configure_optimizers(self):\n",
    "#         return torch.optim.Adam(self.parameters(), lr=self.learning_rate)"
   ]
  },
  {
   "cell_type": "code",
   "execution_count": null,
   "id": "f8881bbd-c709-493b-ac3e-185d99b9d791",
   "metadata": {},
   "outputs": [],
   "source": [
    "print(trainer.callbacks)"
   ]
  },
  {
   "cell_type": "code",
   "execution_count": null,
   "id": "6cab0604-e33c-4de5-8969-41e4a3d2a83e",
   "metadata": {},
   "outputs": [],
   "source": [
    "# trainer.callbacks = [cb for cb in trainer.callbacks if not isinstance(cb, BatchSizeFinder)]"
   ]
  },
  {
   "cell_type": "code",
   "execution_count": null,
   "id": "810d95cb-951c-4add-8e4c-a57ddf13e304",
   "metadata": {},
   "outputs": [],
   "source": [
    "# tft.hparams.batch_size = 32  # Set initial batch size"
   ]
  },
  {
   "cell_type": "code",
   "execution_count": null,
   "id": "b4328a12-e5b1-44e8-8ee2-ad778c4317df",
   "metadata": {},
   "outputs": [],
   "source": [
    "# tuner = Tuner(trainer)\n",
    "\n",
    "# # Wrap dataloaders inside the LightningDataModule\n",
    "# data_module = TFTDataModule(train_dataloader, val_dataloader)\n",
    "\n",
    "# # Find optimal batch size\n",
    "# optimal_batch_size = tuner.scale_batch_size(\n",
    "#     model=tft,\n",
    "#     datamodule=data_module,  # Use LightningDataModule\n",
    "#     mode=\"power\"\n",
    "# )\n",
    "# print(f\"Optimal batch size: {optimal_batch_size}\")\n"
   ]
  },
  {
   "cell_type": "code",
   "execution_count": null,
   "id": "23e098a9-d4bf-454c-92d5-cf13644b5564",
   "metadata": {},
   "outputs": [],
   "source": [
    "# # configure network and trainer\n",
    "# pl.seed_everything(69)\n",
    "# trainer = pl.Trainer(\n",
    "#     accelerator=\"gpu\",  # Specify that you're using GPU\n",
    "#     devices=1,          # Use one GPU\n",
    "#     gradient_clip_val=0.1,\n",
    "#     max_epochs=20,\n",
    "# )"
   ]
  },
  {
   "cell_type": "code",
   "execution_count": null,
   "id": "84ecda39-0151-483d-9129-88f76da72d25",
   "metadata": {},
   "outputs": [],
   "source": [
    "# # Create a Tuner instance with the trainer\n",
    "# tuner = Tuner(trainer)"
   ]
  },
  {
   "cell_type": "code",
   "execution_count": null,
   "id": "3bbbc445-0a27-4c3f-bc1a-f1aab6a21b6d",
   "metadata": {},
   "outputs": [],
   "source": [
    "# res = trainer.tuner.lr_find(\n",
    "#     tft,\n",
    "#     train_dataloaders=train_dataloader,\n",
    "#     val_dataloaders=val_dataloader,\n",
    "#     max_lr=10.0,\n",
    "#     min_lr=1e-6,\n",
    "# )\n",
    "\n",
    "# print(f\"suggested learning rate: {res.suggestion()}\")\n",
    "# fig = res.plot(show=True, suggest=True)\n",
    "# fig.show()"
   ]
  },
  {
   "cell_type": "code",
   "execution_count": null,
   "id": "bd1e70be-c955-4c39-8cdd-ffd5fb389a24",
   "metadata": {},
   "outputs": [],
   "source": [
    "# # --- Learning Rate Finder ---\n",
    "# lr_finder = tuner.lr_find(\n",
    "#     model=tft,\n",
    "#     train_dataloaders=train_dataloader,\n",
    "#     val_dataloaders=val_dataloader,\n",
    "#     min_lr=1e-8,\n",
    "#     max_lr=1,\n",
    "#     num_training=100,   # Number of batches to test\n",
    "#     mode=\"exponential\", # You can also try \"linear\"\n",
    "#     early_stop_threshold=4.0,  # Stop early if loss gets too high\n",
    "# )\n",
    "\n",
    "# # Print suggested learning rate and plot the lr finder result\n",
    "# print(f\"Suggested learning rate: {lr_finder.suggestion()}\")\n",
    "# fig = lr_finder.plot(show=True, suggest=True)\n",
    "# fig.show()"
   ]
  },
  {
   "cell_type": "code",
   "execution_count": null,
   "id": "40fbe719-7917-4542-bfd6-f1577303b06b",
   "metadata": {},
   "outputs": [],
   "source": [
    "# # --- Batch Size Scaling ---\n",
    "# optimal_batch_size = tuner.scale_batch_size(\n",
    "#     model=tft,\n",
    "#     train_dataloaders=train_dataloader,\n",
    "#     val_dataloaders=val_dataloader,\n",
    "#     method=\"binsearch\",   # Or \"power\" for exponential growth\n",
    "#     steps_per_trial=3,     # Number of steps to test each batch size\n",
    "#     init_val=2,            # Starting batch size to test\n",
    "#     max_trials=25,         # Maximum number of batch size increases\n",
    "#     batch_arg_name=\"batch_size\",  # The hyperparameter name to update\n",
    "# )\n",
    "\n",
    "# print(\"Optimal batch size:\", optimal_batch_size)"
   ]
  },
  {
   "cell_type": "code",
   "execution_count": null,
   "id": "8dfc001f-10bc-450a-8450-83da23e43aa3",
   "metadata": {},
   "outputs": [],
   "source": [
    "# Set Up Trainer with GPU Acceleration\n",
    "# pl.seed_everything(69)\n",
    "# trainer = Trainer(\n",
    "#     max_epochs=50,  # Can increase if needed\n",
    "#     gradient_clip_val=0.1,  # Helps prevent exploding gradients\n",
    "#     callbacks=[checkpoint_callback,earlystopping_callback],\n",
    "#     accelerator=\"gpu\" if torch.cuda.is_available() else \"cpu\",\n",
    "#     devices=1 if torch.cuda.is_available() else None,  # Use GPU if available\n",
    "#     precision=\"bf16-mixed\",\n",
    "#     profiler=\"simple\",\n",
    "#     log_every_n_steps=50  # Log less frequently\n",
    "# )"
   ]
  },
  {
   "cell_type": "code",
   "execution_count": null,
   "id": "f416a5b5-a310-4fd6-857c-656b8c00e6bc",
   "metadata": {},
   "outputs": [],
   "source": [
    "print(f\"Number of parameters in network: {tft.size()/1e3:.1f}k\")\n"
   ]
  },
  {
   "cell_type": "code",
   "execution_count": null,
   "id": "9c89fd02-9c01-415c-bce7-14db89995489",
   "metadata": {},
   "outputs": [],
   "source": [
    "#Find optimal learning rate"
   ]
  },
  {
   "cell_type": "code",
   "execution_count": null,
   "id": "534d8c27-30e6-415b-a0a6-3997ce5321c9",
   "metadata": {},
   "outputs": [],
   "source": [
    "# res = trainer.lr_find(\n",
    "#     tft,\n",
    "#     train_dataloaders=train_dataloader,\n",
    "#     val_dataloaders=val_dataloader,\n",
    "#     max_lr=10.0,\n",
    "#     min_lr=1e-6,\n",
    "# )\n",
    "# print(f\"Suggested learning rate: {res.suggestion()}\")\n",
    "# fig = res.plot(show=True, suggest=True)\n",
    "# fig.show()\n"
   ]
  },
  {
   "cell_type": "code",
   "execution_count": null,
   "id": "0e6d15f3-7e26-4a4f-883b-9b2d04561270",
   "metadata": {},
   "outputs": [],
   "source": [
    "#Train model"
   ]
  },
  {
   "cell_type": "code",
   "execution_count": null,
   "id": "e25039c6-7e5d-4160-a24b-a16844ae0726",
   "metadata": {},
   "outputs": [],
   "source": [
    "#callbacks\n",
    "checkpoint_callback = ModelCheckpoint(\n",
    "    dirpath=\"checkpoints/\",  # Directory to save models\n",
    "    filename=\"tft_epoch_{epoch:02d}\",  # Naming format\n",
    "    save_top_k=-1,  # Save all epochs\n",
    "    every_n_epochs=1,  # Save after every epoch\n",
    ")\n",
    "lr_logger = LearningRateMonitor()  # log the learning rate\n",
    "earlystopping_callback=EarlyStopping(\n",
    "    monitor=\"val_loss\",\n",
    "     min_delta=1e-4,\n",
    "    patience=10,verbose=False, mode=\"min\")\n",
    "logger = TensorBoardLogger(\"lightning_logs\")  # logging results to a tensorboard\n"
   ]
  },
  {
   "cell_type": "code",
   "execution_count": null,
   "id": "21a88c90-3553-4721-87db-e24ff4ddf1a1",
   "metadata": {},
   "outputs": [],
   "source": [
    "# print(f\"Number of parameters in network: {tft.size()/1e3:.1f}k\")\n"
   ]
  },
  {
   "cell_type": "code",
   "execution_count": null,
   "id": "2adccb9b-e40e-4b1b-ac12-3ee949c9d3a4",
   "metadata": {},
   "outputs": [],
   "source": [
    "# fit network\n",
    "trainer.fit(\n",
    "    tft,\n",
    "    train_dataloaders=train_dataloader,\n",
    "    val_dataloaders=val_dataloader,\n",
    ")\n"
   ]
  }
 ],
 "metadata": {
  "kernelspec": {
   "display_name": "Python 3 (ipykernel)",
   "language": "python",
   "name": "python3"
  },
  "language_info": {
   "codemirror_mode": {
    "name": "ipython",
    "version": 3
   },
   "file_extension": ".py",
   "mimetype": "text/x-python",
   "name": "python",
   "nbconvert_exporter": "python",
   "pygments_lexer": "ipython3",
   "version": "3.10.16"
  }
 },
 "nbformat": 4,
 "nbformat_minor": 5
}
